{
  "nbformat": 4,
  "nbformat_minor": 0,
  "metadata": {
    "colab": {
      "name": "NB.ipynb의 사본",
      "provenance": [],
      "collapsed_sections": [],
      "toc_visible": true,
      "mount_file_id": "1288_yI0vPZingJX6DcF6koRdgGikDE8i",
      "authorship_tag": "ABX9TyN7sncmLFaSBg1WQop/M0MY"
    },
    "kernelspec": {
      "name": "python3",
      "display_name": "Python 3"
    },
    "language_info": {
      "name": "python"
    }
  },
  "cells": [
    {
      "cell_type": "code",
      "metadata": {
        "id": "bGVtedzkRI39",
        "colab": {
          "base_uri": "https://localhost:8080/"
        },
        "outputId": "e89bae30-3dd3-4293-a00e-a4c8b3085060"
      },
      "source": [
        "import pandas as pd\n",
        "import numpy as np\n",
        "#import seaborn as sns\n",
        "#import matplotlib.pyplot as plt\n",
        "#%matplotlib inline\n",
        "from sklearn.naive_bayes import GaussianNB, MultinomialNB, CategoricalNB, ComplementNB\n",
        "from sklearn import metrics\n",
        "from imblearn.over_sampling import SMOTE"
      ],
      "execution_count": 1,
      "outputs": [
        {
          "output_type": "stream",
          "text": [
            "/usr/local/lib/python3.7/dist-packages/sklearn/externals/six.py:31: FutureWarning: The module is deprecated in version 0.21 and will be removed in version 0.23 since we've dropped support for Python 2.7. Please rely on the official version of six (https://pypi.org/project/six/).\n",
            "  \"(https://pypi.org/project/six/).\", FutureWarning)\n",
            "/usr/local/lib/python3.7/dist-packages/sklearn/utils/deprecation.py:144: FutureWarning: The sklearn.neighbors.base module is  deprecated in version 0.22 and will be removed in version 0.24. The corresponding classes / functions should instead be imported from sklearn.neighbors. Anything that cannot be imported from sklearn.neighbors is now part of the private API.\n",
            "  warnings.warn(message, FutureWarning)\n"
          ],
          "name": "stderr"
        }
      ]
    },
    {
      "cell_type": "code",
      "metadata": {
        "id": "IsulkbsfjMt2"
      },
      "source": [
        "test = '/content/drive/MyDrive/data/hotel_test.csv'\n",
        "train = '/content/drive/MyDrive/data/hotel_train.csv'"
      ],
      "execution_count": 2,
      "outputs": []
    },
    {
      "cell_type": "code",
      "metadata": {
        "colab": {
          "base_uri": "https://localhost:8080/",
          "height": 773
        },
        "id": "M72Vw9HkiWes",
        "outputId": "1c2a1e6f-79a8-4a30-b8d6-bf586d0d5463"
      },
      "source": [
        "df_test = pd.read_csv(test)\n",
        "df_test = df_test.drop('Unnamed: 0',axis=1)\n",
        "df_test"
      ],
      "execution_count": 3,
      "outputs": [
        {
          "output_type": "execute_result",
          "data": {
            "text/html": [
              "<div>\n",
              "<style scoped>\n",
              "    .dataframe tbody tr th:only-of-type {\n",
              "        vertical-align: middle;\n",
              "    }\n",
              "\n",
              "    .dataframe tbody tr th {\n",
              "        vertical-align: top;\n",
              "    }\n",
              "\n",
              "    .dataframe thead th {\n",
              "        text-align: right;\n",
              "    }\n",
              "</style>\n",
              "<table border=\"1\" class=\"dataframe\">\n",
              "  <thead>\n",
              "    <tr style=\"text-align: right;\">\n",
              "      <th></th>\n",
              "      <th>srch_id</th>\n",
              "      <th>date_time</th>\n",
              "      <th>site_id</th>\n",
              "      <th>visitor_location_country_id</th>\n",
              "      <th>visitor_hist_starrating</th>\n",
              "      <th>visitor_hist_adr_usd</th>\n",
              "      <th>prop_country_id</th>\n",
              "      <th>prop_id</th>\n",
              "      <th>prop_starrating</th>\n",
              "      <th>prop_review_score</th>\n",
              "      <th>prop_brand_bool</th>\n",
              "      <th>prop_location_score1</th>\n",
              "      <th>prop_location_score2</th>\n",
              "      <th>prop_log_historical_price</th>\n",
              "      <th>price_usd</th>\n",
              "      <th>promotion_flag</th>\n",
              "      <th>srch_destination_id</th>\n",
              "      <th>srch_length_of_stay</th>\n",
              "      <th>srch_booking_window</th>\n",
              "      <th>srch_adults_count</th>\n",
              "      <th>srch_children_count</th>\n",
              "      <th>srch_room_count</th>\n",
              "      <th>srch_saturday_night_bool</th>\n",
              "      <th>srch_query_affinity_score</th>\n",
              "      <th>orig_destination_distance</th>\n",
              "    </tr>\n",
              "  </thead>\n",
              "  <tbody>\n",
              "    <tr>\n",
              "      <th>0</th>\n",
              "      <td>480130</td>\n",
              "      <td>2012-12-27 21:46:49</td>\n",
              "      <td>32</td>\n",
              "      <td>220</td>\n",
              "      <td>0.0</td>\n",
              "      <td>0.0</td>\n",
              "      <td>53</td>\n",
              "      <td>40809</td>\n",
              "      <td>5</td>\n",
              "      <td>5.0</td>\n",
              "      <td>1</td>\n",
              "      <td>4.88</td>\n",
              "      <td>0.0754</td>\n",
              "      <td>5.75</td>\n",
              "      <td>291.58</td>\n",
              "      <td>0</td>\n",
              "      <td>6005</td>\n",
              "      <td>2</td>\n",
              "      <td>33</td>\n",
              "      <td>1</td>\n",
              "      <td>0</td>\n",
              "      <td>1</td>\n",
              "      <td>0</td>\n",
              "      <td>0.0</td>\n",
              "      <td>5410.16</td>\n",
              "    </tr>\n",
              "    <tr>\n",
              "      <th>1</th>\n",
              "      <td>375759</td>\n",
              "      <td>2013-03-29 09:00:07</td>\n",
              "      <td>5</td>\n",
              "      <td>219</td>\n",
              "      <td>0.0</td>\n",
              "      <td>0.0</td>\n",
              "      <td>219</td>\n",
              "      <td>136308</td>\n",
              "      <td>3</td>\n",
              "      <td>4.0</td>\n",
              "      <td>1</td>\n",
              "      <td>1.61</td>\n",
              "      <td>0.0000</td>\n",
              "      <td>4.81</td>\n",
              "      <td>103.00</td>\n",
              "      <td>0</td>\n",
              "      <td>9147</td>\n",
              "      <td>4</td>\n",
              "      <td>55</td>\n",
              "      <td>3</td>\n",
              "      <td>0</td>\n",
              "      <td>1</td>\n",
              "      <td>1</td>\n",
              "      <td>0.0</td>\n",
              "      <td>1413.00</td>\n",
              "    </tr>\n",
              "    <tr>\n",
              "      <th>2</th>\n",
              "      <td>75275</td>\n",
              "      <td>2013-03-10 13:34:07</td>\n",
              "      <td>5</td>\n",
              "      <td>219</td>\n",
              "      <td>0.0</td>\n",
              "      <td>0.0</td>\n",
              "      <td>219</td>\n",
              "      <td>11948</td>\n",
              "      <td>4</td>\n",
              "      <td>4.5</td>\n",
              "      <td>0</td>\n",
              "      <td>2.48</td>\n",
              "      <td>0.0761</td>\n",
              "      <td>5.51</td>\n",
              "      <td>112.00</td>\n",
              "      <td>1</td>\n",
              "      <td>3095</td>\n",
              "      <td>2</td>\n",
              "      <td>75</td>\n",
              "      <td>1</td>\n",
              "      <td>0</td>\n",
              "      <td>1</td>\n",
              "      <td>1</td>\n",
              "      <td>0.0</td>\n",
              "      <td>78.42</td>\n",
              "    </tr>\n",
              "    <tr>\n",
              "      <th>3</th>\n",
              "      <td>349998</td>\n",
              "      <td>2013-03-20 12:43:53</td>\n",
              "      <td>5</td>\n",
              "      <td>219</td>\n",
              "      <td>0.0</td>\n",
              "      <td>0.0</td>\n",
              "      <td>219</td>\n",
              "      <td>66813</td>\n",
              "      <td>4</td>\n",
              "      <td>5.0</td>\n",
              "      <td>1</td>\n",
              "      <td>2.30</td>\n",
              "      <td>0.0220</td>\n",
              "      <td>5.01</td>\n",
              "      <td>129.00</td>\n",
              "      <td>0</td>\n",
              "      <td>9975</td>\n",
              "      <td>2</td>\n",
              "      <td>7</td>\n",
              "      <td>3</td>\n",
              "      <td>0</td>\n",
              "      <td>1</td>\n",
              "      <td>0</td>\n",
              "      <td>0.0</td>\n",
              "      <td>210.95</td>\n",
              "    </tr>\n",
              "    <tr>\n",
              "      <th>4</th>\n",
              "      <td>601627</td>\n",
              "      <td>2013-05-01 23:36:43</td>\n",
              "      <td>26</td>\n",
              "      <td>39</td>\n",
              "      <td>0.0</td>\n",
              "      <td>0.0</td>\n",
              "      <td>98</td>\n",
              "      <td>73890</td>\n",
              "      <td>5</td>\n",
              "      <td>4.5</td>\n",
              "      <td>0</td>\n",
              "      <td>3.64</td>\n",
              "      <td>0.0274</td>\n",
              "      <td>5.77</td>\n",
              "      <td>119.24</td>\n",
              "      <td>1</td>\n",
              "      <td>23561</td>\n",
              "      <td>3</td>\n",
              "      <td>77</td>\n",
              "      <td>2</td>\n",
              "      <td>0</td>\n",
              "      <td>1</td>\n",
              "      <td>0</td>\n",
              "      <td>0.0</td>\n",
              "      <td>0.00</td>\n",
              "    </tr>\n",
              "    <tr>\n",
              "      <th>...</th>\n",
              "      <td>...</td>\n",
              "      <td>...</td>\n",
              "      <td>...</td>\n",
              "      <td>...</td>\n",
              "      <td>...</td>\n",
              "      <td>...</td>\n",
              "      <td>...</td>\n",
              "      <td>...</td>\n",
              "      <td>...</td>\n",
              "      <td>...</td>\n",
              "      <td>...</td>\n",
              "      <td>...</td>\n",
              "      <td>...</td>\n",
              "      <td>...</td>\n",
              "      <td>...</td>\n",
              "      <td>...</td>\n",
              "      <td>...</td>\n",
              "      <td>...</td>\n",
              "      <td>...</td>\n",
              "      <td>...</td>\n",
              "      <td>...</td>\n",
              "      <td>...</td>\n",
              "      <td>...</td>\n",
              "      <td>...</td>\n",
              "      <td>...</td>\n",
              "    </tr>\n",
              "    <tr>\n",
              "      <th>1999995</th>\n",
              "      <td>134853</td>\n",
              "      <td>2013-04-04 14:25:04</td>\n",
              "      <td>15</td>\n",
              "      <td>55</td>\n",
              "      <td>0.0</td>\n",
              "      <td>0.0</td>\n",
              "      <td>55</td>\n",
              "      <td>137991</td>\n",
              "      <td>4</td>\n",
              "      <td>4.5</td>\n",
              "      <td>1</td>\n",
              "      <td>4.25</td>\n",
              "      <td>0.0117</td>\n",
              "      <td>5.68</td>\n",
              "      <td>274.22</td>\n",
              "      <td>0</td>\n",
              "      <td>10979</td>\n",
              "      <td>2</td>\n",
              "      <td>80</td>\n",
              "      <td>3</td>\n",
              "      <td>0</td>\n",
              "      <td>1</td>\n",
              "      <td>0</td>\n",
              "      <td>0.0</td>\n",
              "      <td>0.00</td>\n",
              "    </tr>\n",
              "    <tr>\n",
              "      <th>1999996</th>\n",
              "      <td>104260</td>\n",
              "      <td>2013-05-27 11:09:38</td>\n",
              "      <td>5</td>\n",
              "      <td>219</td>\n",
              "      <td>0.0</td>\n",
              "      <td>0.0</td>\n",
              "      <td>219</td>\n",
              "      <td>82248</td>\n",
              "      <td>3</td>\n",
              "      <td>5.0</td>\n",
              "      <td>1</td>\n",
              "      <td>0.69</td>\n",
              "      <td>0.0161</td>\n",
              "      <td>4.46</td>\n",
              "      <td>69.00</td>\n",
              "      <td>0</td>\n",
              "      <td>18175</td>\n",
              "      <td>1</td>\n",
              "      <td>16</td>\n",
              "      <td>2</td>\n",
              "      <td>0</td>\n",
              "      <td>1</td>\n",
              "      <td>0</td>\n",
              "      <td>0.0</td>\n",
              "      <td>0.00</td>\n",
              "    </tr>\n",
              "    <tr>\n",
              "      <th>1999997</th>\n",
              "      <td>248343</td>\n",
              "      <td>2013-03-27 19:05:47</td>\n",
              "      <td>14</td>\n",
              "      <td>100</td>\n",
              "      <td>0.0</td>\n",
              "      <td>0.0</td>\n",
              "      <td>100</td>\n",
              "      <td>51555</td>\n",
              "      <td>4</td>\n",
              "      <td>4.5</td>\n",
              "      <td>1</td>\n",
              "      <td>4.63</td>\n",
              "      <td>0.1602</td>\n",
              "      <td>5.30</td>\n",
              "      <td>139.76</td>\n",
              "      <td>1</td>\n",
              "      <td>2142</td>\n",
              "      <td>1</td>\n",
              "      <td>9</td>\n",
              "      <td>2</td>\n",
              "      <td>0</td>\n",
              "      <td>1</td>\n",
              "      <td>1</td>\n",
              "      <td>0.0</td>\n",
              "      <td>102.77</td>\n",
              "    </tr>\n",
              "    <tr>\n",
              "      <th>1999998</th>\n",
              "      <td>248298</td>\n",
              "      <td>2012-11-28 08:07:11</td>\n",
              "      <td>5</td>\n",
              "      <td>215</td>\n",
              "      <td>0.0</td>\n",
              "      <td>0.0</td>\n",
              "      <td>215</td>\n",
              "      <td>109359</td>\n",
              "      <td>4</td>\n",
              "      <td>3.5</td>\n",
              "      <td>0</td>\n",
              "      <td>6.05</td>\n",
              "      <td>0.0000</td>\n",
              "      <td>5.24</td>\n",
              "      <td>85.00</td>\n",
              "      <td>0</td>\n",
              "      <td>14828</td>\n",
              "      <td>3</td>\n",
              "      <td>0</td>\n",
              "      <td>1</td>\n",
              "      <td>0</td>\n",
              "      <td>1</td>\n",
              "      <td>0</td>\n",
              "      <td>0.0</td>\n",
              "      <td>0.00</td>\n",
              "    </tr>\n",
              "    <tr>\n",
              "      <th>1999999</th>\n",
              "      <td>427295</td>\n",
              "      <td>2013-01-08 10:00:36</td>\n",
              "      <td>22</td>\n",
              "      <td>92</td>\n",
              "      <td>0.0</td>\n",
              "      <td>0.0</td>\n",
              "      <td>92</td>\n",
              "      <td>92829</td>\n",
              "      <td>3</td>\n",
              "      <td>4.5</td>\n",
              "      <td>0</td>\n",
              "      <td>1.79</td>\n",
              "      <td>0.2799</td>\n",
              "      <td>4.37</td>\n",
              "      <td>70.81</td>\n",
              "      <td>0</td>\n",
              "      <td>25946</td>\n",
              "      <td>2</td>\n",
              "      <td>13</td>\n",
              "      <td>2</td>\n",
              "      <td>0</td>\n",
              "      <td>1</td>\n",
              "      <td>0</td>\n",
              "      <td>0.0</td>\n",
              "      <td>0.00</td>\n",
              "    </tr>\n",
              "  </tbody>\n",
              "</table>\n",
              "<p>2000000 rows × 25 columns</p>\n",
              "</div>"
            ],
            "text/plain": [
              "         srch_id  ... orig_destination_distance\n",
              "0         480130  ...                   5410.16\n",
              "1         375759  ...                   1413.00\n",
              "2          75275  ...                     78.42\n",
              "3         349998  ...                    210.95\n",
              "4         601627  ...                      0.00\n",
              "...          ...  ...                       ...\n",
              "1999995   134853  ...                      0.00\n",
              "1999996   104260  ...                      0.00\n",
              "1999997   248343  ...                    102.77\n",
              "1999998   248298  ...                      0.00\n",
              "1999999   427295  ...                      0.00\n",
              "\n",
              "[2000000 rows x 25 columns]"
            ]
          },
          "metadata": {
            "tags": []
          },
          "execution_count": 3
        }
      ]
    },
    {
      "cell_type": "code",
      "metadata": {
        "colab": {
          "base_uri": "https://localhost:8080/",
          "height": 773
        },
        "id": "hqFQHmJWhM95",
        "outputId": "89f464d4-8bba-4425-b1ea-67219cff9220"
      },
      "source": [
        "df_train = pd.read_csv(train)\n",
        "df_train = df_train.drop('Unnamed: 0',axis=1)\n",
        "df_train"
      ],
      "execution_count": 4,
      "outputs": [
        {
          "output_type": "execute_result",
          "data": {
            "text/html": [
              "<div>\n",
              "<style scoped>\n",
              "    .dataframe tbody tr th:only-of-type {\n",
              "        vertical-align: middle;\n",
              "    }\n",
              "\n",
              "    .dataframe tbody tr th {\n",
              "        vertical-align: top;\n",
              "    }\n",
              "\n",
              "    .dataframe thead th {\n",
              "        text-align: right;\n",
              "    }\n",
              "</style>\n",
              "<table border=\"1\" class=\"dataframe\">\n",
              "  <thead>\n",
              "    <tr style=\"text-align: right;\">\n",
              "      <th></th>\n",
              "      <th>srch_id</th>\n",
              "      <th>date_time</th>\n",
              "      <th>site_id</th>\n",
              "      <th>visitor_location_country_id</th>\n",
              "      <th>visitor_hist_starrating</th>\n",
              "      <th>visitor_hist_adr_usd</th>\n",
              "      <th>prop_country_id</th>\n",
              "      <th>prop_id</th>\n",
              "      <th>prop_starrating</th>\n",
              "      <th>prop_review_score</th>\n",
              "      <th>prop_brand_bool</th>\n",
              "      <th>prop_location_score1</th>\n",
              "      <th>prop_location_score2</th>\n",
              "      <th>prop_log_historical_price</th>\n",
              "      <th>price_usd</th>\n",
              "      <th>promotion_flag</th>\n",
              "      <th>srch_destination_id</th>\n",
              "      <th>srch_length_of_stay</th>\n",
              "      <th>srch_booking_window</th>\n",
              "      <th>srch_adults_count</th>\n",
              "      <th>srch_children_count</th>\n",
              "      <th>srch_room_count</th>\n",
              "      <th>srch_saturday_night_bool</th>\n",
              "      <th>srch_query_affinity_score</th>\n",
              "      <th>orig_destination_distance</th>\n",
              "    </tr>\n",
              "  </thead>\n",
              "  <tbody>\n",
              "    <tr>\n",
              "      <th>0</th>\n",
              "      <td>31</td>\n",
              "      <td>2013-05-28 22:05:02</td>\n",
              "      <td>24</td>\n",
              "      <td>216</td>\n",
              "      <td>0.0</td>\n",
              "      <td>0.0</td>\n",
              "      <td>15</td>\n",
              "      <td>122877</td>\n",
              "      <td>1</td>\n",
              "      <td>1.5</td>\n",
              "      <td>0</td>\n",
              "      <td>4.04</td>\n",
              "      <td>0.0000</td>\n",
              "      <td>5.10</td>\n",
              "      <td>73.84</td>\n",
              "      <td>0</td>\n",
              "      <td>19144</td>\n",
              "      <td>1</td>\n",
              "      <td>214</td>\n",
              "      <td>2</td>\n",
              "      <td>2</td>\n",
              "      <td>1</td>\n",
              "      <td>1</td>\n",
              "      <td>0.0</td>\n",
              "      <td>0.00</td>\n",
              "    </tr>\n",
              "    <tr>\n",
              "      <th>1</th>\n",
              "      <td>43</td>\n",
              "      <td>2013-01-09 16:45:45</td>\n",
              "      <td>5</td>\n",
              "      <td>219</td>\n",
              "      <td>0.0</td>\n",
              "      <td>0.0</td>\n",
              "      <td>219</td>\n",
              "      <td>77411</td>\n",
              "      <td>1</td>\n",
              "      <td>3.0</td>\n",
              "      <td>0</td>\n",
              "      <td>3.43</td>\n",
              "      <td>0.0000</td>\n",
              "      <td>4.99</td>\n",
              "      <td>50.00</td>\n",
              "      <td>0</td>\n",
              "      <td>15066</td>\n",
              "      <td>1</td>\n",
              "      <td>11</td>\n",
              "      <td>2</td>\n",
              "      <td>0</td>\n",
              "      <td>1</td>\n",
              "      <td>0</td>\n",
              "      <td>0.0</td>\n",
              "      <td>113.88</td>\n",
              "    </tr>\n",
              "    <tr>\n",
              "      <th>2</th>\n",
              "      <td>126</td>\n",
              "      <td>2013-03-30 11:31:29</td>\n",
              "      <td>32</td>\n",
              "      <td>220</td>\n",
              "      <td>0.0</td>\n",
              "      <td>0.0</td>\n",
              "      <td>221</td>\n",
              "      <td>3526</td>\n",
              "      <td>1</td>\n",
              "      <td>4.0</td>\n",
              "      <td>0</td>\n",
              "      <td>4.44</td>\n",
              "      <td>0.2020</td>\n",
              "      <td>4.64</td>\n",
              "      <td>79.18</td>\n",
              "      <td>0</td>\n",
              "      <td>27953</td>\n",
              "      <td>2</td>\n",
              "      <td>117</td>\n",
              "      <td>4</td>\n",
              "      <td>0</td>\n",
              "      <td>2</td>\n",
              "      <td>1</td>\n",
              "      <td>0.0</td>\n",
              "      <td>0.00</td>\n",
              "    </tr>\n",
              "    <tr>\n",
              "      <th>3</th>\n",
              "      <td>136</td>\n",
              "      <td>2013-04-04 18:43:37</td>\n",
              "      <td>5</td>\n",
              "      <td>219</td>\n",
              "      <td>0.0</td>\n",
              "      <td>0.0</td>\n",
              "      <td>219</td>\n",
              "      <td>75245</td>\n",
              "      <td>1</td>\n",
              "      <td>2.5</td>\n",
              "      <td>1</td>\n",
              "      <td>2.71</td>\n",
              "      <td>0.1021</td>\n",
              "      <td>4.07</td>\n",
              "      <td>40.00</td>\n",
              "      <td>0</td>\n",
              "      <td>6767</td>\n",
              "      <td>2</td>\n",
              "      <td>15</td>\n",
              "      <td>2</td>\n",
              "      <td>2</td>\n",
              "      <td>1</td>\n",
              "      <td>1</td>\n",
              "      <td>0.0</td>\n",
              "      <td>164.24</td>\n",
              "    </tr>\n",
              "    <tr>\n",
              "      <th>4</th>\n",
              "      <td>168</td>\n",
              "      <td>2013-01-04 10:27:26</td>\n",
              "      <td>12</td>\n",
              "      <td>99</td>\n",
              "      <td>0.0</td>\n",
              "      <td>0.0</td>\n",
              "      <td>132</td>\n",
              "      <td>13108</td>\n",
              "      <td>1</td>\n",
              "      <td>2.5</td>\n",
              "      <td>0</td>\n",
              "      <td>5.72</td>\n",
              "      <td>0.7098</td>\n",
              "      <td>4.72</td>\n",
              "      <td>39.21</td>\n",
              "      <td>0</td>\n",
              "      <td>27231</td>\n",
              "      <td>1</td>\n",
              "      <td>5</td>\n",
              "      <td>1</td>\n",
              "      <td>0</td>\n",
              "      <td>1</td>\n",
              "      <td>0</td>\n",
              "      <td>0.0</td>\n",
              "      <td>0.00</td>\n",
              "    </tr>\n",
              "    <tr>\n",
              "      <th>...</th>\n",
              "      <td>...</td>\n",
              "      <td>...</td>\n",
              "      <td>...</td>\n",
              "      <td>...</td>\n",
              "      <td>...</td>\n",
              "      <td>...</td>\n",
              "      <td>...</td>\n",
              "      <td>...</td>\n",
              "      <td>...</td>\n",
              "      <td>...</td>\n",
              "      <td>...</td>\n",
              "      <td>...</td>\n",
              "      <td>...</td>\n",
              "      <td>...</td>\n",
              "      <td>...</td>\n",
              "      <td>...</td>\n",
              "      <td>...</td>\n",
              "      <td>...</td>\n",
              "      <td>...</td>\n",
              "      <td>...</td>\n",
              "      <td>...</td>\n",
              "      <td>...</td>\n",
              "      <td>...</td>\n",
              "      <td>...</td>\n",
              "      <td>...</td>\n",
              "    </tr>\n",
              "    <tr>\n",
              "      <th>3039064</th>\n",
              "      <td>665566</td>\n",
              "      <td>2013-05-16 13:43:31</td>\n",
              "      <td>24</td>\n",
              "      <td>219</td>\n",
              "      <td>0.0</td>\n",
              "      <td>0.0</td>\n",
              "      <td>219</td>\n",
              "      <td>99741</td>\n",
              "      <td>3</td>\n",
              "      <td>4.5</td>\n",
              "      <td>1</td>\n",
              "      <td>1.79</td>\n",
              "      <td>0.0013</td>\n",
              "      <td>5.27</td>\n",
              "      <td>148.14</td>\n",
              "      <td>0</td>\n",
              "      <td>9402</td>\n",
              "      <td>3</td>\n",
              "      <td>84</td>\n",
              "      <td>3</td>\n",
              "      <td>2</td>\n",
              "      <td>1</td>\n",
              "      <td>1</td>\n",
              "      <td>0.0</td>\n",
              "      <td>2382.05</td>\n",
              "    </tr>\n",
              "    <tr>\n",
              "      <th>3039065</th>\n",
              "      <td>665566</td>\n",
              "      <td>2013-05-16 13:43:31</td>\n",
              "      <td>24</td>\n",
              "      <td>219</td>\n",
              "      <td>0.0</td>\n",
              "      <td>0.0</td>\n",
              "      <td>219</td>\n",
              "      <td>104685</td>\n",
              "      <td>3</td>\n",
              "      <td>4.5</td>\n",
              "      <td>1</td>\n",
              "      <td>1.79</td>\n",
              "      <td>0.0009</td>\n",
              "      <td>5.27</td>\n",
              "      <td>144.26</td>\n",
              "      <td>0</td>\n",
              "      <td>9402</td>\n",
              "      <td>3</td>\n",
              "      <td>84</td>\n",
              "      <td>3</td>\n",
              "      <td>2</td>\n",
              "      <td>1</td>\n",
              "      <td>1</td>\n",
              "      <td>0.0</td>\n",
              "      <td>2382.09</td>\n",
              "    </tr>\n",
              "    <tr>\n",
              "      <th>3039066</th>\n",
              "      <td>665566</td>\n",
              "      <td>2013-05-16 13:43:31</td>\n",
              "      <td>24</td>\n",
              "      <td>219</td>\n",
              "      <td>0.0</td>\n",
              "      <td>0.0</td>\n",
              "      <td>219</td>\n",
              "      <td>109868</td>\n",
              "      <td>4</td>\n",
              "      <td>4.0</td>\n",
              "      <td>1</td>\n",
              "      <td>3.00</td>\n",
              "      <td>0.0088</td>\n",
              "      <td>5.44</td>\n",
              "      <td>174.23</td>\n",
              "      <td>0</td>\n",
              "      <td>9402</td>\n",
              "      <td>3</td>\n",
              "      <td>84</td>\n",
              "      <td>3</td>\n",
              "      <td>2</td>\n",
              "      <td>1</td>\n",
              "      <td>1</td>\n",
              "      <td>0.0</td>\n",
              "      <td>2390.21</td>\n",
              "    </tr>\n",
              "    <tr>\n",
              "      <th>3039067</th>\n",
              "      <td>665566</td>\n",
              "      <td>2013-05-16 13:43:31</td>\n",
              "      <td>24</td>\n",
              "      <td>219</td>\n",
              "      <td>0.0</td>\n",
              "      <td>0.0</td>\n",
              "      <td>219</td>\n",
              "      <td>117582</td>\n",
              "      <td>4</td>\n",
              "      <td>4.5</td>\n",
              "      <td>1</td>\n",
              "      <td>4.54</td>\n",
              "      <td>0.0226</td>\n",
              "      <td>5.38</td>\n",
              "      <td>412.15</td>\n",
              "      <td>0</td>\n",
              "      <td>9402</td>\n",
              "      <td>3</td>\n",
              "      <td>84</td>\n",
              "      <td>3</td>\n",
              "      <td>2</td>\n",
              "      <td>1</td>\n",
              "      <td>1</td>\n",
              "      <td>0.0</td>\n",
              "      <td>2390.00</td>\n",
              "    </tr>\n",
              "    <tr>\n",
              "      <th>3039068</th>\n",
              "      <td>665566</td>\n",
              "      <td>2013-05-16 13:43:31</td>\n",
              "      <td>24</td>\n",
              "      <td>219</td>\n",
              "      <td>0.0</td>\n",
              "      <td>0.0</td>\n",
              "      <td>219</td>\n",
              "      <td>131352</td>\n",
              "      <td>3</td>\n",
              "      <td>4.0</td>\n",
              "      <td>0</td>\n",
              "      <td>5.09</td>\n",
              "      <td>0.0537</td>\n",
              "      <td>5.14</td>\n",
              "      <td>241.08</td>\n",
              "      <td>0</td>\n",
              "      <td>9402</td>\n",
              "      <td>3</td>\n",
              "      <td>84</td>\n",
              "      <td>3</td>\n",
              "      <td>2</td>\n",
              "      <td>1</td>\n",
              "      <td>1</td>\n",
              "      <td>0.0</td>\n",
              "      <td>2389.60</td>\n",
              "    </tr>\n",
              "  </tbody>\n",
              "</table>\n",
              "<p>3039069 rows × 25 columns</p>\n",
              "</div>"
            ],
            "text/plain": [
              "         srch_id  ... orig_destination_distance\n",
              "0             31  ...                      0.00\n",
              "1             43  ...                    113.88\n",
              "2            126  ...                      0.00\n",
              "3            136  ...                    164.24\n",
              "4            168  ...                      0.00\n",
              "...          ...  ...                       ...\n",
              "3039064   665566  ...                   2382.05\n",
              "3039065   665566  ...                   2382.09\n",
              "3039066   665566  ...                   2390.21\n",
              "3039067   665566  ...                   2390.00\n",
              "3039068   665566  ...                   2389.60\n",
              "\n",
              "[3039069 rows x 25 columns]"
            ]
          },
          "metadata": {
            "tags": []
          },
          "execution_count": 4
        }
      ]
    },
    {
      "cell_type": "code",
      "metadata": {
        "colab": {
          "base_uri": "https://localhost:8080/",
          "height": 437
        },
        "id": "tK3aPHmMpIsl",
        "outputId": "d7e59d93-e0d8-4804-cb6d-84b8c2eae069"
      },
      "source": [
        "df_train.iloc[:,8:16]"
      ],
      "execution_count": 5,
      "outputs": [
        {
          "output_type": "execute_result",
          "data": {
            "text/html": [
              "<div>\n",
              "<style scoped>\n",
              "    .dataframe tbody tr th:only-of-type {\n",
              "        vertical-align: middle;\n",
              "    }\n",
              "\n",
              "    .dataframe tbody tr th {\n",
              "        vertical-align: top;\n",
              "    }\n",
              "\n",
              "    .dataframe thead th {\n",
              "        text-align: right;\n",
              "    }\n",
              "</style>\n",
              "<table border=\"1\" class=\"dataframe\">\n",
              "  <thead>\n",
              "    <tr style=\"text-align: right;\">\n",
              "      <th></th>\n",
              "      <th>prop_starrating</th>\n",
              "      <th>prop_review_score</th>\n",
              "      <th>prop_brand_bool</th>\n",
              "      <th>prop_location_score1</th>\n",
              "      <th>prop_location_score2</th>\n",
              "      <th>prop_log_historical_price</th>\n",
              "      <th>price_usd</th>\n",
              "      <th>promotion_flag</th>\n",
              "    </tr>\n",
              "  </thead>\n",
              "  <tbody>\n",
              "    <tr>\n",
              "      <th>0</th>\n",
              "      <td>1</td>\n",
              "      <td>1.5</td>\n",
              "      <td>0</td>\n",
              "      <td>4.04</td>\n",
              "      <td>0.0000</td>\n",
              "      <td>5.10</td>\n",
              "      <td>73.84</td>\n",
              "      <td>0</td>\n",
              "    </tr>\n",
              "    <tr>\n",
              "      <th>1</th>\n",
              "      <td>1</td>\n",
              "      <td>3.0</td>\n",
              "      <td>0</td>\n",
              "      <td>3.43</td>\n",
              "      <td>0.0000</td>\n",
              "      <td>4.99</td>\n",
              "      <td>50.00</td>\n",
              "      <td>0</td>\n",
              "    </tr>\n",
              "    <tr>\n",
              "      <th>2</th>\n",
              "      <td>1</td>\n",
              "      <td>4.0</td>\n",
              "      <td>0</td>\n",
              "      <td>4.44</td>\n",
              "      <td>0.2020</td>\n",
              "      <td>4.64</td>\n",
              "      <td>79.18</td>\n",
              "      <td>0</td>\n",
              "    </tr>\n",
              "    <tr>\n",
              "      <th>3</th>\n",
              "      <td>1</td>\n",
              "      <td>2.5</td>\n",
              "      <td>1</td>\n",
              "      <td>2.71</td>\n",
              "      <td>0.1021</td>\n",
              "      <td>4.07</td>\n",
              "      <td>40.00</td>\n",
              "      <td>0</td>\n",
              "    </tr>\n",
              "    <tr>\n",
              "      <th>4</th>\n",
              "      <td>1</td>\n",
              "      <td>2.5</td>\n",
              "      <td>0</td>\n",
              "      <td>5.72</td>\n",
              "      <td>0.7098</td>\n",
              "      <td>4.72</td>\n",
              "      <td>39.21</td>\n",
              "      <td>0</td>\n",
              "    </tr>\n",
              "    <tr>\n",
              "      <th>...</th>\n",
              "      <td>...</td>\n",
              "      <td>...</td>\n",
              "      <td>...</td>\n",
              "      <td>...</td>\n",
              "      <td>...</td>\n",
              "      <td>...</td>\n",
              "      <td>...</td>\n",
              "      <td>...</td>\n",
              "    </tr>\n",
              "    <tr>\n",
              "      <th>3039064</th>\n",
              "      <td>3</td>\n",
              "      <td>4.5</td>\n",
              "      <td>1</td>\n",
              "      <td>1.79</td>\n",
              "      <td>0.0013</td>\n",
              "      <td>5.27</td>\n",
              "      <td>148.14</td>\n",
              "      <td>0</td>\n",
              "    </tr>\n",
              "    <tr>\n",
              "      <th>3039065</th>\n",
              "      <td>3</td>\n",
              "      <td>4.5</td>\n",
              "      <td>1</td>\n",
              "      <td>1.79</td>\n",
              "      <td>0.0009</td>\n",
              "      <td>5.27</td>\n",
              "      <td>144.26</td>\n",
              "      <td>0</td>\n",
              "    </tr>\n",
              "    <tr>\n",
              "      <th>3039066</th>\n",
              "      <td>4</td>\n",
              "      <td>4.0</td>\n",
              "      <td>1</td>\n",
              "      <td>3.00</td>\n",
              "      <td>0.0088</td>\n",
              "      <td>5.44</td>\n",
              "      <td>174.23</td>\n",
              "      <td>0</td>\n",
              "    </tr>\n",
              "    <tr>\n",
              "      <th>3039067</th>\n",
              "      <td>4</td>\n",
              "      <td>4.5</td>\n",
              "      <td>1</td>\n",
              "      <td>4.54</td>\n",
              "      <td>0.0226</td>\n",
              "      <td>5.38</td>\n",
              "      <td>412.15</td>\n",
              "      <td>0</td>\n",
              "    </tr>\n",
              "    <tr>\n",
              "      <th>3039068</th>\n",
              "      <td>3</td>\n",
              "      <td>4.0</td>\n",
              "      <td>0</td>\n",
              "      <td>5.09</td>\n",
              "      <td>0.0537</td>\n",
              "      <td>5.14</td>\n",
              "      <td>241.08</td>\n",
              "      <td>0</td>\n",
              "    </tr>\n",
              "  </tbody>\n",
              "</table>\n",
              "<p>3039069 rows × 8 columns</p>\n",
              "</div>"
            ],
            "text/plain": [
              "         prop_starrating  prop_review_score  ...  price_usd  promotion_flag\n",
              "0                      1                1.5  ...      73.84               0\n",
              "1                      1                3.0  ...      50.00               0\n",
              "2                      1                4.0  ...      79.18               0\n",
              "3                      1                2.5  ...      40.00               0\n",
              "4                      1                2.5  ...      39.21               0\n",
              "...                  ...                ...  ...        ...             ...\n",
              "3039064                3                4.5  ...     148.14               0\n",
              "3039065                3                4.5  ...     144.26               0\n",
              "3039066                4                4.0  ...     174.23               0\n",
              "3039067                4                4.5  ...     412.15               0\n",
              "3039068                3                4.0  ...     241.08               0\n",
              "\n",
              "[3039069 rows x 8 columns]"
            ]
          },
          "metadata": {
            "tags": []
          },
          "execution_count": 5
        }
      ]
    },
    {
      "cell_type": "code",
      "metadata": {
        "colab": {
          "base_uri": "https://localhost:8080/"
        },
        "id": "hXukj-SUjkLx",
        "outputId": "3e32deb0-34a1-4f37-cb90-a42236cd750c"
      },
      "source": [
        "X_train = np.array(df_train.iloc[:, [9,11,13]])\n",
        "X_test = np.array(df_test.iloc[:, [9,11,13]])\n",
        "Y_train = np.array(df_train.iloc[:, 8])\n",
        "Y_train = Y_train.ravel()\n",
        "Y_test = np.array(df_test.iloc[:, 8])\n",
        "Y_test = Y_test.ravel()\n",
        "print(X_train.shape)\n",
        "print(X_test.shape)\n",
        "print(Y_train.shape)\n",
        "print(Y_test.shape)"
      ],
      "execution_count": 6,
      "outputs": [
        {
          "output_type": "stream",
          "text": [
            "(3039069, 3)\n",
            "(2000000, 3)\n",
            "(3039069,)\n",
            "(2000000,)\n"
          ],
          "name": "stdout"
        }
      ]
    },
    {
      "cell_type": "code",
      "metadata": {
        "id": "vSVNOuoaSPLO"
      },
      "source": [
        "GNB = GaussianNB()"
      ],
      "execution_count": 7,
      "outputs": []
    },
    {
      "cell_type": "code",
      "metadata": {
        "id": "07e_V4RJV3KL",
        "colab": {
          "base_uri": "https://localhost:8080/"
        },
        "outputId": "edad20d3-36f4-4654-b674-255a2cba5460"
      },
      "source": [
        "GNB.fit(X_train, Y_train)"
      ],
      "execution_count": 8,
      "outputs": [
        {
          "output_type": "execute_result",
          "data": {
            "text/plain": [
              "GaussianNB(priors=None, var_smoothing=1e-09)"
            ]
          },
          "metadata": {
            "tags": []
          },
          "execution_count": 8
        }
      ]
    },
    {
      "cell_type": "code",
      "metadata": {
        "id": "lh9qzjEfi6zw",
        "colab": {
          "base_uri": "https://localhost:8080/"
        },
        "outputId": "375f487f-41c9-4220-b7dc-5398b38b30a4"
      },
      "source": [
        "GNB.score(X_train, Y_train)"
      ],
      "execution_count": 9,
      "outputs": [
        {
          "output_type": "execute_result",
          "data": {
            "text/plain": [
              "0.5977527986366877"
            ]
          },
          "metadata": {
            "tags": []
          },
          "execution_count": 9
        }
      ]
    },
    {
      "cell_type": "code",
      "metadata": {
        "id": "T1UXMgMokqzS",
        "colab": {
          "base_uri": "https://localhost:8080/"
        },
        "outputId": "8538f163-2f7e-4479-d057-8c49b2bc2896"
      },
      "source": [
        "GNB.score(X_test, Y_test)"
      ],
      "execution_count": 10,
      "outputs": [
        {
          "output_type": "execute_result",
          "data": {
            "text/plain": [
              "0.59806"
            ]
          },
          "metadata": {
            "tags": []
          },
          "execution_count": 10
        }
      ]
    },
    {
      "cell_type": "code",
      "metadata": {
        "colab": {
          "base_uri": "https://localhost:8080/"
        },
        "id": "djN-AchF24lQ",
        "outputId": "c80486c4-fb15-4e3a-9f05-2219e507f99b"
      },
      "source": [
        "expected = Y_test\n",
        "predicted = GNB.predict(X_test)\n",
        "print(metrics.classification_report(expected, predicted))"
      ],
      "execution_count": 11,
      "outputs": [
        {
          "output_type": "stream",
          "text": [
            "              precision    recall  f1-score   support\n",
            "\n",
            "           1       0.16      0.03      0.06     16200\n",
            "           2       0.65      0.61      0.63    362079\n",
            "           3       0.60      0.66      0.63    798454\n",
            "           4       0.58      0.57      0.58    647632\n",
            "           5       0.56      0.42      0.48    175635\n",
            "\n",
            "    accuracy                           0.60   2000000\n",
            "   macro avg       0.51      0.46      0.47   2000000\n",
            "weighted avg       0.60      0.60      0.59   2000000\n",
            "\n"
          ],
          "name": "stdout"
        }
      ]
    },
    {
      "cell_type": "code",
      "metadata": {
        "id": "mBVOZYZu4I7u"
      },
      "source": [
        "SMT = SMOTE(ratio='auto', kind='regular')"
      ],
      "execution_count": 12,
      "outputs": []
    },
    {
      "cell_type": "code",
      "metadata": {
        "colab": {
          "base_uri": "https://localhost:8080/"
        },
        "id": "Yv7m9iQs4be8",
        "outputId": "a23977ab-3c2a-46fb-c131-05929f1ee519"
      },
      "source": [
        "X_train_smt, Y_train_smt = SMT.fit_sample(X_train,list(Y_train))\n",
        "X_test_smt, Y_test_smt = SMT.fit_sample(X_test,list(Y_test))"
      ],
      "execution_count": 13,
      "outputs": [
        {
          "output_type": "stream",
          "text": [
            "/usr/local/lib/python3.7/dist-packages/sklearn/utils/deprecation.py:87: FutureWarning: Function safe_indexing is deprecated; safe_indexing is deprecated in version 0.22 and will be removed in version 0.24.\n",
            "  warnings.warn(msg, category=FutureWarning)\n",
            "/usr/local/lib/python3.7/dist-packages/sklearn/utils/deprecation.py:87: FutureWarning: Function safe_indexing is deprecated; safe_indexing is deprecated in version 0.22 and will be removed in version 0.24.\n",
            "  warnings.warn(msg, category=FutureWarning)\n",
            "/usr/local/lib/python3.7/dist-packages/sklearn/utils/deprecation.py:87: FutureWarning: Function safe_indexing is deprecated; safe_indexing is deprecated in version 0.22 and will be removed in version 0.24.\n",
            "  warnings.warn(msg, category=FutureWarning)\n",
            "/usr/local/lib/python3.7/dist-packages/sklearn/utils/deprecation.py:87: FutureWarning: Function safe_indexing is deprecated; safe_indexing is deprecated in version 0.22 and will be removed in version 0.24.\n",
            "  warnings.warn(msg, category=FutureWarning)\n",
            "/usr/local/lib/python3.7/dist-packages/sklearn/utils/deprecation.py:87: FutureWarning: Function safe_indexing is deprecated; safe_indexing is deprecated in version 0.22 and will be removed in version 0.24.\n",
            "  warnings.warn(msg, category=FutureWarning)\n",
            "/usr/local/lib/python3.7/dist-packages/sklearn/utils/deprecation.py:87: FutureWarning: Function safe_indexing is deprecated; safe_indexing is deprecated in version 0.22 and will be removed in version 0.24.\n",
            "  warnings.warn(msg, category=FutureWarning)\n",
            "/usr/local/lib/python3.7/dist-packages/sklearn/utils/deprecation.py:87: FutureWarning: Function safe_indexing is deprecated; safe_indexing is deprecated in version 0.22 and will be removed in version 0.24.\n",
            "  warnings.warn(msg, category=FutureWarning)\n",
            "/usr/local/lib/python3.7/dist-packages/sklearn/utils/deprecation.py:87: FutureWarning: Function safe_indexing is deprecated; safe_indexing is deprecated in version 0.22 and will be removed in version 0.24.\n",
            "  warnings.warn(msg, category=FutureWarning)\n"
          ],
          "name": "stderr"
        }
      ]
    },
    {
      "cell_type": "code",
      "metadata": {
        "colab": {
          "base_uri": "https://localhost:8080/"
        },
        "id": "V0QsCI5L4ilR",
        "outputId": "e7743866-bc13-4359-c28d-308209a6c8a3"
      },
      "source": [
        "GNB.fit(X_train_smt, Y_train_smt)"
      ],
      "execution_count": 14,
      "outputs": [
        {
          "output_type": "execute_result",
          "data": {
            "text/plain": [
              "GaussianNB(priors=None, var_smoothing=1e-09)"
            ]
          },
          "metadata": {
            "tags": []
          },
          "execution_count": 14
        }
      ]
    },
    {
      "cell_type": "code",
      "metadata": {
        "colab": {
          "base_uri": "https://localhost:8080/"
        },
        "id": "iPBl-6-a5rGB",
        "outputId": "30476d0f-c2d9-4749-8e96-01286ff12933"
      },
      "source": [
        "GNB.score(X_train_smt, Y_train_smt)"
      ],
      "execution_count": 15,
      "outputs": [
        {
          "output_type": "execute_result",
          "data": {
            "text/plain": [
              "0.5427670617947845"
            ]
          },
          "metadata": {
            "tags": []
          },
          "execution_count": 15
        }
      ]
    },
    {
      "cell_type": "code",
      "metadata": {
        "colab": {
          "base_uri": "https://localhost:8080/"
        },
        "id": "8URrZIlO5kC2",
        "outputId": "a77e546b-9d20-4e00-c90a-276c985778dc"
      },
      "source": [
        "GNB.score(X_test_smt, Y_test_smt)"
      ],
      "execution_count": 16,
      "outputs": [
        {
          "output_type": "execute_result",
          "data": {
            "text/plain": [
              "0.5433189638977324"
            ]
          },
          "metadata": {
            "tags": []
          },
          "execution_count": 16
        }
      ]
    },
    {
      "cell_type": "code",
      "metadata": {
        "colab": {
          "base_uri": "https://localhost:8080/"
        },
        "id": "wdKK-H6f4prW",
        "outputId": "eb013049-4731-488f-ac1a-07ffcaad51d0"
      },
      "source": [
        "expected = Y_test_smt\n",
        "predicted = GNB.predict(X_test_smt)\n",
        "print(metrics.classification_report(expected, predicted))"
      ],
      "execution_count": 17,
      "outputs": [
        {
          "output_type": "stream",
          "text": [
            "              precision    recall  f1-score   support\n",
            "\n",
            "           1       0.67      0.46      0.55    798454\n",
            "           2       0.51      0.63      0.57    798454\n",
            "           3       0.47      0.52      0.50    798454\n",
            "           4       0.44      0.36      0.40    798454\n",
            "           5       0.65      0.74      0.69    798454\n",
            "\n",
            "    accuracy                           0.54   3992270\n",
            "   macro avg       0.55      0.54      0.54   3992270\n",
            "weighted avg       0.55      0.54      0.54   3992270\n",
            "\n"
          ],
          "name": "stdout"
        }
      ]
    },
    {
      "cell_type": "code",
      "metadata": {
        "colab": {
          "base_uri": "https://localhost:8080/",
          "height": 417
        },
        "id": "MH8C_Ru5OxMs",
        "outputId": "89d71988-dce2-4ed1-9be3-f84b646881ba"
      },
      "source": [
        "df_train.iloc[:, [9,11,13,14,17,21]]"
      ],
      "execution_count": 18,
      "outputs": [
        {
          "output_type": "execute_result",
          "data": {
            "text/html": [
              "<div>\n",
              "<style scoped>\n",
              "    .dataframe tbody tr th:only-of-type {\n",
              "        vertical-align: middle;\n",
              "    }\n",
              "\n",
              "    .dataframe tbody tr th {\n",
              "        vertical-align: top;\n",
              "    }\n",
              "\n",
              "    .dataframe thead th {\n",
              "        text-align: right;\n",
              "    }\n",
              "</style>\n",
              "<table border=\"1\" class=\"dataframe\">\n",
              "  <thead>\n",
              "    <tr style=\"text-align: right;\">\n",
              "      <th></th>\n",
              "      <th>prop_review_score</th>\n",
              "      <th>prop_location_score1</th>\n",
              "      <th>prop_log_historical_price</th>\n",
              "      <th>price_usd</th>\n",
              "      <th>srch_length_of_stay</th>\n",
              "      <th>srch_room_count</th>\n",
              "    </tr>\n",
              "  </thead>\n",
              "  <tbody>\n",
              "    <tr>\n",
              "      <th>0</th>\n",
              "      <td>1.5</td>\n",
              "      <td>4.04</td>\n",
              "      <td>5.10</td>\n",
              "      <td>73.84</td>\n",
              "      <td>1</td>\n",
              "      <td>1</td>\n",
              "    </tr>\n",
              "    <tr>\n",
              "      <th>1</th>\n",
              "      <td>3.0</td>\n",
              "      <td>3.43</td>\n",
              "      <td>4.99</td>\n",
              "      <td>50.00</td>\n",
              "      <td>1</td>\n",
              "      <td>1</td>\n",
              "    </tr>\n",
              "    <tr>\n",
              "      <th>2</th>\n",
              "      <td>4.0</td>\n",
              "      <td>4.44</td>\n",
              "      <td>4.64</td>\n",
              "      <td>79.18</td>\n",
              "      <td>2</td>\n",
              "      <td>2</td>\n",
              "    </tr>\n",
              "    <tr>\n",
              "      <th>3</th>\n",
              "      <td>2.5</td>\n",
              "      <td>2.71</td>\n",
              "      <td>4.07</td>\n",
              "      <td>40.00</td>\n",
              "      <td>2</td>\n",
              "      <td>1</td>\n",
              "    </tr>\n",
              "    <tr>\n",
              "      <th>4</th>\n",
              "      <td>2.5</td>\n",
              "      <td>5.72</td>\n",
              "      <td>4.72</td>\n",
              "      <td>39.21</td>\n",
              "      <td>1</td>\n",
              "      <td>1</td>\n",
              "    </tr>\n",
              "    <tr>\n",
              "      <th>...</th>\n",
              "      <td>...</td>\n",
              "      <td>...</td>\n",
              "      <td>...</td>\n",
              "      <td>...</td>\n",
              "      <td>...</td>\n",
              "      <td>...</td>\n",
              "    </tr>\n",
              "    <tr>\n",
              "      <th>3039064</th>\n",
              "      <td>4.5</td>\n",
              "      <td>1.79</td>\n",
              "      <td>5.27</td>\n",
              "      <td>148.14</td>\n",
              "      <td>3</td>\n",
              "      <td>1</td>\n",
              "    </tr>\n",
              "    <tr>\n",
              "      <th>3039065</th>\n",
              "      <td>4.5</td>\n",
              "      <td>1.79</td>\n",
              "      <td>5.27</td>\n",
              "      <td>144.26</td>\n",
              "      <td>3</td>\n",
              "      <td>1</td>\n",
              "    </tr>\n",
              "    <tr>\n",
              "      <th>3039066</th>\n",
              "      <td>4.0</td>\n",
              "      <td>3.00</td>\n",
              "      <td>5.44</td>\n",
              "      <td>174.23</td>\n",
              "      <td>3</td>\n",
              "      <td>1</td>\n",
              "    </tr>\n",
              "    <tr>\n",
              "      <th>3039067</th>\n",
              "      <td>4.5</td>\n",
              "      <td>4.54</td>\n",
              "      <td>5.38</td>\n",
              "      <td>412.15</td>\n",
              "      <td>3</td>\n",
              "      <td>1</td>\n",
              "    </tr>\n",
              "    <tr>\n",
              "      <th>3039068</th>\n",
              "      <td>4.0</td>\n",
              "      <td>5.09</td>\n",
              "      <td>5.14</td>\n",
              "      <td>241.08</td>\n",
              "      <td>3</td>\n",
              "      <td>1</td>\n",
              "    </tr>\n",
              "  </tbody>\n",
              "</table>\n",
              "<p>3039069 rows × 6 columns</p>\n",
              "</div>"
            ],
            "text/plain": [
              "         prop_review_score  ...  srch_room_count\n",
              "0                      1.5  ...                1\n",
              "1                      3.0  ...                1\n",
              "2                      4.0  ...                2\n",
              "3                      2.5  ...                1\n",
              "4                      2.5  ...                1\n",
              "...                    ...  ...              ...\n",
              "3039064                4.5  ...                1\n",
              "3039065                4.5  ...                1\n",
              "3039066                4.0  ...                1\n",
              "3039067                4.5  ...                1\n",
              "3039068                4.0  ...                1\n",
              "\n",
              "[3039069 rows x 6 columns]"
            ]
          },
          "metadata": {
            "tags": []
          },
          "execution_count": 18
        }
      ]
    },
    {
      "cell_type": "code",
      "metadata": {
        "colab": {
          "base_uri": "https://localhost:8080/"
        },
        "id": "mdQSWDpUNmxw",
        "outputId": "ac5251d8-989e-40a8-c5fe-40bca50d573f"
      },
      "source": [
        "X_train_clu = np.array(df_train.iloc[:, [9,11,13,14,17,21]])\n",
        "X_test_clu = np.array(df_test.iloc[:, [9,11,13,14,17,21]])\n",
        "Y_train_clu = np.array(df_train.iloc[:, 8])\n",
        "Y_train_clu = Y_train_clu.ravel()\n",
        "Y_test_clu = np.array(df_test.iloc[:, 8])\n",
        "Y_test_clu = Y_test_clu.ravel()\n",
        "print(X_train_clu.shape)\n",
        "print(X_test_clu.shape)\n",
        "print(Y_train_clu.shape)\n",
        "print(Y_test_clu.shape)"
      ],
      "execution_count": 19,
      "outputs": [
        {
          "output_type": "stream",
          "text": [
            "(3039069, 6)\n",
            "(2000000, 6)\n",
            "(3039069,)\n",
            "(2000000,)\n"
          ],
          "name": "stdout"
        }
      ]
    },
    {
      "cell_type": "code",
      "metadata": {
        "colab": {
          "base_uri": "https://localhost:8080/"
        },
        "id": "tcTJHmIoOse2",
        "outputId": "7d3260d1-e184-47b3-b959-08c6015156a9"
      },
      "source": [
        "GNB.fit(X_train_clu, Y_train_clu)"
      ],
      "execution_count": 20,
      "outputs": [
        {
          "output_type": "execute_result",
          "data": {
            "text/plain": [
              "GaussianNB(priors=None, var_smoothing=1e-09)"
            ]
          },
          "metadata": {
            "tags": []
          },
          "execution_count": 20
        }
      ]
    },
    {
      "cell_type": "code",
      "metadata": {
        "colab": {
          "base_uri": "https://localhost:8080/"
        },
        "id": "27VsllYlO5_h",
        "outputId": "5b03ad0b-fef8-4d41-e547-c5bdbab02c8d"
      },
      "source": [
        "GNB.score(X_train_clu, Y_train_clu)"
      ],
      "execution_count": 21,
      "outputs": [
        {
          "output_type": "execute_result",
          "data": {
            "text/plain": [
              "0.546694069795717"
            ]
          },
          "metadata": {
            "tags": []
          },
          "execution_count": 21
        }
      ]
    },
    {
      "cell_type": "code",
      "metadata": {
        "colab": {
          "base_uri": "https://localhost:8080/"
        },
        "id": "lGFtHSgXO5sH",
        "outputId": "ba2359d1-2d89-442b-ba26-5235f5dc0be7"
      },
      "source": [
        "GNB.score(X_test_clu, Y_test_clu)"
      ],
      "execution_count": 22,
      "outputs": [
        {
          "output_type": "execute_result",
          "data": {
            "text/plain": [
              "0.5464845"
            ]
          },
          "metadata": {
            "tags": []
          },
          "execution_count": 22
        }
      ]
    },
    {
      "cell_type": "code",
      "metadata": {
        "colab": {
          "base_uri": "https://localhost:8080/"
        },
        "id": "p5l-I1oqR9Ug",
        "outputId": "f29cb118-1dc3-4850-f171-6999be68cc67"
      },
      "source": [
        "expected = Y_test_clu\n",
        "predicted = GNB.predict(X_test_clu)\n",
        "print(metrics.classification_report(expected, predicted))"
      ],
      "execution_count": 23,
      "outputs": [
        {
          "output_type": "stream",
          "text": [
            "              precision    recall  f1-score   support\n",
            "\n",
            "           1       0.10      0.05      0.06     16200\n",
            "           2       0.58      0.74      0.65    362079\n",
            "           3       0.53      0.71      0.61    798454\n",
            "           4       0.55      0.39      0.46    647632\n",
            "           5       0.50      0.02      0.05    175635\n",
            "\n",
            "    accuracy                           0.55   2000000\n",
            "   macro avg       0.45      0.38      0.37   2000000\n",
            "weighted avg       0.54      0.55      0.51   2000000\n",
            "\n"
          ],
          "name": "stdout"
        }
      ]
    },
    {
      "cell_type": "code",
      "metadata": {
        "id": "HlWeRyy0f_Dw"
      },
      "source": [
        "P_GNB = GaussianNB(priors=[1/21,4/21,8/21,6/21,2/21])"
      ],
      "execution_count": 24,
      "outputs": []
    },
    {
      "cell_type": "code",
      "metadata": {
        "colab": {
          "base_uri": "https://localhost:8080/"
        },
        "id": "AJ6LgWudeYKm",
        "outputId": "6e3ac320-ae05-40f0-bc80-47871b5d2989"
      },
      "source": [
        "P_GNB.fit(X_train, Y_train)"
      ],
      "execution_count": 25,
      "outputs": [
        {
          "output_type": "execute_result",
          "data": {
            "text/plain": [
              "GaussianNB(priors=[0.047619047619047616, 0.19047619047619047,\n",
              "                   0.38095238095238093, 0.2857142857142857,\n",
              "                   0.09523809523809523],\n",
              "           var_smoothing=1e-09)"
            ]
          },
          "metadata": {
            "tags": []
          },
          "execution_count": 25
        }
      ]
    },
    {
      "cell_type": "code",
      "metadata": {
        "colab": {
          "base_uri": "https://localhost:8080/"
        },
        "id": "ncpW7czCfWCS",
        "outputId": "4420bc15-5e1f-4f02-9f02-51990a0ba059"
      },
      "source": [
        "P_GNB.score(X_train, Y_train)"
      ],
      "execution_count": 26,
      "outputs": [
        {
          "output_type": "execute_result",
          "data": {
            "text/plain": [
              "0.5909569674133756"
            ]
          },
          "metadata": {
            "tags": []
          },
          "execution_count": 26
        }
      ]
    },
    {
      "cell_type": "code",
      "metadata": {
        "colab": {
          "base_uri": "https://localhost:8080/"
        },
        "id": "JqJeRYu1fXG4",
        "outputId": "8d6df237-6386-47c6-b342-434b2d0220ce"
      },
      "source": [
        "P_GNB.score(X_test, Y_test)"
      ],
      "execution_count": 27,
      "outputs": [
        {
          "output_type": "execute_result",
          "data": {
            "text/plain": [
              "0.5912595"
            ]
          },
          "metadata": {
            "tags": []
          },
          "execution_count": 27
        }
      ]
    },
    {
      "cell_type": "code",
      "metadata": {
        "id": "VCEzaEcoADtS"
      },
      "source": [
        "MNB = MultinomialNB()"
      ],
      "execution_count": 28,
      "outputs": []
    },
    {
      "cell_type": "code",
      "metadata": {
        "colab": {
          "base_uri": "https://localhost:8080/"
        },
        "id": "x7mOimqHAJ3h",
        "outputId": "548fc106-24b3-4938-feee-4d2e8addcbd7"
      },
      "source": [
        "MNB.fit(X_train, Y_train)"
      ],
      "execution_count": 29,
      "outputs": [
        {
          "output_type": "execute_result",
          "data": {
            "text/plain": [
              "MultinomialNB(alpha=1.0, class_prior=None, fit_prior=True)"
            ]
          },
          "metadata": {
            "tags": []
          },
          "execution_count": 29
        }
      ]
    },
    {
      "cell_type": "code",
      "metadata": {
        "colab": {
          "base_uri": "https://localhost:8080/"
        },
        "id": "KyUuGnxnAL9i",
        "outputId": "7c2862bf-2155-4f63-d8e8-29af516c5a57"
      },
      "source": [
        "MNB.score(X_train, Y_train)"
      ],
      "execution_count": 30,
      "outputs": [
        {
          "output_type": "execute_result",
          "data": {
            "text/plain": [
              "0.4200263304321159"
            ]
          },
          "metadata": {
            "tags": []
          },
          "execution_count": 30
        }
      ]
    },
    {
      "cell_type": "code",
      "metadata": {
        "colab": {
          "base_uri": "https://localhost:8080/"
        },
        "id": "RAbuuEJrAm3v",
        "outputId": "cda69006-5302-4eb3-99dc-5eabd7d443a0"
      },
      "source": [
        "MNB.score(X_test, Y_test)"
      ],
      "execution_count": 31,
      "outputs": [
        {
          "output_type": "execute_result",
          "data": {
            "text/plain": [
              "0.419094"
            ]
          },
          "metadata": {
            "tags": []
          },
          "execution_count": 31
        }
      ]
    },
    {
      "cell_type": "code",
      "metadata": {
        "id": "68dJ9sgDAid7"
      },
      "source": [
        "CNB = CategoricalNB()"
      ],
      "execution_count": 32,
      "outputs": []
    },
    {
      "cell_type": "code",
      "metadata": {
        "colab": {
          "base_uri": "https://localhost:8080/"
        },
        "id": "8ct3LxktAh_v",
        "outputId": "08565d42-028c-4582-e3c8-3553f67353af"
      },
      "source": [
        "CNB.fit(X_train, Y_train)"
      ],
      "execution_count": 33,
      "outputs": [
        {
          "output_type": "execute_result",
          "data": {
            "text/plain": [
              "CategoricalNB(alpha=1.0, class_prior=None, fit_prior=True)"
            ]
          },
          "metadata": {
            "tags": []
          },
          "execution_count": 33
        }
      ]
    },
    {
      "cell_type": "code",
      "metadata": {
        "colab": {
          "base_uri": "https://localhost:8080/"
        },
        "id": "RqatlZ8wAh2p",
        "outputId": "59da3892-4f29-4165-fd49-cd3729138919"
      },
      "source": [
        "CNB.score(X_train, Y_train)"
      ],
      "execution_count": 34,
      "outputs": [
        {
          "output_type": "execute_result",
          "data": {
            "text/plain": [
              "0.5599333216850292"
            ]
          },
          "metadata": {
            "tags": []
          },
          "execution_count": 34
        }
      ]
    },
    {
      "cell_type": "code",
      "metadata": {
        "colab": {
          "base_uri": "https://localhost:8080/"
        },
        "id": "gWoV0e9SAxDI",
        "outputId": "acc5337a-bcb4-4be5-c458-9f3139a09a11"
      },
      "source": [
        "CNB.score(X_test, Y_test)"
      ],
      "execution_count": 35,
      "outputs": [
        {
          "output_type": "execute_result",
          "data": {
            "text/plain": [
              "0.560134"
            ]
          },
          "metadata": {
            "tags": []
          },
          "execution_count": 35
        }
      ]
    },
    {
      "cell_type": "code",
      "metadata": {
        "colab": {
          "base_uri": "https://localhost:8080/"
        },
        "id": "jzVix-20XRj3",
        "outputId": "7f23809f-e00b-4a1e-fb41-36bc37c137fc"
      },
      "source": [
        "expected = Y_test\n",
        "predicted = CNB.predict(X_test)\n",
        "print(metrics.classification_report(expected, predicted))"
      ],
      "execution_count": 36,
      "outputs": [
        {
          "output_type": "stream",
          "text": [
            "              precision    recall  f1-score   support\n",
            "\n",
            "           1       0.41      0.02      0.03     16200\n",
            "           2       0.57      0.61      0.59    362079\n",
            "           3       0.57      0.53      0.55    798454\n",
            "           4       0.54      0.65      0.59    647632\n",
            "           5       0.57      0.30      0.40    175635\n",
            "\n",
            "    accuracy                           0.56   2000000\n",
            "   macro avg       0.53      0.42      0.43   2000000\n",
            "weighted avg       0.56      0.56      0.55   2000000\n",
            "\n"
          ],
          "name": "stdout"
        }
      ]
    },
    {
      "cell_type": "code",
      "metadata": {
        "colab": {
          "base_uri": "https://localhost:8080/",
          "height": 417
        },
        "id": "O9oFuRJUbqsp",
        "outputId": "b76374b4-a138-4b9f-9128-37ebc438f4a1"
      },
      "source": [
        "df_train.iloc[:, [7,9,11,13,17,21]]"
      ],
      "execution_count": 37,
      "outputs": [
        {
          "output_type": "execute_result",
          "data": {
            "text/html": [
              "<div>\n",
              "<style scoped>\n",
              "    .dataframe tbody tr th:only-of-type {\n",
              "        vertical-align: middle;\n",
              "    }\n",
              "\n",
              "    .dataframe tbody tr th {\n",
              "        vertical-align: top;\n",
              "    }\n",
              "\n",
              "    .dataframe thead th {\n",
              "        text-align: right;\n",
              "    }\n",
              "</style>\n",
              "<table border=\"1\" class=\"dataframe\">\n",
              "  <thead>\n",
              "    <tr style=\"text-align: right;\">\n",
              "      <th></th>\n",
              "      <th>prop_id</th>\n",
              "      <th>prop_review_score</th>\n",
              "      <th>prop_location_score1</th>\n",
              "      <th>prop_log_historical_price</th>\n",
              "      <th>srch_length_of_stay</th>\n",
              "      <th>srch_room_count</th>\n",
              "    </tr>\n",
              "  </thead>\n",
              "  <tbody>\n",
              "    <tr>\n",
              "      <th>0</th>\n",
              "      <td>122877</td>\n",
              "      <td>1.5</td>\n",
              "      <td>4.04</td>\n",
              "      <td>5.10</td>\n",
              "      <td>1</td>\n",
              "      <td>1</td>\n",
              "    </tr>\n",
              "    <tr>\n",
              "      <th>1</th>\n",
              "      <td>77411</td>\n",
              "      <td>3.0</td>\n",
              "      <td>3.43</td>\n",
              "      <td>4.99</td>\n",
              "      <td>1</td>\n",
              "      <td>1</td>\n",
              "    </tr>\n",
              "    <tr>\n",
              "      <th>2</th>\n",
              "      <td>3526</td>\n",
              "      <td>4.0</td>\n",
              "      <td>4.44</td>\n",
              "      <td>4.64</td>\n",
              "      <td>2</td>\n",
              "      <td>2</td>\n",
              "    </tr>\n",
              "    <tr>\n",
              "      <th>3</th>\n",
              "      <td>75245</td>\n",
              "      <td>2.5</td>\n",
              "      <td>2.71</td>\n",
              "      <td>4.07</td>\n",
              "      <td>2</td>\n",
              "      <td>1</td>\n",
              "    </tr>\n",
              "    <tr>\n",
              "      <th>4</th>\n",
              "      <td>13108</td>\n",
              "      <td>2.5</td>\n",
              "      <td>5.72</td>\n",
              "      <td>4.72</td>\n",
              "      <td>1</td>\n",
              "      <td>1</td>\n",
              "    </tr>\n",
              "    <tr>\n",
              "      <th>...</th>\n",
              "      <td>...</td>\n",
              "      <td>...</td>\n",
              "      <td>...</td>\n",
              "      <td>...</td>\n",
              "      <td>...</td>\n",
              "      <td>...</td>\n",
              "    </tr>\n",
              "    <tr>\n",
              "      <th>3039064</th>\n",
              "      <td>99741</td>\n",
              "      <td>4.5</td>\n",
              "      <td>1.79</td>\n",
              "      <td>5.27</td>\n",
              "      <td>3</td>\n",
              "      <td>1</td>\n",
              "    </tr>\n",
              "    <tr>\n",
              "      <th>3039065</th>\n",
              "      <td>104685</td>\n",
              "      <td>4.5</td>\n",
              "      <td>1.79</td>\n",
              "      <td>5.27</td>\n",
              "      <td>3</td>\n",
              "      <td>1</td>\n",
              "    </tr>\n",
              "    <tr>\n",
              "      <th>3039066</th>\n",
              "      <td>109868</td>\n",
              "      <td>4.0</td>\n",
              "      <td>3.00</td>\n",
              "      <td>5.44</td>\n",
              "      <td>3</td>\n",
              "      <td>1</td>\n",
              "    </tr>\n",
              "    <tr>\n",
              "      <th>3039067</th>\n",
              "      <td>117582</td>\n",
              "      <td>4.5</td>\n",
              "      <td>4.54</td>\n",
              "      <td>5.38</td>\n",
              "      <td>3</td>\n",
              "      <td>1</td>\n",
              "    </tr>\n",
              "    <tr>\n",
              "      <th>3039068</th>\n",
              "      <td>131352</td>\n",
              "      <td>4.0</td>\n",
              "      <td>5.09</td>\n",
              "      <td>5.14</td>\n",
              "      <td>3</td>\n",
              "      <td>1</td>\n",
              "    </tr>\n",
              "  </tbody>\n",
              "</table>\n",
              "<p>3039069 rows × 6 columns</p>\n",
              "</div>"
            ],
            "text/plain": [
              "         prop_id  prop_review_score  ...  srch_length_of_stay  srch_room_count\n",
              "0         122877                1.5  ...                    1                1\n",
              "1          77411                3.0  ...                    1                1\n",
              "2           3526                4.0  ...                    2                2\n",
              "3          75245                2.5  ...                    2                1\n",
              "4          13108                2.5  ...                    1                1\n",
              "...          ...                ...  ...                  ...              ...\n",
              "3039064    99741                4.5  ...                    3                1\n",
              "3039065   104685                4.5  ...                    3                1\n",
              "3039066   109868                4.0  ...                    3                1\n",
              "3039067   117582                4.5  ...                    3                1\n",
              "3039068   131352                4.0  ...                    3                1\n",
              "\n",
              "[3039069 rows x 6 columns]"
            ]
          },
          "metadata": {
            "tags": []
          },
          "execution_count": 37
        }
      ]
    },
    {
      "cell_type": "code",
      "metadata": {
        "colab": {
          "base_uri": "https://localhost:8080/"
        },
        "id": "HuGtKpjUbBRs",
        "outputId": "cf0179a6-0e2d-41d8-9183-a36eaa2b13d8"
      },
      "source": [
        "X_train_cat = np.array(df_train.iloc[:, [7,9,11,13,17,21]])\n",
        "X_test_cat = np.array(df_test.iloc[:, [7,9,11,13,17,21]])\n",
        "Y_train_cat = np.array(df_train.iloc[:, 8])\n",
        "Y_train_cat = Y_train_cat.ravel()\n",
        "Y_test_cat = np.array(df_test.iloc[:, 8])\n",
        "Y_test_cat = Y_test_cat.ravel()\n",
        "print(X_train_cat.shape)\n",
        "print(X_test_cat.shape)\n",
        "print(Y_train_cat.shape)\n",
        "print(Y_test_cat.shape)"
      ],
      "execution_count": 38,
      "outputs": [
        {
          "output_type": "stream",
          "text": [
            "(3039069, 6)\n",
            "(2000000, 6)\n",
            "(3039069,)\n",
            "(2000000,)\n"
          ],
          "name": "stdout"
        }
      ]
    },
    {
      "cell_type": "code",
      "metadata": {
        "colab": {
          "base_uri": "https://localhost:8080/"
        },
        "id": "PvCfn7MZXEFq",
        "outputId": "08a0d5f6-a2cb-4358-9030-f4f3c797bc07"
      },
      "source": [
        "CNB.fit(X_train_cat, Y_train_cat)"
      ],
      "execution_count": 39,
      "outputs": [
        {
          "output_type": "execute_result",
          "data": {
            "text/plain": [
              "CategoricalNB(alpha=1.0, class_prior=None, fit_prior=True)"
            ]
          },
          "metadata": {
            "tags": []
          },
          "execution_count": 39
        }
      ]
    },
    {
      "cell_type": "code",
      "metadata": {
        "colab": {
          "base_uri": "https://localhost:8080/"
        },
        "id": "tdKqZ_llXHj4",
        "outputId": "36c2e6a8-364c-4ec4-9c6c-64207422f24f"
      },
      "source": [
        "CNB.score(X_train_cat, Y_train_cat)"
      ],
      "execution_count": 40,
      "outputs": [
        {
          "output_type": "execute_result",
          "data": {
            "text/plain": [
              "0.9873981143567323"
            ]
          },
          "metadata": {
            "tags": []
          },
          "execution_count": 40
        }
      ]
    },
    {
      "cell_type": "code",
      "metadata": {
        "colab": {
          "base_uri": "https://localhost:8080/"
        },
        "id": "zYr2kEvIXMsR",
        "outputId": "e1762b68-6693-43d8-e022-6216eac55a82"
      },
      "source": [
        "CNB.score(X_test_cat, Y_test_cat)"
      ],
      "execution_count": 41,
      "outputs": [
        {
          "output_type": "execute_result",
          "data": {
            "text/plain": [
              "0.985654"
            ]
          },
          "metadata": {
            "tags": []
          },
          "execution_count": 41
        }
      ]
    },
    {
      "cell_type": "code",
      "metadata": {
        "colab": {
          "base_uri": "https://localhost:8080/"
        },
        "id": "gK5zpMvjXMgv",
        "outputId": "6489590b-fb7c-4001-aa3a-d5346b6a8cf6"
      },
      "source": [
        "expected = Y_test_cat\n",
        "predicted = CNB.predict(X_test_cat)\n",
        "print(metrics.classification_report(expected, predicted))"
      ],
      "execution_count": 47,
      "outputs": [
        {
          "output_type": "stream",
          "text": [
            "              precision    recall  f1-score   support\n",
            "\n",
            "           1       0.94      0.93      0.93     16200\n",
            "           2       0.96      0.99      0.97    362079\n",
            "           3       0.99      0.99      0.99    798454\n",
            "           4       1.00      0.98      0.99    647632\n",
            "           5       0.98      0.98      0.98    175635\n",
            "\n",
            "    accuracy                           0.99   2000000\n",
            "   macro avg       0.97      0.97      0.97   2000000\n",
            "weighted avg       0.99      0.99      0.99   2000000\n",
            "\n"
          ],
          "name": "stdout"
        }
      ]
    },
    {
      "cell_type": "code",
      "metadata": {
        "id": "rA2kpaTrpcT1"
      },
      "source": [
        "CPNB = ComplementNB()"
      ],
      "execution_count": 43,
      "outputs": []
    },
    {
      "cell_type": "code",
      "metadata": {
        "colab": {
          "base_uri": "https://localhost:8080/"
        },
        "id": "Ey5xweh6sQ7-",
        "outputId": "0da209e6-b8fc-411a-b9c3-9256116f0e57"
      },
      "source": [
        "CPNB.fit(X_train, Y_train)"
      ],
      "execution_count": 44,
      "outputs": [
        {
          "output_type": "execute_result",
          "data": {
            "text/plain": [
              "ComplementNB(alpha=1.0, class_prior=None, fit_prior=True, norm=False)"
            ]
          },
          "metadata": {
            "tags": []
          },
          "execution_count": 44
        }
      ]
    },
    {
      "cell_type": "code",
      "metadata": {
        "colab": {
          "base_uri": "https://localhost:8080/"
        },
        "id": "ZdGaHoumsTgE",
        "outputId": "ddafd2b8-45e7-43ec-f974-4b4b141bcc70"
      },
      "source": [
        "CPNB.score(X_train, Y_train)"
      ],
      "execution_count": 45,
      "outputs": [
        {
          "output_type": "execute_result",
          "data": {
            "text/plain": [
              "0.4477052018233216"
            ]
          },
          "metadata": {
            "tags": []
          },
          "execution_count": 45
        }
      ]
    },
    {
      "cell_type": "code",
      "metadata": {
        "colab": {
          "base_uri": "https://localhost:8080/"
        },
        "id": "oPQIBJMksWvl",
        "outputId": "ee8cb5a9-ebd2-4c98-f67d-fea6c7c3cc54"
      },
      "source": [
        "CPNB.score(X_test, Y_test)"
      ],
      "execution_count": 46,
      "outputs": [
        {
          "output_type": "execute_result",
          "data": {
            "text/plain": [
              "0.44699"
            ]
          },
          "metadata": {
            "tags": []
          },
          "execution_count": 46
        }
      ]
    },
    {
      "cell_type": "code",
      "metadata": {
        "id": "cNVWSQPysZTn"
      },
      "source": [
        ""
      ],
      "execution_count": 46,
      "outputs": []
    }
  ]
}