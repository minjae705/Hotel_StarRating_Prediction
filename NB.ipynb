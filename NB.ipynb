{
  "nbformat": 4,
  "nbformat_minor": 0,
  "metadata": {
    "colab": {
      "name": "NB.ipynb의 사본",
      "provenance": [],
      "collapsed_sections": [],
      "toc_visible": true,
      "mount_file_id": "1288_yI0vPZingJX6DcF6koRdgGikDE8i",
      "authorship_tag": "ABX9TyOJqYd5Cy7faUGlk//iNqwq"
    },
    "kernelspec": {
      "name": "python3",
      "display_name": "Python 3"
    },
    "language_info": {
      "name": "python"
    },
    "accelerator": "GPU"
  },
  "cells": [
    {
      "cell_type": "code",
      "metadata": {
        "id": "bGVtedzkRI39"
      },
      "source": [
        "import pandas as pd\n",
        "import numpy as np\n",
        "#import seaborn as sns\n",
        "#import matplotlib.pyplot as plt\n",
        "#%matplotlib inline\n",
        "from sklearn.naive_bayes import GaussianNB, MultinomialNB, CategoricalNB, ComplementNB\n",
        "from sklearn import metrics\n",
        "from imblearn.over_sampling import SMOTE"
      ],
      "execution_count": 247,
      "outputs": []
    },
    {
      "cell_type": "code",
      "metadata": {
        "id": "IsulkbsfjMt2"
      },
      "source": [
        "test = '/content/drive/MyDrive/data/hotel_test.csv'\n",
        "train = '/content/drive/MyDrive/data/hotel_train.csv'"
      ],
      "execution_count": 248,
      "outputs": []
    },
    {
      "cell_type": "code",
      "metadata": {
        "colab": {
          "base_uri": "https://localhost:8080/",
          "height": 773
        },
        "id": "M72Vw9HkiWes",
        "outputId": "9359320c-d8f8-4674-fbb0-def89e45be66"
      },
      "source": [
        "df_test = pd.read_csv(test)\n",
        "df_test = df_test.drop('Unnamed: 0',axis=1)\n",
        "df_test"
      ],
      "execution_count": 249,
      "outputs": [
        {
          "output_type": "execute_result",
          "data": {
            "text/html": [
              "<div>\n",
              "<style scoped>\n",
              "    .dataframe tbody tr th:only-of-type {\n",
              "        vertical-align: middle;\n",
              "    }\n",
              "\n",
              "    .dataframe tbody tr th {\n",
              "        vertical-align: top;\n",
              "    }\n",
              "\n",
              "    .dataframe thead th {\n",
              "        text-align: right;\n",
              "    }\n",
              "</style>\n",
              "<table border=\"1\" class=\"dataframe\">\n",
              "  <thead>\n",
              "    <tr style=\"text-align: right;\">\n",
              "      <th></th>\n",
              "      <th>srch_id</th>\n",
              "      <th>date_time</th>\n",
              "      <th>site_id</th>\n",
              "      <th>visitor_location_country_id</th>\n",
              "      <th>visitor_hist_starrating</th>\n",
              "      <th>visitor_hist_adr_usd</th>\n",
              "      <th>prop_country_id</th>\n",
              "      <th>prop_id</th>\n",
              "      <th>prop_starrating</th>\n",
              "      <th>prop_review_score</th>\n",
              "      <th>prop_brand_bool</th>\n",
              "      <th>prop_location_score1</th>\n",
              "      <th>prop_location_score2</th>\n",
              "      <th>prop_log_historical_price</th>\n",
              "      <th>price_usd</th>\n",
              "      <th>promotion_flag</th>\n",
              "      <th>srch_destination_id</th>\n",
              "      <th>srch_length_of_stay</th>\n",
              "      <th>srch_booking_window</th>\n",
              "      <th>srch_adults_count</th>\n",
              "      <th>srch_children_count</th>\n",
              "      <th>srch_room_count</th>\n",
              "      <th>srch_saturday_night_bool</th>\n",
              "      <th>srch_query_affinity_score</th>\n",
              "      <th>orig_destination_distance</th>\n",
              "    </tr>\n",
              "  </thead>\n",
              "  <tbody>\n",
              "    <tr>\n",
              "      <th>0</th>\n",
              "      <td>480130</td>\n",
              "      <td>2012-12-27 21:46:49</td>\n",
              "      <td>32</td>\n",
              "      <td>220</td>\n",
              "      <td>0.0</td>\n",
              "      <td>0.0</td>\n",
              "      <td>53</td>\n",
              "      <td>40809</td>\n",
              "      <td>5</td>\n",
              "      <td>5.0</td>\n",
              "      <td>1</td>\n",
              "      <td>4.88</td>\n",
              "      <td>0.0754</td>\n",
              "      <td>5.75</td>\n",
              "      <td>291.58</td>\n",
              "      <td>0</td>\n",
              "      <td>6005</td>\n",
              "      <td>2</td>\n",
              "      <td>33</td>\n",
              "      <td>1</td>\n",
              "      <td>0</td>\n",
              "      <td>1</td>\n",
              "      <td>0</td>\n",
              "      <td>0.0</td>\n",
              "      <td>5410.16</td>\n",
              "    </tr>\n",
              "    <tr>\n",
              "      <th>1</th>\n",
              "      <td>375759</td>\n",
              "      <td>2013-03-29 09:00:07</td>\n",
              "      <td>5</td>\n",
              "      <td>219</td>\n",
              "      <td>0.0</td>\n",
              "      <td>0.0</td>\n",
              "      <td>219</td>\n",
              "      <td>136308</td>\n",
              "      <td>3</td>\n",
              "      <td>4.0</td>\n",
              "      <td>1</td>\n",
              "      <td>1.61</td>\n",
              "      <td>0.0000</td>\n",
              "      <td>4.81</td>\n",
              "      <td>103.00</td>\n",
              "      <td>0</td>\n",
              "      <td>9147</td>\n",
              "      <td>4</td>\n",
              "      <td>55</td>\n",
              "      <td>3</td>\n",
              "      <td>0</td>\n",
              "      <td>1</td>\n",
              "      <td>1</td>\n",
              "      <td>0.0</td>\n",
              "      <td>1413.00</td>\n",
              "    </tr>\n",
              "    <tr>\n",
              "      <th>2</th>\n",
              "      <td>75275</td>\n",
              "      <td>2013-03-10 13:34:07</td>\n",
              "      <td>5</td>\n",
              "      <td>219</td>\n",
              "      <td>0.0</td>\n",
              "      <td>0.0</td>\n",
              "      <td>219</td>\n",
              "      <td>11948</td>\n",
              "      <td>4</td>\n",
              "      <td>4.5</td>\n",
              "      <td>0</td>\n",
              "      <td>2.48</td>\n",
              "      <td>0.0761</td>\n",
              "      <td>5.51</td>\n",
              "      <td>112.00</td>\n",
              "      <td>1</td>\n",
              "      <td>3095</td>\n",
              "      <td>2</td>\n",
              "      <td>75</td>\n",
              "      <td>1</td>\n",
              "      <td>0</td>\n",
              "      <td>1</td>\n",
              "      <td>1</td>\n",
              "      <td>0.0</td>\n",
              "      <td>78.42</td>\n",
              "    </tr>\n",
              "    <tr>\n",
              "      <th>3</th>\n",
              "      <td>349998</td>\n",
              "      <td>2013-03-20 12:43:53</td>\n",
              "      <td>5</td>\n",
              "      <td>219</td>\n",
              "      <td>0.0</td>\n",
              "      <td>0.0</td>\n",
              "      <td>219</td>\n",
              "      <td>66813</td>\n",
              "      <td>4</td>\n",
              "      <td>5.0</td>\n",
              "      <td>1</td>\n",
              "      <td>2.30</td>\n",
              "      <td>0.0220</td>\n",
              "      <td>5.01</td>\n",
              "      <td>129.00</td>\n",
              "      <td>0</td>\n",
              "      <td>9975</td>\n",
              "      <td>2</td>\n",
              "      <td>7</td>\n",
              "      <td>3</td>\n",
              "      <td>0</td>\n",
              "      <td>1</td>\n",
              "      <td>0</td>\n",
              "      <td>0.0</td>\n",
              "      <td>210.95</td>\n",
              "    </tr>\n",
              "    <tr>\n",
              "      <th>4</th>\n",
              "      <td>601627</td>\n",
              "      <td>2013-05-01 23:36:43</td>\n",
              "      <td>26</td>\n",
              "      <td>39</td>\n",
              "      <td>0.0</td>\n",
              "      <td>0.0</td>\n",
              "      <td>98</td>\n",
              "      <td>73890</td>\n",
              "      <td>5</td>\n",
              "      <td>4.5</td>\n",
              "      <td>0</td>\n",
              "      <td>3.64</td>\n",
              "      <td>0.0274</td>\n",
              "      <td>5.77</td>\n",
              "      <td>119.24</td>\n",
              "      <td>1</td>\n",
              "      <td>23561</td>\n",
              "      <td>3</td>\n",
              "      <td>77</td>\n",
              "      <td>2</td>\n",
              "      <td>0</td>\n",
              "      <td>1</td>\n",
              "      <td>0</td>\n",
              "      <td>0.0</td>\n",
              "      <td>0.00</td>\n",
              "    </tr>\n",
              "    <tr>\n",
              "      <th>...</th>\n",
              "      <td>...</td>\n",
              "      <td>...</td>\n",
              "      <td>...</td>\n",
              "      <td>...</td>\n",
              "      <td>...</td>\n",
              "      <td>...</td>\n",
              "      <td>...</td>\n",
              "      <td>...</td>\n",
              "      <td>...</td>\n",
              "      <td>...</td>\n",
              "      <td>...</td>\n",
              "      <td>...</td>\n",
              "      <td>...</td>\n",
              "      <td>...</td>\n",
              "      <td>...</td>\n",
              "      <td>...</td>\n",
              "      <td>...</td>\n",
              "      <td>...</td>\n",
              "      <td>...</td>\n",
              "      <td>...</td>\n",
              "      <td>...</td>\n",
              "      <td>...</td>\n",
              "      <td>...</td>\n",
              "      <td>...</td>\n",
              "      <td>...</td>\n",
              "    </tr>\n",
              "    <tr>\n",
              "      <th>1999995</th>\n",
              "      <td>134853</td>\n",
              "      <td>2013-04-04 14:25:04</td>\n",
              "      <td>15</td>\n",
              "      <td>55</td>\n",
              "      <td>0.0</td>\n",
              "      <td>0.0</td>\n",
              "      <td>55</td>\n",
              "      <td>137991</td>\n",
              "      <td>4</td>\n",
              "      <td>4.5</td>\n",
              "      <td>1</td>\n",
              "      <td>4.25</td>\n",
              "      <td>0.0117</td>\n",
              "      <td>5.68</td>\n",
              "      <td>274.22</td>\n",
              "      <td>0</td>\n",
              "      <td>10979</td>\n",
              "      <td>2</td>\n",
              "      <td>80</td>\n",
              "      <td>3</td>\n",
              "      <td>0</td>\n",
              "      <td>1</td>\n",
              "      <td>0</td>\n",
              "      <td>0.0</td>\n",
              "      <td>0.00</td>\n",
              "    </tr>\n",
              "    <tr>\n",
              "      <th>1999996</th>\n",
              "      <td>104260</td>\n",
              "      <td>2013-05-27 11:09:38</td>\n",
              "      <td>5</td>\n",
              "      <td>219</td>\n",
              "      <td>0.0</td>\n",
              "      <td>0.0</td>\n",
              "      <td>219</td>\n",
              "      <td>82248</td>\n",
              "      <td>3</td>\n",
              "      <td>5.0</td>\n",
              "      <td>1</td>\n",
              "      <td>0.69</td>\n",
              "      <td>0.0161</td>\n",
              "      <td>4.46</td>\n",
              "      <td>69.00</td>\n",
              "      <td>0</td>\n",
              "      <td>18175</td>\n",
              "      <td>1</td>\n",
              "      <td>16</td>\n",
              "      <td>2</td>\n",
              "      <td>0</td>\n",
              "      <td>1</td>\n",
              "      <td>0</td>\n",
              "      <td>0.0</td>\n",
              "      <td>0.00</td>\n",
              "    </tr>\n",
              "    <tr>\n",
              "      <th>1999997</th>\n",
              "      <td>248343</td>\n",
              "      <td>2013-03-27 19:05:47</td>\n",
              "      <td>14</td>\n",
              "      <td>100</td>\n",
              "      <td>0.0</td>\n",
              "      <td>0.0</td>\n",
              "      <td>100</td>\n",
              "      <td>51555</td>\n",
              "      <td>4</td>\n",
              "      <td>4.5</td>\n",
              "      <td>1</td>\n",
              "      <td>4.63</td>\n",
              "      <td>0.1602</td>\n",
              "      <td>5.30</td>\n",
              "      <td>139.76</td>\n",
              "      <td>1</td>\n",
              "      <td>2142</td>\n",
              "      <td>1</td>\n",
              "      <td>9</td>\n",
              "      <td>2</td>\n",
              "      <td>0</td>\n",
              "      <td>1</td>\n",
              "      <td>1</td>\n",
              "      <td>0.0</td>\n",
              "      <td>102.77</td>\n",
              "    </tr>\n",
              "    <tr>\n",
              "      <th>1999998</th>\n",
              "      <td>248298</td>\n",
              "      <td>2012-11-28 08:07:11</td>\n",
              "      <td>5</td>\n",
              "      <td>215</td>\n",
              "      <td>0.0</td>\n",
              "      <td>0.0</td>\n",
              "      <td>215</td>\n",
              "      <td>109359</td>\n",
              "      <td>4</td>\n",
              "      <td>3.5</td>\n",
              "      <td>0</td>\n",
              "      <td>6.05</td>\n",
              "      <td>0.0000</td>\n",
              "      <td>5.24</td>\n",
              "      <td>85.00</td>\n",
              "      <td>0</td>\n",
              "      <td>14828</td>\n",
              "      <td>3</td>\n",
              "      <td>0</td>\n",
              "      <td>1</td>\n",
              "      <td>0</td>\n",
              "      <td>1</td>\n",
              "      <td>0</td>\n",
              "      <td>0.0</td>\n",
              "      <td>0.00</td>\n",
              "    </tr>\n",
              "    <tr>\n",
              "      <th>1999999</th>\n",
              "      <td>427295</td>\n",
              "      <td>2013-01-08 10:00:36</td>\n",
              "      <td>22</td>\n",
              "      <td>92</td>\n",
              "      <td>0.0</td>\n",
              "      <td>0.0</td>\n",
              "      <td>92</td>\n",
              "      <td>92829</td>\n",
              "      <td>3</td>\n",
              "      <td>4.5</td>\n",
              "      <td>0</td>\n",
              "      <td>1.79</td>\n",
              "      <td>0.2799</td>\n",
              "      <td>4.37</td>\n",
              "      <td>70.81</td>\n",
              "      <td>0</td>\n",
              "      <td>25946</td>\n",
              "      <td>2</td>\n",
              "      <td>13</td>\n",
              "      <td>2</td>\n",
              "      <td>0</td>\n",
              "      <td>1</td>\n",
              "      <td>0</td>\n",
              "      <td>0.0</td>\n",
              "      <td>0.00</td>\n",
              "    </tr>\n",
              "  </tbody>\n",
              "</table>\n",
              "<p>2000000 rows × 25 columns</p>\n",
              "</div>"
            ],
            "text/plain": [
              "         srch_id  ... orig_destination_distance\n",
              "0         480130  ...                   5410.16\n",
              "1         375759  ...                   1413.00\n",
              "2          75275  ...                     78.42\n",
              "3         349998  ...                    210.95\n",
              "4         601627  ...                      0.00\n",
              "...          ...  ...                       ...\n",
              "1999995   134853  ...                      0.00\n",
              "1999996   104260  ...                      0.00\n",
              "1999997   248343  ...                    102.77\n",
              "1999998   248298  ...                      0.00\n",
              "1999999   427295  ...                      0.00\n",
              "\n",
              "[2000000 rows x 25 columns]"
            ]
          },
          "metadata": {
            "tags": []
          },
          "execution_count": 249
        }
      ]
    },
    {
      "cell_type": "code",
      "metadata": {
        "colab": {
          "base_uri": "https://localhost:8080/",
          "height": 773
        },
        "id": "hqFQHmJWhM95",
        "outputId": "9963598a-c8bd-426f-d731-c302ec189288"
      },
      "source": [
        "df_train = pd.read_csv(train)\n",
        "df_train = df_train.drop('Unnamed: 0',axis=1)\n",
        "df_train"
      ],
      "execution_count": 250,
      "outputs": [
        {
          "output_type": "execute_result",
          "data": {
            "text/html": [
              "<div>\n",
              "<style scoped>\n",
              "    .dataframe tbody tr th:only-of-type {\n",
              "        vertical-align: middle;\n",
              "    }\n",
              "\n",
              "    .dataframe tbody tr th {\n",
              "        vertical-align: top;\n",
              "    }\n",
              "\n",
              "    .dataframe thead th {\n",
              "        text-align: right;\n",
              "    }\n",
              "</style>\n",
              "<table border=\"1\" class=\"dataframe\">\n",
              "  <thead>\n",
              "    <tr style=\"text-align: right;\">\n",
              "      <th></th>\n",
              "      <th>srch_id</th>\n",
              "      <th>date_time</th>\n",
              "      <th>site_id</th>\n",
              "      <th>visitor_location_country_id</th>\n",
              "      <th>visitor_hist_starrating</th>\n",
              "      <th>visitor_hist_adr_usd</th>\n",
              "      <th>prop_country_id</th>\n",
              "      <th>prop_id</th>\n",
              "      <th>prop_starrating</th>\n",
              "      <th>prop_review_score</th>\n",
              "      <th>prop_brand_bool</th>\n",
              "      <th>prop_location_score1</th>\n",
              "      <th>prop_location_score2</th>\n",
              "      <th>prop_log_historical_price</th>\n",
              "      <th>price_usd</th>\n",
              "      <th>promotion_flag</th>\n",
              "      <th>srch_destination_id</th>\n",
              "      <th>srch_length_of_stay</th>\n",
              "      <th>srch_booking_window</th>\n",
              "      <th>srch_adults_count</th>\n",
              "      <th>srch_children_count</th>\n",
              "      <th>srch_room_count</th>\n",
              "      <th>srch_saturday_night_bool</th>\n",
              "      <th>srch_query_affinity_score</th>\n",
              "      <th>orig_destination_distance</th>\n",
              "    </tr>\n",
              "  </thead>\n",
              "  <tbody>\n",
              "    <tr>\n",
              "      <th>0</th>\n",
              "      <td>31</td>\n",
              "      <td>2013-05-28 22:05:02</td>\n",
              "      <td>24</td>\n",
              "      <td>216</td>\n",
              "      <td>0.0</td>\n",
              "      <td>0.0</td>\n",
              "      <td>15</td>\n",
              "      <td>122877</td>\n",
              "      <td>1</td>\n",
              "      <td>1.5</td>\n",
              "      <td>0</td>\n",
              "      <td>4.04</td>\n",
              "      <td>0.0000</td>\n",
              "      <td>5.10</td>\n",
              "      <td>73.84</td>\n",
              "      <td>0</td>\n",
              "      <td>19144</td>\n",
              "      <td>1</td>\n",
              "      <td>214</td>\n",
              "      <td>2</td>\n",
              "      <td>2</td>\n",
              "      <td>1</td>\n",
              "      <td>1</td>\n",
              "      <td>0.0</td>\n",
              "      <td>0.00</td>\n",
              "    </tr>\n",
              "    <tr>\n",
              "      <th>1</th>\n",
              "      <td>43</td>\n",
              "      <td>2013-01-09 16:45:45</td>\n",
              "      <td>5</td>\n",
              "      <td>219</td>\n",
              "      <td>0.0</td>\n",
              "      <td>0.0</td>\n",
              "      <td>219</td>\n",
              "      <td>77411</td>\n",
              "      <td>1</td>\n",
              "      <td>3.0</td>\n",
              "      <td>0</td>\n",
              "      <td>3.43</td>\n",
              "      <td>0.0000</td>\n",
              "      <td>4.99</td>\n",
              "      <td>50.00</td>\n",
              "      <td>0</td>\n",
              "      <td>15066</td>\n",
              "      <td>1</td>\n",
              "      <td>11</td>\n",
              "      <td>2</td>\n",
              "      <td>0</td>\n",
              "      <td>1</td>\n",
              "      <td>0</td>\n",
              "      <td>0.0</td>\n",
              "      <td>113.88</td>\n",
              "    </tr>\n",
              "    <tr>\n",
              "      <th>2</th>\n",
              "      <td>126</td>\n",
              "      <td>2013-03-30 11:31:29</td>\n",
              "      <td>32</td>\n",
              "      <td>220</td>\n",
              "      <td>0.0</td>\n",
              "      <td>0.0</td>\n",
              "      <td>221</td>\n",
              "      <td>3526</td>\n",
              "      <td>1</td>\n",
              "      <td>4.0</td>\n",
              "      <td>0</td>\n",
              "      <td>4.44</td>\n",
              "      <td>0.2020</td>\n",
              "      <td>4.64</td>\n",
              "      <td>79.18</td>\n",
              "      <td>0</td>\n",
              "      <td>27953</td>\n",
              "      <td>2</td>\n",
              "      <td>117</td>\n",
              "      <td>4</td>\n",
              "      <td>0</td>\n",
              "      <td>2</td>\n",
              "      <td>1</td>\n",
              "      <td>0.0</td>\n",
              "      <td>0.00</td>\n",
              "    </tr>\n",
              "    <tr>\n",
              "      <th>3</th>\n",
              "      <td>136</td>\n",
              "      <td>2013-04-04 18:43:37</td>\n",
              "      <td>5</td>\n",
              "      <td>219</td>\n",
              "      <td>0.0</td>\n",
              "      <td>0.0</td>\n",
              "      <td>219</td>\n",
              "      <td>75245</td>\n",
              "      <td>1</td>\n",
              "      <td>2.5</td>\n",
              "      <td>1</td>\n",
              "      <td>2.71</td>\n",
              "      <td>0.1021</td>\n",
              "      <td>4.07</td>\n",
              "      <td>40.00</td>\n",
              "      <td>0</td>\n",
              "      <td>6767</td>\n",
              "      <td>2</td>\n",
              "      <td>15</td>\n",
              "      <td>2</td>\n",
              "      <td>2</td>\n",
              "      <td>1</td>\n",
              "      <td>1</td>\n",
              "      <td>0.0</td>\n",
              "      <td>164.24</td>\n",
              "    </tr>\n",
              "    <tr>\n",
              "      <th>4</th>\n",
              "      <td>168</td>\n",
              "      <td>2013-01-04 10:27:26</td>\n",
              "      <td>12</td>\n",
              "      <td>99</td>\n",
              "      <td>0.0</td>\n",
              "      <td>0.0</td>\n",
              "      <td>132</td>\n",
              "      <td>13108</td>\n",
              "      <td>1</td>\n",
              "      <td>2.5</td>\n",
              "      <td>0</td>\n",
              "      <td>5.72</td>\n",
              "      <td>0.7098</td>\n",
              "      <td>4.72</td>\n",
              "      <td>39.21</td>\n",
              "      <td>0</td>\n",
              "      <td>27231</td>\n",
              "      <td>1</td>\n",
              "      <td>5</td>\n",
              "      <td>1</td>\n",
              "      <td>0</td>\n",
              "      <td>1</td>\n",
              "      <td>0</td>\n",
              "      <td>0.0</td>\n",
              "      <td>0.00</td>\n",
              "    </tr>\n",
              "    <tr>\n",
              "      <th>...</th>\n",
              "      <td>...</td>\n",
              "      <td>...</td>\n",
              "      <td>...</td>\n",
              "      <td>...</td>\n",
              "      <td>...</td>\n",
              "      <td>...</td>\n",
              "      <td>...</td>\n",
              "      <td>...</td>\n",
              "      <td>...</td>\n",
              "      <td>...</td>\n",
              "      <td>...</td>\n",
              "      <td>...</td>\n",
              "      <td>...</td>\n",
              "      <td>...</td>\n",
              "      <td>...</td>\n",
              "      <td>...</td>\n",
              "      <td>...</td>\n",
              "      <td>...</td>\n",
              "      <td>...</td>\n",
              "      <td>...</td>\n",
              "      <td>...</td>\n",
              "      <td>...</td>\n",
              "      <td>...</td>\n",
              "      <td>...</td>\n",
              "      <td>...</td>\n",
              "    </tr>\n",
              "    <tr>\n",
              "      <th>3039064</th>\n",
              "      <td>665566</td>\n",
              "      <td>2013-05-16 13:43:31</td>\n",
              "      <td>24</td>\n",
              "      <td>219</td>\n",
              "      <td>0.0</td>\n",
              "      <td>0.0</td>\n",
              "      <td>219</td>\n",
              "      <td>99741</td>\n",
              "      <td>3</td>\n",
              "      <td>4.5</td>\n",
              "      <td>1</td>\n",
              "      <td>1.79</td>\n",
              "      <td>0.0013</td>\n",
              "      <td>5.27</td>\n",
              "      <td>148.14</td>\n",
              "      <td>0</td>\n",
              "      <td>9402</td>\n",
              "      <td>3</td>\n",
              "      <td>84</td>\n",
              "      <td>3</td>\n",
              "      <td>2</td>\n",
              "      <td>1</td>\n",
              "      <td>1</td>\n",
              "      <td>0.0</td>\n",
              "      <td>2382.05</td>\n",
              "    </tr>\n",
              "    <tr>\n",
              "      <th>3039065</th>\n",
              "      <td>665566</td>\n",
              "      <td>2013-05-16 13:43:31</td>\n",
              "      <td>24</td>\n",
              "      <td>219</td>\n",
              "      <td>0.0</td>\n",
              "      <td>0.0</td>\n",
              "      <td>219</td>\n",
              "      <td>104685</td>\n",
              "      <td>3</td>\n",
              "      <td>4.5</td>\n",
              "      <td>1</td>\n",
              "      <td>1.79</td>\n",
              "      <td>0.0009</td>\n",
              "      <td>5.27</td>\n",
              "      <td>144.26</td>\n",
              "      <td>0</td>\n",
              "      <td>9402</td>\n",
              "      <td>3</td>\n",
              "      <td>84</td>\n",
              "      <td>3</td>\n",
              "      <td>2</td>\n",
              "      <td>1</td>\n",
              "      <td>1</td>\n",
              "      <td>0.0</td>\n",
              "      <td>2382.09</td>\n",
              "    </tr>\n",
              "    <tr>\n",
              "      <th>3039066</th>\n",
              "      <td>665566</td>\n",
              "      <td>2013-05-16 13:43:31</td>\n",
              "      <td>24</td>\n",
              "      <td>219</td>\n",
              "      <td>0.0</td>\n",
              "      <td>0.0</td>\n",
              "      <td>219</td>\n",
              "      <td>109868</td>\n",
              "      <td>4</td>\n",
              "      <td>4.0</td>\n",
              "      <td>1</td>\n",
              "      <td>3.00</td>\n",
              "      <td>0.0088</td>\n",
              "      <td>5.44</td>\n",
              "      <td>174.23</td>\n",
              "      <td>0</td>\n",
              "      <td>9402</td>\n",
              "      <td>3</td>\n",
              "      <td>84</td>\n",
              "      <td>3</td>\n",
              "      <td>2</td>\n",
              "      <td>1</td>\n",
              "      <td>1</td>\n",
              "      <td>0.0</td>\n",
              "      <td>2390.21</td>\n",
              "    </tr>\n",
              "    <tr>\n",
              "      <th>3039067</th>\n",
              "      <td>665566</td>\n",
              "      <td>2013-05-16 13:43:31</td>\n",
              "      <td>24</td>\n",
              "      <td>219</td>\n",
              "      <td>0.0</td>\n",
              "      <td>0.0</td>\n",
              "      <td>219</td>\n",
              "      <td>117582</td>\n",
              "      <td>4</td>\n",
              "      <td>4.5</td>\n",
              "      <td>1</td>\n",
              "      <td>4.54</td>\n",
              "      <td>0.0226</td>\n",
              "      <td>5.38</td>\n",
              "      <td>412.15</td>\n",
              "      <td>0</td>\n",
              "      <td>9402</td>\n",
              "      <td>3</td>\n",
              "      <td>84</td>\n",
              "      <td>3</td>\n",
              "      <td>2</td>\n",
              "      <td>1</td>\n",
              "      <td>1</td>\n",
              "      <td>0.0</td>\n",
              "      <td>2390.00</td>\n",
              "    </tr>\n",
              "    <tr>\n",
              "      <th>3039068</th>\n",
              "      <td>665566</td>\n",
              "      <td>2013-05-16 13:43:31</td>\n",
              "      <td>24</td>\n",
              "      <td>219</td>\n",
              "      <td>0.0</td>\n",
              "      <td>0.0</td>\n",
              "      <td>219</td>\n",
              "      <td>131352</td>\n",
              "      <td>3</td>\n",
              "      <td>4.0</td>\n",
              "      <td>0</td>\n",
              "      <td>5.09</td>\n",
              "      <td>0.0537</td>\n",
              "      <td>5.14</td>\n",
              "      <td>241.08</td>\n",
              "      <td>0</td>\n",
              "      <td>9402</td>\n",
              "      <td>3</td>\n",
              "      <td>84</td>\n",
              "      <td>3</td>\n",
              "      <td>2</td>\n",
              "      <td>1</td>\n",
              "      <td>1</td>\n",
              "      <td>0.0</td>\n",
              "      <td>2389.60</td>\n",
              "    </tr>\n",
              "  </tbody>\n",
              "</table>\n",
              "<p>3039069 rows × 25 columns</p>\n",
              "</div>"
            ],
            "text/plain": [
              "         srch_id  ... orig_destination_distance\n",
              "0             31  ...                      0.00\n",
              "1             43  ...                    113.88\n",
              "2            126  ...                      0.00\n",
              "3            136  ...                    164.24\n",
              "4            168  ...                      0.00\n",
              "...          ...  ...                       ...\n",
              "3039064   665566  ...                   2382.05\n",
              "3039065   665566  ...                   2382.09\n",
              "3039066   665566  ...                   2390.21\n",
              "3039067   665566  ...                   2390.00\n",
              "3039068   665566  ...                   2389.60\n",
              "\n",
              "[3039069 rows x 25 columns]"
            ]
          },
          "metadata": {
            "tags": []
          },
          "execution_count": 250
        }
      ]
    },
    {
      "cell_type": "code",
      "metadata": {
        "colab": {
          "base_uri": "https://localhost:8080/",
          "height": 437
        },
        "id": "tK3aPHmMpIsl",
        "outputId": "40504b96-0c22-4587-89bb-a0f1a1a25dda"
      },
      "source": [
        "df_train.iloc[:,8:16]"
      ],
      "execution_count": 251,
      "outputs": [
        {
          "output_type": "execute_result",
          "data": {
            "text/html": [
              "<div>\n",
              "<style scoped>\n",
              "    .dataframe tbody tr th:only-of-type {\n",
              "        vertical-align: middle;\n",
              "    }\n",
              "\n",
              "    .dataframe tbody tr th {\n",
              "        vertical-align: top;\n",
              "    }\n",
              "\n",
              "    .dataframe thead th {\n",
              "        text-align: right;\n",
              "    }\n",
              "</style>\n",
              "<table border=\"1\" class=\"dataframe\">\n",
              "  <thead>\n",
              "    <tr style=\"text-align: right;\">\n",
              "      <th></th>\n",
              "      <th>prop_starrating</th>\n",
              "      <th>prop_review_score</th>\n",
              "      <th>prop_brand_bool</th>\n",
              "      <th>prop_location_score1</th>\n",
              "      <th>prop_location_score2</th>\n",
              "      <th>prop_log_historical_price</th>\n",
              "      <th>price_usd</th>\n",
              "      <th>promotion_flag</th>\n",
              "    </tr>\n",
              "  </thead>\n",
              "  <tbody>\n",
              "    <tr>\n",
              "      <th>0</th>\n",
              "      <td>1</td>\n",
              "      <td>1.5</td>\n",
              "      <td>0</td>\n",
              "      <td>4.04</td>\n",
              "      <td>0.0000</td>\n",
              "      <td>5.10</td>\n",
              "      <td>73.84</td>\n",
              "      <td>0</td>\n",
              "    </tr>\n",
              "    <tr>\n",
              "      <th>1</th>\n",
              "      <td>1</td>\n",
              "      <td>3.0</td>\n",
              "      <td>0</td>\n",
              "      <td>3.43</td>\n",
              "      <td>0.0000</td>\n",
              "      <td>4.99</td>\n",
              "      <td>50.00</td>\n",
              "      <td>0</td>\n",
              "    </tr>\n",
              "    <tr>\n",
              "      <th>2</th>\n",
              "      <td>1</td>\n",
              "      <td>4.0</td>\n",
              "      <td>0</td>\n",
              "      <td>4.44</td>\n",
              "      <td>0.2020</td>\n",
              "      <td>4.64</td>\n",
              "      <td>79.18</td>\n",
              "      <td>0</td>\n",
              "    </tr>\n",
              "    <tr>\n",
              "      <th>3</th>\n",
              "      <td>1</td>\n",
              "      <td>2.5</td>\n",
              "      <td>1</td>\n",
              "      <td>2.71</td>\n",
              "      <td>0.1021</td>\n",
              "      <td>4.07</td>\n",
              "      <td>40.00</td>\n",
              "      <td>0</td>\n",
              "    </tr>\n",
              "    <tr>\n",
              "      <th>4</th>\n",
              "      <td>1</td>\n",
              "      <td>2.5</td>\n",
              "      <td>0</td>\n",
              "      <td>5.72</td>\n",
              "      <td>0.7098</td>\n",
              "      <td>4.72</td>\n",
              "      <td>39.21</td>\n",
              "      <td>0</td>\n",
              "    </tr>\n",
              "    <tr>\n",
              "      <th>...</th>\n",
              "      <td>...</td>\n",
              "      <td>...</td>\n",
              "      <td>...</td>\n",
              "      <td>...</td>\n",
              "      <td>...</td>\n",
              "      <td>...</td>\n",
              "      <td>...</td>\n",
              "      <td>...</td>\n",
              "    </tr>\n",
              "    <tr>\n",
              "      <th>3039064</th>\n",
              "      <td>3</td>\n",
              "      <td>4.5</td>\n",
              "      <td>1</td>\n",
              "      <td>1.79</td>\n",
              "      <td>0.0013</td>\n",
              "      <td>5.27</td>\n",
              "      <td>148.14</td>\n",
              "      <td>0</td>\n",
              "    </tr>\n",
              "    <tr>\n",
              "      <th>3039065</th>\n",
              "      <td>3</td>\n",
              "      <td>4.5</td>\n",
              "      <td>1</td>\n",
              "      <td>1.79</td>\n",
              "      <td>0.0009</td>\n",
              "      <td>5.27</td>\n",
              "      <td>144.26</td>\n",
              "      <td>0</td>\n",
              "    </tr>\n",
              "    <tr>\n",
              "      <th>3039066</th>\n",
              "      <td>4</td>\n",
              "      <td>4.0</td>\n",
              "      <td>1</td>\n",
              "      <td>3.00</td>\n",
              "      <td>0.0088</td>\n",
              "      <td>5.44</td>\n",
              "      <td>174.23</td>\n",
              "      <td>0</td>\n",
              "    </tr>\n",
              "    <tr>\n",
              "      <th>3039067</th>\n",
              "      <td>4</td>\n",
              "      <td>4.5</td>\n",
              "      <td>1</td>\n",
              "      <td>4.54</td>\n",
              "      <td>0.0226</td>\n",
              "      <td>5.38</td>\n",
              "      <td>412.15</td>\n",
              "      <td>0</td>\n",
              "    </tr>\n",
              "    <tr>\n",
              "      <th>3039068</th>\n",
              "      <td>3</td>\n",
              "      <td>4.0</td>\n",
              "      <td>0</td>\n",
              "      <td>5.09</td>\n",
              "      <td>0.0537</td>\n",
              "      <td>5.14</td>\n",
              "      <td>241.08</td>\n",
              "      <td>0</td>\n",
              "    </tr>\n",
              "  </tbody>\n",
              "</table>\n",
              "<p>3039069 rows × 8 columns</p>\n",
              "</div>"
            ],
            "text/plain": [
              "         prop_starrating  prop_review_score  ...  price_usd  promotion_flag\n",
              "0                      1                1.5  ...      73.84               0\n",
              "1                      1                3.0  ...      50.00               0\n",
              "2                      1                4.0  ...      79.18               0\n",
              "3                      1                2.5  ...      40.00               0\n",
              "4                      1                2.5  ...      39.21               0\n",
              "...                  ...                ...  ...        ...             ...\n",
              "3039064                3                4.5  ...     148.14               0\n",
              "3039065                3                4.5  ...     144.26               0\n",
              "3039066                4                4.0  ...     174.23               0\n",
              "3039067                4                4.5  ...     412.15               0\n",
              "3039068                3                4.0  ...     241.08               0\n",
              "\n",
              "[3039069 rows x 8 columns]"
            ]
          },
          "metadata": {
            "tags": []
          },
          "execution_count": 251
        }
      ]
    },
    {
      "cell_type": "code",
      "metadata": {
        "colab": {
          "base_uri": "https://localhost:8080/"
        },
        "id": "hXukj-SUjkLx",
        "outputId": "d3ea9ea1-8388-4465-ef1e-a7edf2cc663e"
      },
      "source": [
        "X_train = np.array(df_train.iloc[:, [9,11,13]])\n",
        "X_test = np.array(df_test.iloc[:, [9,11,13]])\n",
        "Y_train = np.array(df_train.iloc[:, 8])\n",
        "Y_train = Y_train.ravel()\n",
        "Y_test = np.array(df_test.iloc[:, 8])\n",
        "Y_test = Y_test.ravel()\n",
        "print(X_train.shape)\n",
        "print(X_test.shape)\n",
        "print(Y_train.shape)\n",
        "print(Y_test.shape)"
      ],
      "execution_count": 252,
      "outputs": [
        {
          "output_type": "stream",
          "text": [
            "(3039069, 3)\n",
            "(2000000, 3)\n",
            "(3039069,)\n",
            "(2000000,)\n"
          ],
          "name": "stdout"
        }
      ]
    },
    {
      "cell_type": "code",
      "metadata": {
        "id": "vSVNOuoaSPLO"
      },
      "source": [
        "GNB = GaussianNB()"
      ],
      "execution_count": 253,
      "outputs": []
    },
    {
      "cell_type": "code",
      "metadata": {
        "id": "07e_V4RJV3KL",
        "colab": {
          "base_uri": "https://localhost:8080/"
        },
        "outputId": "1bcdcba2-f245-4b48-8b98-1ff31fa8a67f"
      },
      "source": [
        "GNB.fit(X_train, Y_train)"
      ],
      "execution_count": 254,
      "outputs": [
        {
          "output_type": "execute_result",
          "data": {
            "text/plain": [
              "GaussianNB(priors=None, var_smoothing=1e-09)"
            ]
          },
          "metadata": {
            "tags": []
          },
          "execution_count": 254
        }
      ]
    },
    {
      "cell_type": "code",
      "metadata": {
        "id": "lh9qzjEfi6zw",
        "colab": {
          "base_uri": "https://localhost:8080/"
        },
        "outputId": "d70bb6f6-bf86-4cab-a454-efcda6bf3c51"
      },
      "source": [
        "GNB.score(X_train, Y_train)"
      ],
      "execution_count": 255,
      "outputs": [
        {
          "output_type": "execute_result",
          "data": {
            "text/plain": [
              "0.5977527986366877"
            ]
          },
          "metadata": {
            "tags": []
          },
          "execution_count": 255
        }
      ]
    },
    {
      "cell_type": "code",
      "metadata": {
        "id": "T1UXMgMokqzS",
        "colab": {
          "base_uri": "https://localhost:8080/"
        },
        "outputId": "d47f91eb-b03d-4f36-dfbc-8d7bdb604c5d"
      },
      "source": [
        "GNB.score(X_test, Y_test)"
      ],
      "execution_count": 256,
      "outputs": [
        {
          "output_type": "execute_result",
          "data": {
            "text/plain": [
              "0.59806"
            ]
          },
          "metadata": {
            "tags": []
          },
          "execution_count": 256
        }
      ]
    },
    {
      "cell_type": "code",
      "metadata": {
        "colab": {
          "base_uri": "https://localhost:8080/"
        },
        "id": "djN-AchF24lQ",
        "outputId": "e77ad8f9-9e1f-4f8f-d3ce-5e1757b25da1"
      },
      "source": [
        "expected = Y_test\n",
        "predicted = GNB.predict(X_test)\n",
        "print(metrics.classification_report(expected, predicted))"
      ],
      "execution_count": 257,
      "outputs": [
        {
          "output_type": "stream",
          "text": [
            "              precision    recall  f1-score   support\n",
            "\n",
            "           1       0.16      0.03      0.06     16200\n",
            "           2       0.65      0.61      0.63    362079\n",
            "           3       0.60      0.66      0.63    798454\n",
            "           4       0.58      0.57      0.58    647632\n",
            "           5       0.56      0.42      0.48    175635\n",
            "\n",
            "    accuracy                           0.60   2000000\n",
            "   macro avg       0.51      0.46      0.47   2000000\n",
            "weighted avg       0.60      0.60      0.59   2000000\n",
            "\n"
          ],
          "name": "stdout"
        }
      ]
    },
    {
      "cell_type": "code",
      "metadata": {
        "id": "mBVOZYZu4I7u"
      },
      "source": [
        "SMT = SMOTE(ratio='auto', kind='regular')"
      ],
      "execution_count": 258,
      "outputs": []
    },
    {
      "cell_type": "code",
      "metadata": {
        "colab": {
          "base_uri": "https://localhost:8080/"
        },
        "id": "Yv7m9iQs4be8",
        "outputId": "d883a8cf-8af3-4f38-de52-2242cb92c688"
      },
      "source": [
        "X_resampled, Y_resampled = SMT.fit_sample(X_train,list(Y_train))"
      ],
      "execution_count": 259,
      "outputs": [
        {
          "output_type": "stream",
          "text": [
            "/usr/local/lib/python3.7/dist-packages/sklearn/utils/deprecation.py:87: FutureWarning: Function safe_indexing is deprecated; safe_indexing is deprecated in version 0.22 and will be removed in version 0.24.\n",
            "  warnings.warn(msg, category=FutureWarning)\n",
            "/usr/local/lib/python3.7/dist-packages/sklearn/utils/deprecation.py:87: FutureWarning: Function safe_indexing is deprecated; safe_indexing is deprecated in version 0.22 and will be removed in version 0.24.\n",
            "  warnings.warn(msg, category=FutureWarning)\n",
            "/usr/local/lib/python3.7/dist-packages/sklearn/utils/deprecation.py:87: FutureWarning: Function safe_indexing is deprecated; safe_indexing is deprecated in version 0.22 and will be removed in version 0.24.\n",
            "  warnings.warn(msg, category=FutureWarning)\n",
            "/usr/local/lib/python3.7/dist-packages/sklearn/utils/deprecation.py:87: FutureWarning: Function safe_indexing is deprecated; safe_indexing is deprecated in version 0.22 and will be removed in version 0.24.\n",
            "  warnings.warn(msg, category=FutureWarning)\n"
          ],
          "name": "stderr"
        }
      ]
    },
    {
      "cell_type": "code",
      "metadata": {
        "colab": {
          "base_uri": "https://localhost:8080/"
        },
        "id": "V0QsCI5L4ilR",
        "outputId": "7494660a-e817-4c2e-820f-55e4701a727f"
      },
      "source": [
        "GNB.fit(X_resampled, Y_resampled)"
      ],
      "execution_count": 260,
      "outputs": [
        {
          "output_type": "execute_result",
          "data": {
            "text/plain": [
              "GaussianNB(priors=None, var_smoothing=1e-09)"
            ]
          },
          "metadata": {
            "tags": []
          },
          "execution_count": 260
        }
      ]
    },
    {
      "cell_type": "code",
      "metadata": {
        "colab": {
          "base_uri": "https://localhost:8080/"
        },
        "id": "iPBl-6-a5rGB",
        "outputId": "2f5f7762-5560-4a94-949e-06d76b3fceb6"
      },
      "source": [
        "GNB.score(X_resampled, Y_resampled)"
      ],
      "execution_count": 261,
      "outputs": [
        {
          "output_type": "execute_result",
          "data": {
            "text/plain": [
              "0.5428178368981688"
            ]
          },
          "metadata": {
            "tags": []
          },
          "execution_count": 261
        }
      ]
    },
    {
      "cell_type": "code",
      "metadata": {
        "colab": {
          "base_uri": "https://localhost:8080/"
        },
        "id": "8URrZIlO5kC2",
        "outputId": "a8b909a2-5d4f-4db2-d83e-d6c3e2e661e9"
      },
      "source": [
        "GNB.score(X_train, Y_train)"
      ],
      "execution_count": 262,
      "outputs": [
        {
          "output_type": "execute_result",
          "data": {
            "text/plain": [
              "0.5076284875400986"
            ]
          },
          "metadata": {
            "tags": []
          },
          "execution_count": 262
        }
      ]
    },
    {
      "cell_type": "code",
      "metadata": {
        "colab": {
          "base_uri": "https://localhost:8080/"
        },
        "id": "drPElpMX5ltJ",
        "outputId": "a72be9d9-3e8c-4b1a-effe-3e8fffe61a8e"
      },
      "source": [
        "GNB.score(X_test, Y_test)"
      ],
      "execution_count": 263,
      "outputs": [
        {
          "output_type": "execute_result",
          "data": {
            "text/plain": [
              "0.508104"
            ]
          },
          "metadata": {
            "tags": []
          },
          "execution_count": 263
        }
      ]
    },
    {
      "cell_type": "code",
      "metadata": {
        "colab": {
          "base_uri": "https://localhost:8080/"
        },
        "id": "wdKK-H6f4prW",
        "outputId": "ccbdd47c-1fc8-4f9e-df6a-c7858519a286"
      },
      "source": [
        "expected = Y_test\n",
        "predicted = GNB.predict(X_test)\n",
        "print(metrics.classification_report(expected, predicted))"
      ],
      "execution_count": 264,
      "outputs": [
        {
          "output_type": "stream",
          "text": [
            "              precision    recall  f1-score   support\n",
            "\n",
            "           1       0.06      0.46      0.11     16200\n",
            "           2       0.58      0.63      0.61    362079\n",
            "           3       0.64      0.52      0.57    798454\n",
            "           4       0.53      0.36      0.43    647632\n",
            "           5       0.33      0.74      0.46    175635\n",
            "\n",
            "    accuracy                           0.51   2000000\n",
            "   macro avg       0.43      0.54      0.44   2000000\n",
            "weighted avg       0.56      0.51      0.52   2000000\n",
            "\n"
          ],
          "name": "stdout"
        }
      ]
    },
    {
      "cell_type": "code",
      "metadata": {
        "colab": {
          "base_uri": "https://localhost:8080/",
          "height": 417
        },
        "id": "MH8C_Ru5OxMs",
        "outputId": "39188dfd-d502-4b48-f3aa-46d102f8dffd"
      },
      "source": [
        "df_train.iloc[:, [9,11,13,14,17,21]]"
      ],
      "execution_count": 265,
      "outputs": [
        {
          "output_type": "execute_result",
          "data": {
            "text/html": [
              "<div>\n",
              "<style scoped>\n",
              "    .dataframe tbody tr th:only-of-type {\n",
              "        vertical-align: middle;\n",
              "    }\n",
              "\n",
              "    .dataframe tbody tr th {\n",
              "        vertical-align: top;\n",
              "    }\n",
              "\n",
              "    .dataframe thead th {\n",
              "        text-align: right;\n",
              "    }\n",
              "</style>\n",
              "<table border=\"1\" class=\"dataframe\">\n",
              "  <thead>\n",
              "    <tr style=\"text-align: right;\">\n",
              "      <th></th>\n",
              "      <th>prop_review_score</th>\n",
              "      <th>prop_location_score1</th>\n",
              "      <th>prop_log_historical_price</th>\n",
              "      <th>price_usd</th>\n",
              "      <th>srch_length_of_stay</th>\n",
              "      <th>srch_room_count</th>\n",
              "    </tr>\n",
              "  </thead>\n",
              "  <tbody>\n",
              "    <tr>\n",
              "      <th>0</th>\n",
              "      <td>1.5</td>\n",
              "      <td>4.04</td>\n",
              "      <td>5.10</td>\n",
              "      <td>73.84</td>\n",
              "      <td>1</td>\n",
              "      <td>1</td>\n",
              "    </tr>\n",
              "    <tr>\n",
              "      <th>1</th>\n",
              "      <td>3.0</td>\n",
              "      <td>3.43</td>\n",
              "      <td>4.99</td>\n",
              "      <td>50.00</td>\n",
              "      <td>1</td>\n",
              "      <td>1</td>\n",
              "    </tr>\n",
              "    <tr>\n",
              "      <th>2</th>\n",
              "      <td>4.0</td>\n",
              "      <td>4.44</td>\n",
              "      <td>4.64</td>\n",
              "      <td>79.18</td>\n",
              "      <td>2</td>\n",
              "      <td>2</td>\n",
              "    </tr>\n",
              "    <tr>\n",
              "      <th>3</th>\n",
              "      <td>2.5</td>\n",
              "      <td>2.71</td>\n",
              "      <td>4.07</td>\n",
              "      <td>40.00</td>\n",
              "      <td>2</td>\n",
              "      <td>1</td>\n",
              "    </tr>\n",
              "    <tr>\n",
              "      <th>4</th>\n",
              "      <td>2.5</td>\n",
              "      <td>5.72</td>\n",
              "      <td>4.72</td>\n",
              "      <td>39.21</td>\n",
              "      <td>1</td>\n",
              "      <td>1</td>\n",
              "    </tr>\n",
              "    <tr>\n",
              "      <th>...</th>\n",
              "      <td>...</td>\n",
              "      <td>...</td>\n",
              "      <td>...</td>\n",
              "      <td>...</td>\n",
              "      <td>...</td>\n",
              "      <td>...</td>\n",
              "    </tr>\n",
              "    <tr>\n",
              "      <th>3039064</th>\n",
              "      <td>4.5</td>\n",
              "      <td>1.79</td>\n",
              "      <td>5.27</td>\n",
              "      <td>148.14</td>\n",
              "      <td>3</td>\n",
              "      <td>1</td>\n",
              "    </tr>\n",
              "    <tr>\n",
              "      <th>3039065</th>\n",
              "      <td>4.5</td>\n",
              "      <td>1.79</td>\n",
              "      <td>5.27</td>\n",
              "      <td>144.26</td>\n",
              "      <td>3</td>\n",
              "      <td>1</td>\n",
              "    </tr>\n",
              "    <tr>\n",
              "      <th>3039066</th>\n",
              "      <td>4.0</td>\n",
              "      <td>3.00</td>\n",
              "      <td>5.44</td>\n",
              "      <td>174.23</td>\n",
              "      <td>3</td>\n",
              "      <td>1</td>\n",
              "    </tr>\n",
              "    <tr>\n",
              "      <th>3039067</th>\n",
              "      <td>4.5</td>\n",
              "      <td>4.54</td>\n",
              "      <td>5.38</td>\n",
              "      <td>412.15</td>\n",
              "      <td>3</td>\n",
              "      <td>1</td>\n",
              "    </tr>\n",
              "    <tr>\n",
              "      <th>3039068</th>\n",
              "      <td>4.0</td>\n",
              "      <td>5.09</td>\n",
              "      <td>5.14</td>\n",
              "      <td>241.08</td>\n",
              "      <td>3</td>\n",
              "      <td>1</td>\n",
              "    </tr>\n",
              "  </tbody>\n",
              "</table>\n",
              "<p>3039069 rows × 6 columns</p>\n",
              "</div>"
            ],
            "text/plain": [
              "         prop_review_score  ...  srch_room_count\n",
              "0                      1.5  ...                1\n",
              "1                      3.0  ...                1\n",
              "2                      4.0  ...                2\n",
              "3                      2.5  ...                1\n",
              "4                      2.5  ...                1\n",
              "...                    ...  ...              ...\n",
              "3039064                4.5  ...                1\n",
              "3039065                4.5  ...                1\n",
              "3039066                4.0  ...                1\n",
              "3039067                4.5  ...                1\n",
              "3039068                4.0  ...                1\n",
              "\n",
              "[3039069 rows x 6 columns]"
            ]
          },
          "metadata": {
            "tags": []
          },
          "execution_count": 265
        }
      ]
    },
    {
      "cell_type": "code",
      "metadata": {
        "colab": {
          "base_uri": "https://localhost:8080/"
        },
        "id": "mdQSWDpUNmxw",
        "outputId": "ce8729c7-0628-4ebb-dcd8-c31440b9a003"
      },
      "source": [
        "X_train_clu = np.array(df_train.iloc[:, [9,11,13,14,17,21]])\n",
        "X_test_clu = np.array(df_test.iloc[:, [9,11,13,14,17,21]])\n",
        "Y_train_clu = np.array(df_train.iloc[:, 8])\n",
        "Y_train_clu = Y_train_clu.ravel()\n",
        "Y_test_clu = np.array(df_test.iloc[:, 8])\n",
        "Y_test_clu = Y_test_clu.ravel()\n",
        "print(X_train_clu.shape)\n",
        "print(X_test_clu.shape)\n",
        "print(Y_train_clu.shape)\n",
        "print(Y_test_clu.shape)"
      ],
      "execution_count": 266,
      "outputs": [
        {
          "output_type": "stream",
          "text": [
            "(3039069, 6)\n",
            "(2000000, 6)\n",
            "(3039069,)\n",
            "(2000000,)\n"
          ],
          "name": "stdout"
        }
      ]
    },
    {
      "cell_type": "code",
      "metadata": {
        "colab": {
          "base_uri": "https://localhost:8080/"
        },
        "id": "tcTJHmIoOse2",
        "outputId": "83e28d4b-acbc-4201-d643-13c2c13a6bf1"
      },
      "source": [
        "GNB.fit(X_train_clu, Y_train_clu)"
      ],
      "execution_count": 267,
      "outputs": [
        {
          "output_type": "execute_result",
          "data": {
            "text/plain": [
              "GaussianNB(priors=None, var_smoothing=1e-09)"
            ]
          },
          "metadata": {
            "tags": []
          },
          "execution_count": 267
        }
      ]
    },
    {
      "cell_type": "code",
      "metadata": {
        "colab": {
          "base_uri": "https://localhost:8080/"
        },
        "id": "27VsllYlO5_h",
        "outputId": "4f3df63a-1ede-4b1a-e5a0-f3e41f3120d8"
      },
      "source": [
        "GNB.score(X_train_clu, Y_train_clu)"
      ],
      "execution_count": 268,
      "outputs": [
        {
          "output_type": "execute_result",
          "data": {
            "text/plain": [
              "0.546694069795717"
            ]
          },
          "metadata": {
            "tags": []
          },
          "execution_count": 268
        }
      ]
    },
    {
      "cell_type": "code",
      "metadata": {
        "colab": {
          "base_uri": "https://localhost:8080/"
        },
        "id": "lGFtHSgXO5sH",
        "outputId": "f8494064-80b9-47ea-eb75-612a740cdffe"
      },
      "source": [
        "GNB.score(X_test_clu, Y_test_clu)"
      ],
      "execution_count": 269,
      "outputs": [
        {
          "output_type": "execute_result",
          "data": {
            "text/plain": [
              "0.5464845"
            ]
          },
          "metadata": {
            "tags": []
          },
          "execution_count": 269
        }
      ]
    },
    {
      "cell_type": "code",
      "metadata": {
        "colab": {
          "base_uri": "https://localhost:8080/"
        },
        "id": "p5l-I1oqR9Ug",
        "outputId": "23a867ac-a434-45ee-fcab-b86146fa1e69"
      },
      "source": [
        "expected = Y_test_clu\n",
        "predicted = GNB.predict(X_test_clu)\n",
        "print(metrics.classification_report(expected, predicted))"
      ],
      "execution_count": 270,
      "outputs": [
        {
          "output_type": "stream",
          "text": [
            "              precision    recall  f1-score   support\n",
            "\n",
            "           1       0.10      0.05      0.06     16200\n",
            "           2       0.58      0.74      0.65    362079\n",
            "           3       0.53      0.71      0.61    798454\n",
            "           4       0.55      0.39      0.46    647632\n",
            "           5       0.50      0.02      0.05    175635\n",
            "\n",
            "    accuracy                           0.55   2000000\n",
            "   macro avg       0.45      0.38      0.37   2000000\n",
            "weighted avg       0.54      0.55      0.51   2000000\n",
            "\n"
          ],
          "name": "stdout"
        }
      ]
    },
    {
      "cell_type": "code",
      "metadata": {
        "id": "HlWeRyy0f_Dw"
      },
      "source": [
        "P_GNB = GaussianNB(priors=[1/21,4/21,8/21,6/21,2/21])"
      ],
      "execution_count": 271,
      "outputs": []
    },
    {
      "cell_type": "code",
      "metadata": {
        "colab": {
          "base_uri": "https://localhost:8080/"
        },
        "id": "AJ6LgWudeYKm",
        "outputId": "f191c322-3d52-4d66-ea49-7c97d0120a05"
      },
      "source": [
        "P_GNB.fit(X_train, Y_train)"
      ],
      "execution_count": 272,
      "outputs": [
        {
          "output_type": "execute_result",
          "data": {
            "text/plain": [
              "GaussianNB(priors=[0.047619047619047616, 0.19047619047619047,\n",
              "                   0.38095238095238093, 0.2857142857142857,\n",
              "                   0.09523809523809523],\n",
              "           var_smoothing=1e-09)"
            ]
          },
          "metadata": {
            "tags": []
          },
          "execution_count": 272
        }
      ]
    },
    {
      "cell_type": "code",
      "metadata": {
        "colab": {
          "base_uri": "https://localhost:8080/"
        },
        "id": "ncpW7czCfWCS",
        "outputId": "dc18b396-d053-4381-e0a5-3a9f7ae2d83c"
      },
      "source": [
        "P_GNB.score(X_train, Y_train)"
      ],
      "execution_count": 273,
      "outputs": [
        {
          "output_type": "execute_result",
          "data": {
            "text/plain": [
              "0.5909569674133756"
            ]
          },
          "metadata": {
            "tags": []
          },
          "execution_count": 273
        }
      ]
    },
    {
      "cell_type": "code",
      "metadata": {
        "colab": {
          "base_uri": "https://localhost:8080/"
        },
        "id": "JqJeRYu1fXG4",
        "outputId": "dbcc02f2-5c89-46ec-edef-0c4dd7325afd"
      },
      "source": [
        "P_GNB.score(X_test, Y_test)"
      ],
      "execution_count": 274,
      "outputs": [
        {
          "output_type": "execute_result",
          "data": {
            "text/plain": [
              "0.5912595"
            ]
          },
          "metadata": {
            "tags": []
          },
          "execution_count": 274
        }
      ]
    },
    {
      "cell_type": "code",
      "metadata": {
        "id": "VCEzaEcoADtS"
      },
      "source": [
        "MNB = MultinomialNB()"
      ],
      "execution_count": 275,
      "outputs": []
    },
    {
      "cell_type": "code",
      "metadata": {
        "colab": {
          "base_uri": "https://localhost:8080/"
        },
        "id": "x7mOimqHAJ3h",
        "outputId": "2e66997f-0537-4dee-b281-abf37f1d0637"
      },
      "source": [
        "MNB.fit(X_train, Y_train)"
      ],
      "execution_count": 276,
      "outputs": [
        {
          "output_type": "execute_result",
          "data": {
            "text/plain": [
              "MultinomialNB(alpha=1.0, class_prior=None, fit_prior=True)"
            ]
          },
          "metadata": {
            "tags": []
          },
          "execution_count": 276
        }
      ]
    },
    {
      "cell_type": "code",
      "metadata": {
        "colab": {
          "base_uri": "https://localhost:8080/"
        },
        "id": "KyUuGnxnAL9i",
        "outputId": "06d9c75b-21e8-4c85-adbe-19c963be7792"
      },
      "source": [
        "MNB.score(X_train, Y_train)"
      ],
      "execution_count": 277,
      "outputs": [
        {
          "output_type": "execute_result",
          "data": {
            "text/plain": [
              "0.4200263304321159"
            ]
          },
          "metadata": {
            "tags": []
          },
          "execution_count": 277
        }
      ]
    },
    {
      "cell_type": "code",
      "metadata": {
        "colab": {
          "base_uri": "https://localhost:8080/"
        },
        "id": "RAbuuEJrAm3v",
        "outputId": "4376b0e6-ab24-471f-9cc5-cbe03f1613ba"
      },
      "source": [
        "MNB.score(X_test, Y_test)"
      ],
      "execution_count": 278,
      "outputs": [
        {
          "output_type": "execute_result",
          "data": {
            "text/plain": [
              "0.419094"
            ]
          },
          "metadata": {
            "tags": []
          },
          "execution_count": 278
        }
      ]
    },
    {
      "cell_type": "code",
      "metadata": {
        "id": "68dJ9sgDAid7"
      },
      "source": [
        "CNB = CategoricalNB()"
      ],
      "execution_count": 279,
      "outputs": []
    },
    {
      "cell_type": "code",
      "metadata": {
        "colab": {
          "base_uri": "https://localhost:8080/"
        },
        "id": "8ct3LxktAh_v",
        "outputId": "c525a9ae-0f0e-4366-da10-7d7c68d891ab"
      },
      "source": [
        "CNB.fit(X_train, Y_train)"
      ],
      "execution_count": 280,
      "outputs": [
        {
          "output_type": "execute_result",
          "data": {
            "text/plain": [
              "CategoricalNB(alpha=1.0, class_prior=None, fit_prior=True)"
            ]
          },
          "metadata": {
            "tags": []
          },
          "execution_count": 280
        }
      ]
    },
    {
      "cell_type": "code",
      "metadata": {
        "colab": {
          "base_uri": "https://localhost:8080/"
        },
        "id": "RqatlZ8wAh2p",
        "outputId": "a3ef68a4-bb76-40de-e4ae-b4879aab5e3e"
      },
      "source": [
        "CNB.score(X_train, Y_train)"
      ],
      "execution_count": 281,
      "outputs": [
        {
          "output_type": "execute_result",
          "data": {
            "text/plain": [
              "0.5599333216850292"
            ]
          },
          "metadata": {
            "tags": []
          },
          "execution_count": 281
        }
      ]
    },
    {
      "cell_type": "code",
      "metadata": {
        "colab": {
          "base_uri": "https://localhost:8080/"
        },
        "id": "gWoV0e9SAxDI",
        "outputId": "499f5091-b1a5-480b-fd1c-9738f8ecc299"
      },
      "source": [
        "CNB.score(X_test, Y_test)"
      ],
      "execution_count": 282,
      "outputs": [
        {
          "output_type": "execute_result",
          "data": {
            "text/plain": [
              "0.560134"
            ]
          },
          "metadata": {
            "tags": []
          },
          "execution_count": 282
        }
      ]
    },
    {
      "cell_type": "code",
      "metadata": {
        "colab": {
          "base_uri": "https://localhost:8080/"
        },
        "id": "jzVix-20XRj3",
        "outputId": "846fbe41-36a3-4a70-f6b7-028cb4d5389d"
      },
      "source": [
        "expected = Y_test\n",
        "predicted = CNB.predict(X_test)\n",
        "print(metrics.classification_report(expected, predicted))"
      ],
      "execution_count": 283,
      "outputs": [
        {
          "output_type": "stream",
          "text": [
            "              precision    recall  f1-score   support\n",
            "\n",
            "           1       0.41      0.02      0.03     16200\n",
            "           2       0.57      0.61      0.59    362079\n",
            "           3       0.57      0.53      0.55    798454\n",
            "           4       0.54      0.65      0.59    647632\n",
            "           5       0.57      0.30      0.40    175635\n",
            "\n",
            "    accuracy                           0.56   2000000\n",
            "   macro avg       0.53      0.42      0.43   2000000\n",
            "weighted avg       0.56      0.56      0.55   2000000\n",
            "\n"
          ],
          "name": "stdout"
        }
      ]
    },
    {
      "cell_type": "code",
      "metadata": {
        "colab": {
          "base_uri": "https://localhost:8080/",
          "height": 417
        },
        "id": "O9oFuRJUbqsp",
        "outputId": "630e9dce-e98e-435c-a945-44b94559296b"
      },
      "source": [
        "df_train.iloc[:, [7,9,11,13,17,21]]"
      ],
      "execution_count": 284,
      "outputs": [
        {
          "output_type": "execute_result",
          "data": {
            "text/html": [
              "<div>\n",
              "<style scoped>\n",
              "    .dataframe tbody tr th:only-of-type {\n",
              "        vertical-align: middle;\n",
              "    }\n",
              "\n",
              "    .dataframe tbody tr th {\n",
              "        vertical-align: top;\n",
              "    }\n",
              "\n",
              "    .dataframe thead th {\n",
              "        text-align: right;\n",
              "    }\n",
              "</style>\n",
              "<table border=\"1\" class=\"dataframe\">\n",
              "  <thead>\n",
              "    <tr style=\"text-align: right;\">\n",
              "      <th></th>\n",
              "      <th>prop_id</th>\n",
              "      <th>prop_review_score</th>\n",
              "      <th>prop_location_score1</th>\n",
              "      <th>prop_log_historical_price</th>\n",
              "      <th>srch_length_of_stay</th>\n",
              "      <th>srch_room_count</th>\n",
              "    </tr>\n",
              "  </thead>\n",
              "  <tbody>\n",
              "    <tr>\n",
              "      <th>0</th>\n",
              "      <td>122877</td>\n",
              "      <td>1.5</td>\n",
              "      <td>4.04</td>\n",
              "      <td>5.10</td>\n",
              "      <td>1</td>\n",
              "      <td>1</td>\n",
              "    </tr>\n",
              "    <tr>\n",
              "      <th>1</th>\n",
              "      <td>77411</td>\n",
              "      <td>3.0</td>\n",
              "      <td>3.43</td>\n",
              "      <td>4.99</td>\n",
              "      <td>1</td>\n",
              "      <td>1</td>\n",
              "    </tr>\n",
              "    <tr>\n",
              "      <th>2</th>\n",
              "      <td>3526</td>\n",
              "      <td>4.0</td>\n",
              "      <td>4.44</td>\n",
              "      <td>4.64</td>\n",
              "      <td>2</td>\n",
              "      <td>2</td>\n",
              "    </tr>\n",
              "    <tr>\n",
              "      <th>3</th>\n",
              "      <td>75245</td>\n",
              "      <td>2.5</td>\n",
              "      <td>2.71</td>\n",
              "      <td>4.07</td>\n",
              "      <td>2</td>\n",
              "      <td>1</td>\n",
              "    </tr>\n",
              "    <tr>\n",
              "      <th>4</th>\n",
              "      <td>13108</td>\n",
              "      <td>2.5</td>\n",
              "      <td>5.72</td>\n",
              "      <td>4.72</td>\n",
              "      <td>1</td>\n",
              "      <td>1</td>\n",
              "    </tr>\n",
              "    <tr>\n",
              "      <th>...</th>\n",
              "      <td>...</td>\n",
              "      <td>...</td>\n",
              "      <td>...</td>\n",
              "      <td>...</td>\n",
              "      <td>...</td>\n",
              "      <td>...</td>\n",
              "    </tr>\n",
              "    <tr>\n",
              "      <th>3039064</th>\n",
              "      <td>99741</td>\n",
              "      <td>4.5</td>\n",
              "      <td>1.79</td>\n",
              "      <td>5.27</td>\n",
              "      <td>3</td>\n",
              "      <td>1</td>\n",
              "    </tr>\n",
              "    <tr>\n",
              "      <th>3039065</th>\n",
              "      <td>104685</td>\n",
              "      <td>4.5</td>\n",
              "      <td>1.79</td>\n",
              "      <td>5.27</td>\n",
              "      <td>3</td>\n",
              "      <td>1</td>\n",
              "    </tr>\n",
              "    <tr>\n",
              "      <th>3039066</th>\n",
              "      <td>109868</td>\n",
              "      <td>4.0</td>\n",
              "      <td>3.00</td>\n",
              "      <td>5.44</td>\n",
              "      <td>3</td>\n",
              "      <td>1</td>\n",
              "    </tr>\n",
              "    <tr>\n",
              "      <th>3039067</th>\n",
              "      <td>117582</td>\n",
              "      <td>4.5</td>\n",
              "      <td>4.54</td>\n",
              "      <td>5.38</td>\n",
              "      <td>3</td>\n",
              "      <td>1</td>\n",
              "    </tr>\n",
              "    <tr>\n",
              "      <th>3039068</th>\n",
              "      <td>131352</td>\n",
              "      <td>4.0</td>\n",
              "      <td>5.09</td>\n",
              "      <td>5.14</td>\n",
              "      <td>3</td>\n",
              "      <td>1</td>\n",
              "    </tr>\n",
              "  </tbody>\n",
              "</table>\n",
              "<p>3039069 rows × 6 columns</p>\n",
              "</div>"
            ],
            "text/plain": [
              "         prop_id  prop_review_score  ...  srch_length_of_stay  srch_room_count\n",
              "0         122877                1.5  ...                    1                1\n",
              "1          77411                3.0  ...                    1                1\n",
              "2           3526                4.0  ...                    2                2\n",
              "3          75245                2.5  ...                    2                1\n",
              "4          13108                2.5  ...                    1                1\n",
              "...          ...                ...  ...                  ...              ...\n",
              "3039064    99741                4.5  ...                    3                1\n",
              "3039065   104685                4.5  ...                    3                1\n",
              "3039066   109868                4.0  ...                    3                1\n",
              "3039067   117582                4.5  ...                    3                1\n",
              "3039068   131352                4.0  ...                    3                1\n",
              "\n",
              "[3039069 rows x 6 columns]"
            ]
          },
          "metadata": {
            "tags": []
          },
          "execution_count": 284
        }
      ]
    },
    {
      "cell_type": "code",
      "metadata": {
        "colab": {
          "base_uri": "https://localhost:8080/"
        },
        "id": "HuGtKpjUbBRs",
        "outputId": "bde19fd8-199a-483f-81c5-16b00e28ab37"
      },
      "source": [
        "X_train_cat = np.array(df_train.iloc[:, [7,9,11,13,17,21]])\n",
        "X_test_cat = np.array(df_test.iloc[:, [7,9,11,13,17,21]])\n",
        "Y_train_cat = np.array(df_train.iloc[:, 8])\n",
        "Y_train_cat = Y_train_cat.ravel()\n",
        "Y_test_cat = np.array(df_test.iloc[:, 8])\n",
        "Y_test_cat = Y_test_cat.ravel()\n",
        "print(X_train_cat.shape)\n",
        "print(X_test_cat.shape)\n",
        "print(Y_train_cat.shape)\n",
        "print(Y_test_cat.shape)"
      ],
      "execution_count": 285,
      "outputs": [
        {
          "output_type": "stream",
          "text": [
            "(3039069, 6)\n",
            "(2000000, 6)\n",
            "(3039069,)\n",
            "(2000000,)\n"
          ],
          "name": "stdout"
        }
      ]
    },
    {
      "cell_type": "code",
      "metadata": {
        "colab": {
          "base_uri": "https://localhost:8080/"
        },
        "id": "PvCfn7MZXEFq",
        "outputId": "b6330385-8207-4a70-8dd8-2cdfd07b2772"
      },
      "source": [
        "CNB.fit(X_train_cat, Y_train_cat)"
      ],
      "execution_count": 286,
      "outputs": [
        {
          "output_type": "execute_result",
          "data": {
            "text/plain": [
              "CategoricalNB(alpha=1.0, class_prior=None, fit_prior=True)"
            ]
          },
          "metadata": {
            "tags": []
          },
          "execution_count": 286
        }
      ]
    },
    {
      "cell_type": "code",
      "metadata": {
        "colab": {
          "base_uri": "https://localhost:8080/"
        },
        "id": "tdKqZ_llXHj4",
        "outputId": "06da7772-7658-4efb-87b4-0855adc43212"
      },
      "source": [
        "CNB.score(X_train_cat, Y_train_cat)"
      ],
      "execution_count": 287,
      "outputs": [
        {
          "output_type": "execute_result",
          "data": {
            "text/plain": [
              "0.9873981143567323"
            ]
          },
          "metadata": {
            "tags": []
          },
          "execution_count": 287
        }
      ]
    },
    {
      "cell_type": "code",
      "metadata": {
        "colab": {
          "base_uri": "https://localhost:8080/"
        },
        "id": "zYr2kEvIXMsR",
        "outputId": "bd57ab51-a2cd-4b77-84ef-c8d0a1409852"
      },
      "source": [
        "CNB.score(X_test_cat, Y_test_cat)"
      ],
      "execution_count": 288,
      "outputs": [
        {
          "output_type": "execute_result",
          "data": {
            "text/plain": [
              "0.985654"
            ]
          },
          "metadata": {
            "tags": []
          },
          "execution_count": 288
        }
      ]
    },
    {
      "cell_type": "code",
      "metadata": {
        "colab": {
          "base_uri": "https://localhost:8080/"
        },
        "id": "gK5zpMvjXMgv",
        "outputId": "e34b2c17-61c1-4fee-d8f4-dd04d8820f7b"
      },
      "source": [
        "expected = Y_test_clu\n",
        "predicted = CNB.predict(X_test_cat)\n",
        "print(metrics.classification_report(expected, predicted))"
      ],
      "execution_count": 289,
      "outputs": [
        {
          "output_type": "stream",
          "text": [
            "              precision    recall  f1-score   support\n",
            "\n",
            "           1       0.94      0.93      0.93     16200\n",
            "           2       0.96      0.99      0.97    362079\n",
            "           3       0.99      0.99      0.99    798454\n",
            "           4       1.00      0.98      0.99    647632\n",
            "           5       0.98      0.98      0.98    175635\n",
            "\n",
            "    accuracy                           0.99   2000000\n",
            "   macro avg       0.97      0.97      0.97   2000000\n",
            "weighted avg       0.99      0.99      0.99   2000000\n",
            "\n"
          ],
          "name": "stdout"
        }
      ]
    },
    {
      "cell_type": "code",
      "metadata": {
        "id": "rA2kpaTrpcT1"
      },
      "source": [
        "CPNB = ComplementNB()"
      ],
      "execution_count": 290,
      "outputs": []
    },
    {
      "cell_type": "code",
      "metadata": {
        "colab": {
          "base_uri": "https://localhost:8080/"
        },
        "id": "Ey5xweh6sQ7-",
        "outputId": "2f3a462b-2d7d-4e61-dc99-0588df193f05"
      },
      "source": [
        "CPNB.fit(X_train, Y_train)"
      ],
      "execution_count": 291,
      "outputs": [
        {
          "output_type": "execute_result",
          "data": {
            "text/plain": [
              "ComplementNB(alpha=1.0, class_prior=None, fit_prior=True, norm=False)"
            ]
          },
          "metadata": {
            "tags": []
          },
          "execution_count": 291
        }
      ]
    },
    {
      "cell_type": "code",
      "metadata": {
        "colab": {
          "base_uri": "https://localhost:8080/"
        },
        "id": "ZdGaHoumsTgE",
        "outputId": "44701d97-cb38-4e4a-e886-b30783490277"
      },
      "source": [
        "CPNB.score(X_train, Y_train)"
      ],
      "execution_count": 292,
      "outputs": [
        {
          "output_type": "execute_result",
          "data": {
            "text/plain": [
              "0.4477052018233216"
            ]
          },
          "metadata": {
            "tags": []
          },
          "execution_count": 292
        }
      ]
    },
    {
      "cell_type": "code",
      "metadata": {
        "colab": {
          "base_uri": "https://localhost:8080/"
        },
        "id": "oPQIBJMksWvl",
        "outputId": "5fa6ee3d-15a9-4b68-991c-d913f891fe2a"
      },
      "source": [
        "CPNB.score(X_test, Y_test)"
      ],
      "execution_count": 293,
      "outputs": [
        {
          "output_type": "execute_result",
          "data": {
            "text/plain": [
              "0.44699"
            ]
          },
          "metadata": {
            "tags": []
          },
          "execution_count": 293
        }
      ]
    },
    {
      "cell_type": "code",
      "metadata": {
        "id": "cNVWSQPysZTn"
      },
      "source": [
        ""
      ],
      "execution_count": 293,
      "outputs": []
    }
  ]
}