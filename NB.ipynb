{
  "nbformat": 4,
  "nbformat_minor": 0,
  "metadata": {
    "colab": {
      "name": "NB.ipynb의 사본",
      "provenance": [],
      "collapsed_sections": [],
      "mount_file_id": "1288_yI0vPZingJX6DcF6koRdgGikDE8i",
      "authorship_tag": "ABX9TyNMly6+/fKxwZYrO7ijcB5A"
    },
    "kernelspec": {
      "name": "python3",
      "display_name": "Python 3"
    },
    "language_info": {
      "name": "python"
    },
    "accelerator": "GPU"
  },
  "cells": [
    {
      "cell_type": "code",
      "metadata": {
        "id": "bGVtedzkRI39",
        "colab": {
          "base_uri": "https://localhost:8080/"
        },
        "outputId": "5e1f8ae8-1f54-4330-e68a-f0be6dbcdef3"
      },
      "source": [
        "import pandas as pd\n",
        "import numpy as np\n",
        "#import seaborn as sns\n",
        "#import matplotlib.pyplot as plt\n",
        "#%matplotlib inline\n",
        "from sklearn.model_selection import train_test_split\n",
        "from sklearn.naive_bayes import GaussianNB, MultinomialNB, CategoricalNB, ComplementNB\n",
        "from sklearn import metrics\n",
        "from imblearn.over_sampling import SMOTE"
      ],
      "execution_count": 13,
      "outputs": [
        {
          "output_type": "stream",
          "text": [
            "/usr/local/lib/python3.7/dist-packages/sklearn/externals/six.py:31: FutureWarning: The module is deprecated in version 0.21 and will be removed in version 0.23 since we've dropped support for Python 2.7. Please rely on the official version of six (https://pypi.org/project/six/).\n",
            "  \"(https://pypi.org/project/six/).\", FutureWarning)\n",
            "/usr/local/lib/python3.7/dist-packages/sklearn/utils/deprecation.py:144: FutureWarning: The sklearn.neighbors.base module is  deprecated in version 0.22 and will be removed in version 0.24. The corresponding classes / functions should instead be imported from sklearn.neighbors. Anything that cannot be imported from sklearn.neighbors is now part of the private API.\n",
            "  warnings.warn(message, FutureWarning)\n"
          ],
          "name": "stderr"
        }
      ]
    },
    {
      "cell_type": "code",
      "metadata": {
        "id": "IsulkbsfjMt2"
      },
      "source": [
        "test = '/content/drive/MyDrive/data/hotel_test.csv'\n",
        "train = '/content/drive/MyDrive/data/hotel_train.csv'"
      ],
      "execution_count": 2,
      "outputs": []
    },
    {
      "cell_type": "code",
      "metadata": {
        "colab": {
          "base_uri": "https://localhost:8080/",
          "height": 773
        },
        "id": "M72Vw9HkiWes",
        "outputId": "e084cb8c-8356-45b8-f293-bba3ab57cc93"
      },
      "source": [
        "df_test = pd.read_csv(test)\n",
        "df_test = df_test.drop('Unnamed: 0',axis=1)\n",
        "df_test"
      ],
      "execution_count": 3,
      "outputs": [
        {
          "output_type": "execute_result",
          "data": {
            "text/html": [
              "<div>\n",
              "<style scoped>\n",
              "    .dataframe tbody tr th:only-of-type {\n",
              "        vertical-align: middle;\n",
              "    }\n",
              "\n",
              "    .dataframe tbody tr th {\n",
              "        vertical-align: top;\n",
              "    }\n",
              "\n",
              "    .dataframe thead th {\n",
              "        text-align: right;\n",
              "    }\n",
              "</style>\n",
              "<table border=\"1\" class=\"dataframe\">\n",
              "  <thead>\n",
              "    <tr style=\"text-align: right;\">\n",
              "      <th></th>\n",
              "      <th>srch_id</th>\n",
              "      <th>date_time</th>\n",
              "      <th>site_id</th>\n",
              "      <th>visitor_location_country_id</th>\n",
              "      <th>visitor_hist_starrating</th>\n",
              "      <th>visitor_hist_adr_usd</th>\n",
              "      <th>prop_country_id</th>\n",
              "      <th>prop_id</th>\n",
              "      <th>prop_starrating</th>\n",
              "      <th>prop_review_score</th>\n",
              "      <th>prop_brand_bool</th>\n",
              "      <th>prop_location_score1</th>\n",
              "      <th>prop_location_score2</th>\n",
              "      <th>prop_log_historical_price</th>\n",
              "      <th>price_usd</th>\n",
              "      <th>promotion_flag</th>\n",
              "      <th>srch_destination_id</th>\n",
              "      <th>srch_length_of_stay</th>\n",
              "      <th>srch_booking_window</th>\n",
              "      <th>srch_adults_count</th>\n",
              "      <th>srch_children_count</th>\n",
              "      <th>srch_room_count</th>\n",
              "      <th>srch_saturday_night_bool</th>\n",
              "      <th>srch_query_affinity_score</th>\n",
              "      <th>orig_destination_distance</th>\n",
              "    </tr>\n",
              "  </thead>\n",
              "  <tbody>\n",
              "    <tr>\n",
              "      <th>0</th>\n",
              "      <td>480130</td>\n",
              "      <td>2012-12-27 21:46:49</td>\n",
              "      <td>32</td>\n",
              "      <td>220</td>\n",
              "      <td>0.0</td>\n",
              "      <td>0.0</td>\n",
              "      <td>53</td>\n",
              "      <td>40809</td>\n",
              "      <td>5</td>\n",
              "      <td>5.0</td>\n",
              "      <td>1</td>\n",
              "      <td>4.88</td>\n",
              "      <td>0.0754</td>\n",
              "      <td>5.75</td>\n",
              "      <td>291.58</td>\n",
              "      <td>0</td>\n",
              "      <td>6005</td>\n",
              "      <td>2</td>\n",
              "      <td>33</td>\n",
              "      <td>1</td>\n",
              "      <td>0</td>\n",
              "      <td>1</td>\n",
              "      <td>0</td>\n",
              "      <td>0.0</td>\n",
              "      <td>5410.16</td>\n",
              "    </tr>\n",
              "    <tr>\n",
              "      <th>1</th>\n",
              "      <td>375759</td>\n",
              "      <td>2013-03-29 09:00:07</td>\n",
              "      <td>5</td>\n",
              "      <td>219</td>\n",
              "      <td>0.0</td>\n",
              "      <td>0.0</td>\n",
              "      <td>219</td>\n",
              "      <td>136308</td>\n",
              "      <td>3</td>\n",
              "      <td>4.0</td>\n",
              "      <td>1</td>\n",
              "      <td>1.61</td>\n",
              "      <td>0.0000</td>\n",
              "      <td>4.81</td>\n",
              "      <td>103.00</td>\n",
              "      <td>0</td>\n",
              "      <td>9147</td>\n",
              "      <td>4</td>\n",
              "      <td>55</td>\n",
              "      <td>3</td>\n",
              "      <td>0</td>\n",
              "      <td>1</td>\n",
              "      <td>1</td>\n",
              "      <td>0.0</td>\n",
              "      <td>1413.00</td>\n",
              "    </tr>\n",
              "    <tr>\n",
              "      <th>2</th>\n",
              "      <td>75275</td>\n",
              "      <td>2013-03-10 13:34:07</td>\n",
              "      <td>5</td>\n",
              "      <td>219</td>\n",
              "      <td>0.0</td>\n",
              "      <td>0.0</td>\n",
              "      <td>219</td>\n",
              "      <td>11948</td>\n",
              "      <td>4</td>\n",
              "      <td>4.5</td>\n",
              "      <td>0</td>\n",
              "      <td>2.48</td>\n",
              "      <td>0.0761</td>\n",
              "      <td>5.51</td>\n",
              "      <td>112.00</td>\n",
              "      <td>1</td>\n",
              "      <td>3095</td>\n",
              "      <td>2</td>\n",
              "      <td>75</td>\n",
              "      <td>1</td>\n",
              "      <td>0</td>\n",
              "      <td>1</td>\n",
              "      <td>1</td>\n",
              "      <td>0.0</td>\n",
              "      <td>78.42</td>\n",
              "    </tr>\n",
              "    <tr>\n",
              "      <th>3</th>\n",
              "      <td>349998</td>\n",
              "      <td>2013-03-20 12:43:53</td>\n",
              "      <td>5</td>\n",
              "      <td>219</td>\n",
              "      <td>0.0</td>\n",
              "      <td>0.0</td>\n",
              "      <td>219</td>\n",
              "      <td>66813</td>\n",
              "      <td>4</td>\n",
              "      <td>5.0</td>\n",
              "      <td>1</td>\n",
              "      <td>2.30</td>\n",
              "      <td>0.0220</td>\n",
              "      <td>5.01</td>\n",
              "      <td>129.00</td>\n",
              "      <td>0</td>\n",
              "      <td>9975</td>\n",
              "      <td>2</td>\n",
              "      <td>7</td>\n",
              "      <td>3</td>\n",
              "      <td>0</td>\n",
              "      <td>1</td>\n",
              "      <td>0</td>\n",
              "      <td>0.0</td>\n",
              "      <td>210.95</td>\n",
              "    </tr>\n",
              "    <tr>\n",
              "      <th>4</th>\n",
              "      <td>601627</td>\n",
              "      <td>2013-05-01 23:36:43</td>\n",
              "      <td>26</td>\n",
              "      <td>39</td>\n",
              "      <td>0.0</td>\n",
              "      <td>0.0</td>\n",
              "      <td>98</td>\n",
              "      <td>73890</td>\n",
              "      <td>5</td>\n",
              "      <td>4.5</td>\n",
              "      <td>0</td>\n",
              "      <td>3.64</td>\n",
              "      <td>0.0274</td>\n",
              "      <td>5.77</td>\n",
              "      <td>119.24</td>\n",
              "      <td>1</td>\n",
              "      <td>23561</td>\n",
              "      <td>3</td>\n",
              "      <td>77</td>\n",
              "      <td>2</td>\n",
              "      <td>0</td>\n",
              "      <td>1</td>\n",
              "      <td>0</td>\n",
              "      <td>0.0</td>\n",
              "      <td>0.00</td>\n",
              "    </tr>\n",
              "    <tr>\n",
              "      <th>...</th>\n",
              "      <td>...</td>\n",
              "      <td>...</td>\n",
              "      <td>...</td>\n",
              "      <td>...</td>\n",
              "      <td>...</td>\n",
              "      <td>...</td>\n",
              "      <td>...</td>\n",
              "      <td>...</td>\n",
              "      <td>...</td>\n",
              "      <td>...</td>\n",
              "      <td>...</td>\n",
              "      <td>...</td>\n",
              "      <td>...</td>\n",
              "      <td>...</td>\n",
              "      <td>...</td>\n",
              "      <td>...</td>\n",
              "      <td>...</td>\n",
              "      <td>...</td>\n",
              "      <td>...</td>\n",
              "      <td>...</td>\n",
              "      <td>...</td>\n",
              "      <td>...</td>\n",
              "      <td>...</td>\n",
              "      <td>...</td>\n",
              "      <td>...</td>\n",
              "    </tr>\n",
              "    <tr>\n",
              "      <th>1999995</th>\n",
              "      <td>134853</td>\n",
              "      <td>2013-04-04 14:25:04</td>\n",
              "      <td>15</td>\n",
              "      <td>55</td>\n",
              "      <td>0.0</td>\n",
              "      <td>0.0</td>\n",
              "      <td>55</td>\n",
              "      <td>137991</td>\n",
              "      <td>4</td>\n",
              "      <td>4.5</td>\n",
              "      <td>1</td>\n",
              "      <td>4.25</td>\n",
              "      <td>0.0117</td>\n",
              "      <td>5.68</td>\n",
              "      <td>274.22</td>\n",
              "      <td>0</td>\n",
              "      <td>10979</td>\n",
              "      <td>2</td>\n",
              "      <td>80</td>\n",
              "      <td>3</td>\n",
              "      <td>0</td>\n",
              "      <td>1</td>\n",
              "      <td>0</td>\n",
              "      <td>0.0</td>\n",
              "      <td>0.00</td>\n",
              "    </tr>\n",
              "    <tr>\n",
              "      <th>1999996</th>\n",
              "      <td>104260</td>\n",
              "      <td>2013-05-27 11:09:38</td>\n",
              "      <td>5</td>\n",
              "      <td>219</td>\n",
              "      <td>0.0</td>\n",
              "      <td>0.0</td>\n",
              "      <td>219</td>\n",
              "      <td>82248</td>\n",
              "      <td>3</td>\n",
              "      <td>5.0</td>\n",
              "      <td>1</td>\n",
              "      <td>0.69</td>\n",
              "      <td>0.0161</td>\n",
              "      <td>4.46</td>\n",
              "      <td>69.00</td>\n",
              "      <td>0</td>\n",
              "      <td>18175</td>\n",
              "      <td>1</td>\n",
              "      <td>16</td>\n",
              "      <td>2</td>\n",
              "      <td>0</td>\n",
              "      <td>1</td>\n",
              "      <td>0</td>\n",
              "      <td>0.0</td>\n",
              "      <td>0.00</td>\n",
              "    </tr>\n",
              "    <tr>\n",
              "      <th>1999997</th>\n",
              "      <td>248343</td>\n",
              "      <td>2013-03-27 19:05:47</td>\n",
              "      <td>14</td>\n",
              "      <td>100</td>\n",
              "      <td>0.0</td>\n",
              "      <td>0.0</td>\n",
              "      <td>100</td>\n",
              "      <td>51555</td>\n",
              "      <td>4</td>\n",
              "      <td>4.5</td>\n",
              "      <td>1</td>\n",
              "      <td>4.63</td>\n",
              "      <td>0.1602</td>\n",
              "      <td>5.30</td>\n",
              "      <td>139.76</td>\n",
              "      <td>1</td>\n",
              "      <td>2142</td>\n",
              "      <td>1</td>\n",
              "      <td>9</td>\n",
              "      <td>2</td>\n",
              "      <td>0</td>\n",
              "      <td>1</td>\n",
              "      <td>1</td>\n",
              "      <td>0.0</td>\n",
              "      <td>102.77</td>\n",
              "    </tr>\n",
              "    <tr>\n",
              "      <th>1999998</th>\n",
              "      <td>248298</td>\n",
              "      <td>2012-11-28 08:07:11</td>\n",
              "      <td>5</td>\n",
              "      <td>215</td>\n",
              "      <td>0.0</td>\n",
              "      <td>0.0</td>\n",
              "      <td>215</td>\n",
              "      <td>109359</td>\n",
              "      <td>4</td>\n",
              "      <td>3.5</td>\n",
              "      <td>0</td>\n",
              "      <td>6.05</td>\n",
              "      <td>0.0000</td>\n",
              "      <td>5.24</td>\n",
              "      <td>85.00</td>\n",
              "      <td>0</td>\n",
              "      <td>14828</td>\n",
              "      <td>3</td>\n",
              "      <td>0</td>\n",
              "      <td>1</td>\n",
              "      <td>0</td>\n",
              "      <td>1</td>\n",
              "      <td>0</td>\n",
              "      <td>0.0</td>\n",
              "      <td>0.00</td>\n",
              "    </tr>\n",
              "    <tr>\n",
              "      <th>1999999</th>\n",
              "      <td>427295</td>\n",
              "      <td>2013-01-08 10:00:36</td>\n",
              "      <td>22</td>\n",
              "      <td>92</td>\n",
              "      <td>0.0</td>\n",
              "      <td>0.0</td>\n",
              "      <td>92</td>\n",
              "      <td>92829</td>\n",
              "      <td>3</td>\n",
              "      <td>4.5</td>\n",
              "      <td>0</td>\n",
              "      <td>1.79</td>\n",
              "      <td>0.2799</td>\n",
              "      <td>4.37</td>\n",
              "      <td>70.81</td>\n",
              "      <td>0</td>\n",
              "      <td>25946</td>\n",
              "      <td>2</td>\n",
              "      <td>13</td>\n",
              "      <td>2</td>\n",
              "      <td>0</td>\n",
              "      <td>1</td>\n",
              "      <td>0</td>\n",
              "      <td>0.0</td>\n",
              "      <td>0.00</td>\n",
              "    </tr>\n",
              "  </tbody>\n",
              "</table>\n",
              "<p>2000000 rows × 25 columns</p>\n",
              "</div>"
            ],
            "text/plain": [
              "         srch_id  ... orig_destination_distance\n",
              "0         480130  ...                   5410.16\n",
              "1         375759  ...                   1413.00\n",
              "2          75275  ...                     78.42\n",
              "3         349998  ...                    210.95\n",
              "4         601627  ...                      0.00\n",
              "...          ...  ...                       ...\n",
              "1999995   134853  ...                      0.00\n",
              "1999996   104260  ...                      0.00\n",
              "1999997   248343  ...                    102.77\n",
              "1999998   248298  ...                      0.00\n",
              "1999999   427295  ...                      0.00\n",
              "\n",
              "[2000000 rows x 25 columns]"
            ]
          },
          "metadata": {
            "tags": []
          },
          "execution_count": 3
        }
      ]
    },
    {
      "cell_type": "code",
      "metadata": {
        "colab": {
          "base_uri": "https://localhost:8080/",
          "height": 773
        },
        "id": "hqFQHmJWhM95",
        "outputId": "8c10a690-6186-4f7f-e0bb-42b463f0ac60"
      },
      "source": [
        "df_train = pd.read_csv(train)\n",
        "df_train = df_train.drop('Unnamed: 0',axis=1)\n",
        "df_train"
      ],
      "execution_count": 4,
      "outputs": [
        {
          "output_type": "execute_result",
          "data": {
            "text/html": [
              "<div>\n",
              "<style scoped>\n",
              "    .dataframe tbody tr th:only-of-type {\n",
              "        vertical-align: middle;\n",
              "    }\n",
              "\n",
              "    .dataframe tbody tr th {\n",
              "        vertical-align: top;\n",
              "    }\n",
              "\n",
              "    .dataframe thead th {\n",
              "        text-align: right;\n",
              "    }\n",
              "</style>\n",
              "<table border=\"1\" class=\"dataframe\">\n",
              "  <thead>\n",
              "    <tr style=\"text-align: right;\">\n",
              "      <th></th>\n",
              "      <th>srch_id</th>\n",
              "      <th>date_time</th>\n",
              "      <th>site_id</th>\n",
              "      <th>visitor_location_country_id</th>\n",
              "      <th>visitor_hist_starrating</th>\n",
              "      <th>visitor_hist_adr_usd</th>\n",
              "      <th>prop_country_id</th>\n",
              "      <th>prop_id</th>\n",
              "      <th>prop_starrating</th>\n",
              "      <th>prop_review_score</th>\n",
              "      <th>prop_brand_bool</th>\n",
              "      <th>prop_location_score1</th>\n",
              "      <th>prop_location_score2</th>\n",
              "      <th>prop_log_historical_price</th>\n",
              "      <th>price_usd</th>\n",
              "      <th>promotion_flag</th>\n",
              "      <th>srch_destination_id</th>\n",
              "      <th>srch_length_of_stay</th>\n",
              "      <th>srch_booking_window</th>\n",
              "      <th>srch_adults_count</th>\n",
              "      <th>srch_children_count</th>\n",
              "      <th>srch_room_count</th>\n",
              "      <th>srch_saturday_night_bool</th>\n",
              "      <th>srch_query_affinity_score</th>\n",
              "      <th>orig_destination_distance</th>\n",
              "    </tr>\n",
              "  </thead>\n",
              "  <tbody>\n",
              "    <tr>\n",
              "      <th>0</th>\n",
              "      <td>31</td>\n",
              "      <td>2013-05-28 22:05:02</td>\n",
              "      <td>24</td>\n",
              "      <td>216</td>\n",
              "      <td>0.0</td>\n",
              "      <td>0.0</td>\n",
              "      <td>15</td>\n",
              "      <td>122877</td>\n",
              "      <td>1</td>\n",
              "      <td>1.5</td>\n",
              "      <td>0</td>\n",
              "      <td>4.04</td>\n",
              "      <td>0.0000</td>\n",
              "      <td>5.10</td>\n",
              "      <td>73.84</td>\n",
              "      <td>0</td>\n",
              "      <td>19144</td>\n",
              "      <td>1</td>\n",
              "      <td>214</td>\n",
              "      <td>2</td>\n",
              "      <td>2</td>\n",
              "      <td>1</td>\n",
              "      <td>1</td>\n",
              "      <td>0.0</td>\n",
              "      <td>0.00</td>\n",
              "    </tr>\n",
              "    <tr>\n",
              "      <th>1</th>\n",
              "      <td>43</td>\n",
              "      <td>2013-01-09 16:45:45</td>\n",
              "      <td>5</td>\n",
              "      <td>219</td>\n",
              "      <td>0.0</td>\n",
              "      <td>0.0</td>\n",
              "      <td>219</td>\n",
              "      <td>77411</td>\n",
              "      <td>1</td>\n",
              "      <td>3.0</td>\n",
              "      <td>0</td>\n",
              "      <td>3.43</td>\n",
              "      <td>0.0000</td>\n",
              "      <td>4.99</td>\n",
              "      <td>50.00</td>\n",
              "      <td>0</td>\n",
              "      <td>15066</td>\n",
              "      <td>1</td>\n",
              "      <td>11</td>\n",
              "      <td>2</td>\n",
              "      <td>0</td>\n",
              "      <td>1</td>\n",
              "      <td>0</td>\n",
              "      <td>0.0</td>\n",
              "      <td>113.88</td>\n",
              "    </tr>\n",
              "    <tr>\n",
              "      <th>2</th>\n",
              "      <td>126</td>\n",
              "      <td>2013-03-30 11:31:29</td>\n",
              "      <td>32</td>\n",
              "      <td>220</td>\n",
              "      <td>0.0</td>\n",
              "      <td>0.0</td>\n",
              "      <td>221</td>\n",
              "      <td>3526</td>\n",
              "      <td>1</td>\n",
              "      <td>4.0</td>\n",
              "      <td>0</td>\n",
              "      <td>4.44</td>\n",
              "      <td>0.2020</td>\n",
              "      <td>4.64</td>\n",
              "      <td>79.18</td>\n",
              "      <td>0</td>\n",
              "      <td>27953</td>\n",
              "      <td>2</td>\n",
              "      <td>117</td>\n",
              "      <td>4</td>\n",
              "      <td>0</td>\n",
              "      <td>2</td>\n",
              "      <td>1</td>\n",
              "      <td>0.0</td>\n",
              "      <td>0.00</td>\n",
              "    </tr>\n",
              "    <tr>\n",
              "      <th>3</th>\n",
              "      <td>136</td>\n",
              "      <td>2013-04-04 18:43:37</td>\n",
              "      <td>5</td>\n",
              "      <td>219</td>\n",
              "      <td>0.0</td>\n",
              "      <td>0.0</td>\n",
              "      <td>219</td>\n",
              "      <td>75245</td>\n",
              "      <td>1</td>\n",
              "      <td>2.5</td>\n",
              "      <td>1</td>\n",
              "      <td>2.71</td>\n",
              "      <td>0.1021</td>\n",
              "      <td>4.07</td>\n",
              "      <td>40.00</td>\n",
              "      <td>0</td>\n",
              "      <td>6767</td>\n",
              "      <td>2</td>\n",
              "      <td>15</td>\n",
              "      <td>2</td>\n",
              "      <td>2</td>\n",
              "      <td>1</td>\n",
              "      <td>1</td>\n",
              "      <td>0.0</td>\n",
              "      <td>164.24</td>\n",
              "    </tr>\n",
              "    <tr>\n",
              "      <th>4</th>\n",
              "      <td>168</td>\n",
              "      <td>2013-01-04 10:27:26</td>\n",
              "      <td>12</td>\n",
              "      <td>99</td>\n",
              "      <td>0.0</td>\n",
              "      <td>0.0</td>\n",
              "      <td>132</td>\n",
              "      <td>13108</td>\n",
              "      <td>1</td>\n",
              "      <td>2.5</td>\n",
              "      <td>0</td>\n",
              "      <td>5.72</td>\n",
              "      <td>0.7098</td>\n",
              "      <td>4.72</td>\n",
              "      <td>39.21</td>\n",
              "      <td>0</td>\n",
              "      <td>27231</td>\n",
              "      <td>1</td>\n",
              "      <td>5</td>\n",
              "      <td>1</td>\n",
              "      <td>0</td>\n",
              "      <td>1</td>\n",
              "      <td>0</td>\n",
              "      <td>0.0</td>\n",
              "      <td>0.00</td>\n",
              "    </tr>\n",
              "    <tr>\n",
              "      <th>...</th>\n",
              "      <td>...</td>\n",
              "      <td>...</td>\n",
              "      <td>...</td>\n",
              "      <td>...</td>\n",
              "      <td>...</td>\n",
              "      <td>...</td>\n",
              "      <td>...</td>\n",
              "      <td>...</td>\n",
              "      <td>...</td>\n",
              "      <td>...</td>\n",
              "      <td>...</td>\n",
              "      <td>...</td>\n",
              "      <td>...</td>\n",
              "      <td>...</td>\n",
              "      <td>...</td>\n",
              "      <td>...</td>\n",
              "      <td>...</td>\n",
              "      <td>...</td>\n",
              "      <td>...</td>\n",
              "      <td>...</td>\n",
              "      <td>...</td>\n",
              "      <td>...</td>\n",
              "      <td>...</td>\n",
              "      <td>...</td>\n",
              "      <td>...</td>\n",
              "    </tr>\n",
              "    <tr>\n",
              "      <th>3039064</th>\n",
              "      <td>665566</td>\n",
              "      <td>2013-05-16 13:43:31</td>\n",
              "      <td>24</td>\n",
              "      <td>219</td>\n",
              "      <td>0.0</td>\n",
              "      <td>0.0</td>\n",
              "      <td>219</td>\n",
              "      <td>99741</td>\n",
              "      <td>3</td>\n",
              "      <td>4.5</td>\n",
              "      <td>1</td>\n",
              "      <td>1.79</td>\n",
              "      <td>0.0013</td>\n",
              "      <td>5.27</td>\n",
              "      <td>148.14</td>\n",
              "      <td>0</td>\n",
              "      <td>9402</td>\n",
              "      <td>3</td>\n",
              "      <td>84</td>\n",
              "      <td>3</td>\n",
              "      <td>2</td>\n",
              "      <td>1</td>\n",
              "      <td>1</td>\n",
              "      <td>0.0</td>\n",
              "      <td>2382.05</td>\n",
              "    </tr>\n",
              "    <tr>\n",
              "      <th>3039065</th>\n",
              "      <td>665566</td>\n",
              "      <td>2013-05-16 13:43:31</td>\n",
              "      <td>24</td>\n",
              "      <td>219</td>\n",
              "      <td>0.0</td>\n",
              "      <td>0.0</td>\n",
              "      <td>219</td>\n",
              "      <td>104685</td>\n",
              "      <td>3</td>\n",
              "      <td>4.5</td>\n",
              "      <td>1</td>\n",
              "      <td>1.79</td>\n",
              "      <td>0.0009</td>\n",
              "      <td>5.27</td>\n",
              "      <td>144.26</td>\n",
              "      <td>0</td>\n",
              "      <td>9402</td>\n",
              "      <td>3</td>\n",
              "      <td>84</td>\n",
              "      <td>3</td>\n",
              "      <td>2</td>\n",
              "      <td>1</td>\n",
              "      <td>1</td>\n",
              "      <td>0.0</td>\n",
              "      <td>2382.09</td>\n",
              "    </tr>\n",
              "    <tr>\n",
              "      <th>3039066</th>\n",
              "      <td>665566</td>\n",
              "      <td>2013-05-16 13:43:31</td>\n",
              "      <td>24</td>\n",
              "      <td>219</td>\n",
              "      <td>0.0</td>\n",
              "      <td>0.0</td>\n",
              "      <td>219</td>\n",
              "      <td>109868</td>\n",
              "      <td>4</td>\n",
              "      <td>4.0</td>\n",
              "      <td>1</td>\n",
              "      <td>3.00</td>\n",
              "      <td>0.0088</td>\n",
              "      <td>5.44</td>\n",
              "      <td>174.23</td>\n",
              "      <td>0</td>\n",
              "      <td>9402</td>\n",
              "      <td>3</td>\n",
              "      <td>84</td>\n",
              "      <td>3</td>\n",
              "      <td>2</td>\n",
              "      <td>1</td>\n",
              "      <td>1</td>\n",
              "      <td>0.0</td>\n",
              "      <td>2390.21</td>\n",
              "    </tr>\n",
              "    <tr>\n",
              "      <th>3039067</th>\n",
              "      <td>665566</td>\n",
              "      <td>2013-05-16 13:43:31</td>\n",
              "      <td>24</td>\n",
              "      <td>219</td>\n",
              "      <td>0.0</td>\n",
              "      <td>0.0</td>\n",
              "      <td>219</td>\n",
              "      <td>117582</td>\n",
              "      <td>4</td>\n",
              "      <td>4.5</td>\n",
              "      <td>1</td>\n",
              "      <td>4.54</td>\n",
              "      <td>0.0226</td>\n",
              "      <td>5.38</td>\n",
              "      <td>412.15</td>\n",
              "      <td>0</td>\n",
              "      <td>9402</td>\n",
              "      <td>3</td>\n",
              "      <td>84</td>\n",
              "      <td>3</td>\n",
              "      <td>2</td>\n",
              "      <td>1</td>\n",
              "      <td>1</td>\n",
              "      <td>0.0</td>\n",
              "      <td>2390.00</td>\n",
              "    </tr>\n",
              "    <tr>\n",
              "      <th>3039068</th>\n",
              "      <td>665566</td>\n",
              "      <td>2013-05-16 13:43:31</td>\n",
              "      <td>24</td>\n",
              "      <td>219</td>\n",
              "      <td>0.0</td>\n",
              "      <td>0.0</td>\n",
              "      <td>219</td>\n",
              "      <td>131352</td>\n",
              "      <td>3</td>\n",
              "      <td>4.0</td>\n",
              "      <td>0</td>\n",
              "      <td>5.09</td>\n",
              "      <td>0.0537</td>\n",
              "      <td>5.14</td>\n",
              "      <td>241.08</td>\n",
              "      <td>0</td>\n",
              "      <td>9402</td>\n",
              "      <td>3</td>\n",
              "      <td>84</td>\n",
              "      <td>3</td>\n",
              "      <td>2</td>\n",
              "      <td>1</td>\n",
              "      <td>1</td>\n",
              "      <td>0.0</td>\n",
              "      <td>2389.60</td>\n",
              "    </tr>\n",
              "  </tbody>\n",
              "</table>\n",
              "<p>3039069 rows × 25 columns</p>\n",
              "</div>"
            ],
            "text/plain": [
              "         srch_id  ... orig_destination_distance\n",
              "0             31  ...                      0.00\n",
              "1             43  ...                    113.88\n",
              "2            126  ...                      0.00\n",
              "3            136  ...                    164.24\n",
              "4            168  ...                      0.00\n",
              "...          ...  ...                       ...\n",
              "3039064   665566  ...                   2382.05\n",
              "3039065   665566  ...                   2382.09\n",
              "3039066   665566  ...                   2390.21\n",
              "3039067   665566  ...                   2390.00\n",
              "3039068   665566  ...                   2389.60\n",
              "\n",
              "[3039069 rows x 25 columns]"
            ]
          },
          "metadata": {
            "tags": []
          },
          "execution_count": 4
        }
      ]
    },
    {
      "cell_type": "code",
      "metadata": {
        "colab": {
          "base_uri": "https://localhost:8080/",
          "height": 417
        },
        "id": "tK3aPHmMpIsl",
        "outputId": "4e951e8d-e5d3-4bdc-990f-e2a73fe848cb"
      },
      "source": [
        "df_train.iloc[:,8:16]"
      ],
      "execution_count": 5,
      "outputs": [
        {
          "output_type": "execute_result",
          "data": {
            "text/html": [
              "<div>\n",
              "<style scoped>\n",
              "    .dataframe tbody tr th:only-of-type {\n",
              "        vertical-align: middle;\n",
              "    }\n",
              "\n",
              "    .dataframe tbody tr th {\n",
              "        vertical-align: top;\n",
              "    }\n",
              "\n",
              "    .dataframe thead th {\n",
              "        text-align: right;\n",
              "    }\n",
              "</style>\n",
              "<table border=\"1\" class=\"dataframe\">\n",
              "  <thead>\n",
              "    <tr style=\"text-align: right;\">\n",
              "      <th></th>\n",
              "      <th>prop_starrating</th>\n",
              "      <th>prop_review_score</th>\n",
              "      <th>prop_brand_bool</th>\n",
              "      <th>prop_location_score1</th>\n",
              "      <th>prop_location_score2</th>\n",
              "      <th>prop_log_historical_price</th>\n",
              "      <th>price_usd</th>\n",
              "      <th>promotion_flag</th>\n",
              "    </tr>\n",
              "  </thead>\n",
              "  <tbody>\n",
              "    <tr>\n",
              "      <th>0</th>\n",
              "      <td>1</td>\n",
              "      <td>1.5</td>\n",
              "      <td>0</td>\n",
              "      <td>4.04</td>\n",
              "      <td>0.0000</td>\n",
              "      <td>5.10</td>\n",
              "      <td>73.84</td>\n",
              "      <td>0</td>\n",
              "    </tr>\n",
              "    <tr>\n",
              "      <th>1</th>\n",
              "      <td>1</td>\n",
              "      <td>3.0</td>\n",
              "      <td>0</td>\n",
              "      <td>3.43</td>\n",
              "      <td>0.0000</td>\n",
              "      <td>4.99</td>\n",
              "      <td>50.00</td>\n",
              "      <td>0</td>\n",
              "    </tr>\n",
              "    <tr>\n",
              "      <th>2</th>\n",
              "      <td>1</td>\n",
              "      <td>4.0</td>\n",
              "      <td>0</td>\n",
              "      <td>4.44</td>\n",
              "      <td>0.2020</td>\n",
              "      <td>4.64</td>\n",
              "      <td>79.18</td>\n",
              "      <td>0</td>\n",
              "    </tr>\n",
              "    <tr>\n",
              "      <th>3</th>\n",
              "      <td>1</td>\n",
              "      <td>2.5</td>\n",
              "      <td>1</td>\n",
              "      <td>2.71</td>\n",
              "      <td>0.1021</td>\n",
              "      <td>4.07</td>\n",
              "      <td>40.00</td>\n",
              "      <td>0</td>\n",
              "    </tr>\n",
              "    <tr>\n",
              "      <th>4</th>\n",
              "      <td>1</td>\n",
              "      <td>2.5</td>\n",
              "      <td>0</td>\n",
              "      <td>5.72</td>\n",
              "      <td>0.7098</td>\n",
              "      <td>4.72</td>\n",
              "      <td>39.21</td>\n",
              "      <td>0</td>\n",
              "    </tr>\n",
              "    <tr>\n",
              "      <th>...</th>\n",
              "      <td>...</td>\n",
              "      <td>...</td>\n",
              "      <td>...</td>\n",
              "      <td>...</td>\n",
              "      <td>...</td>\n",
              "      <td>...</td>\n",
              "      <td>...</td>\n",
              "      <td>...</td>\n",
              "    </tr>\n",
              "    <tr>\n",
              "      <th>3039064</th>\n",
              "      <td>3</td>\n",
              "      <td>4.5</td>\n",
              "      <td>1</td>\n",
              "      <td>1.79</td>\n",
              "      <td>0.0013</td>\n",
              "      <td>5.27</td>\n",
              "      <td>148.14</td>\n",
              "      <td>0</td>\n",
              "    </tr>\n",
              "    <tr>\n",
              "      <th>3039065</th>\n",
              "      <td>3</td>\n",
              "      <td>4.5</td>\n",
              "      <td>1</td>\n",
              "      <td>1.79</td>\n",
              "      <td>0.0009</td>\n",
              "      <td>5.27</td>\n",
              "      <td>144.26</td>\n",
              "      <td>0</td>\n",
              "    </tr>\n",
              "    <tr>\n",
              "      <th>3039066</th>\n",
              "      <td>4</td>\n",
              "      <td>4.0</td>\n",
              "      <td>1</td>\n",
              "      <td>3.00</td>\n",
              "      <td>0.0088</td>\n",
              "      <td>5.44</td>\n",
              "      <td>174.23</td>\n",
              "      <td>0</td>\n",
              "    </tr>\n",
              "    <tr>\n",
              "      <th>3039067</th>\n",
              "      <td>4</td>\n",
              "      <td>4.5</td>\n",
              "      <td>1</td>\n",
              "      <td>4.54</td>\n",
              "      <td>0.0226</td>\n",
              "      <td>5.38</td>\n",
              "      <td>412.15</td>\n",
              "      <td>0</td>\n",
              "    </tr>\n",
              "    <tr>\n",
              "      <th>3039068</th>\n",
              "      <td>3</td>\n",
              "      <td>4.0</td>\n",
              "      <td>0</td>\n",
              "      <td>5.09</td>\n",
              "      <td>0.0537</td>\n",
              "      <td>5.14</td>\n",
              "      <td>241.08</td>\n",
              "      <td>0</td>\n",
              "    </tr>\n",
              "  </tbody>\n",
              "</table>\n",
              "<p>3039069 rows × 8 columns</p>\n",
              "</div>"
            ],
            "text/plain": [
              "         prop_starrating  prop_review_score  ...  price_usd  promotion_flag\n",
              "0                      1                1.5  ...      73.84               0\n",
              "1                      1                3.0  ...      50.00               0\n",
              "2                      1                4.0  ...      79.18               0\n",
              "3                      1                2.5  ...      40.00               0\n",
              "4                      1                2.5  ...      39.21               0\n",
              "...                  ...                ...  ...        ...             ...\n",
              "3039064                3                4.5  ...     148.14               0\n",
              "3039065                3                4.5  ...     144.26               0\n",
              "3039066                4                4.0  ...     174.23               0\n",
              "3039067                4                4.5  ...     412.15               0\n",
              "3039068                3                4.0  ...     241.08               0\n",
              "\n",
              "[3039069 rows x 8 columns]"
            ]
          },
          "metadata": {
            "tags": []
          },
          "execution_count": 5
        }
      ]
    },
    {
      "cell_type": "code",
      "metadata": {
        "colab": {
          "base_uri": "https://localhost:8080/"
        },
        "id": "hXukj-SUjkLx",
        "outputId": "71f56bbc-1f25-4b5a-d7b2-c205d08d791d"
      },
      "source": [
        "X_train = np.array(df_train.iloc[:, [9,11,13]])\n",
        "X_test = np.array(df_test.iloc[:, [9,11,13]])\n",
        "Y_train = np.array(df_train.iloc[:, 8])\n",
        "Y_train = Y_train.ravel()\n",
        "Y_test = np.array(df_test.iloc[:, 8])\n",
        "Y_test = Y_test.ravel()\n",
        "print(X_train.shape)\n",
        "print(X_test.shape)\n",
        "print(Y_train.shape)\n",
        "print(Y_test.shape)"
      ],
      "execution_count": 6,
      "outputs": [
        {
          "output_type": "stream",
          "text": [
            "(3039069, 3)\n",
            "(2000000, 3)\n",
            "(3039069,)\n",
            "(2000000,)\n"
          ],
          "name": "stdout"
        }
      ]
    },
    {
      "cell_type": "code",
      "metadata": {
        "id": "vSVNOuoaSPLO"
      },
      "source": [
        "GNB = GaussianNB()"
      ],
      "execution_count": 7,
      "outputs": []
    },
    {
      "cell_type": "code",
      "metadata": {
        "id": "07e_V4RJV3KL",
        "colab": {
          "base_uri": "https://localhost:8080/"
        },
        "outputId": "8cdf3645-be11-49ce-843d-5e4eaeae241d"
      },
      "source": [
        "GNB.fit(X_train, Y_train)"
      ],
      "execution_count": 8,
      "outputs": [
        {
          "output_type": "execute_result",
          "data": {
            "text/plain": [
              "GaussianNB(priors=None, var_smoothing=1e-09)"
            ]
          },
          "metadata": {
            "tags": []
          },
          "execution_count": 8
        }
      ]
    },
    {
      "cell_type": "code",
      "metadata": {
        "id": "lh9qzjEfi6zw",
        "colab": {
          "base_uri": "https://localhost:8080/"
        },
        "outputId": "4e242ede-e287-4a99-c9ab-5a4a93a519ae"
      },
      "source": [
        "GNB.score(X_train, Y_train)"
      ],
      "execution_count": 9,
      "outputs": [
        {
          "output_type": "execute_result",
          "data": {
            "text/plain": [
              "0.5977527986366877"
            ]
          },
          "metadata": {
            "tags": []
          },
          "execution_count": 9
        }
      ]
    },
    {
      "cell_type": "code",
      "metadata": {
        "id": "T1UXMgMokqzS",
        "colab": {
          "base_uri": "https://localhost:8080/"
        },
        "outputId": "3fe96b0e-5b37-42e1-b1c2-eb788ea51987"
      },
      "source": [
        "GNB.score(X_test, Y_test)"
      ],
      "execution_count": 10,
      "outputs": [
        {
          "output_type": "execute_result",
          "data": {
            "text/plain": [
              "0.59806"
            ]
          },
          "metadata": {
            "tags": []
          },
          "execution_count": 10
        }
      ]
    },
    {
      "cell_type": "code",
      "metadata": {
        "colab": {
          "base_uri": "https://localhost:8080/"
        },
        "id": "djN-AchF24lQ",
        "outputId": "969fcb1a-02fc-4b49-9f12-27b1261b893f"
      },
      "source": [
        "expected = Y_test\n",
        "predicted = GNB.predict(X_test)\n",
        "print(metrics.classification_report(expected, predicted))"
      ],
      "execution_count": 11,
      "outputs": [
        {
          "output_type": "stream",
          "text": [
            "              precision    recall  f1-score   support\n",
            "\n",
            "           1       0.16      0.03      0.06     16200\n",
            "           2       0.65      0.61      0.63    362079\n",
            "           3       0.60      0.66      0.63    798454\n",
            "           4       0.58      0.57      0.58    647632\n",
            "           5       0.56      0.42      0.48    175635\n",
            "\n",
            "    accuracy                           0.60   2000000\n",
            "   macro avg       0.51      0.46      0.47   2000000\n",
            "weighted avg       0.60      0.60      0.59   2000000\n",
            "\n"
          ],
          "name": "stdout"
        }
      ]
    },
    {
      "cell_type": "code",
      "metadata": {
        "id": "mBVOZYZu4I7u"
      },
      "source": [
        "SMT = SMOTE(ratio='auto', kind='regular')"
      ],
      "execution_count": 14,
      "outputs": []
    },
    {
      "cell_type": "code",
      "metadata": {
        "colab": {
          "base_uri": "https://localhost:8080/"
        },
        "id": "Yv7m9iQs4be8",
        "outputId": "9fdb2f3b-c3e7-4d07-8fa4-69a10481b254"
      },
      "source": [
        "X_resampled, Y_resampled = SMT.fit_sample(X_train,list(Y_train))"
      ],
      "execution_count": 15,
      "outputs": [
        {
          "output_type": "stream",
          "text": [
            "/usr/local/lib/python3.7/dist-packages/sklearn/utils/deprecation.py:87: FutureWarning: Function safe_indexing is deprecated; safe_indexing is deprecated in version 0.22 and will be removed in version 0.24.\n",
            "  warnings.warn(msg, category=FutureWarning)\n",
            "/usr/local/lib/python3.7/dist-packages/sklearn/utils/deprecation.py:87: FutureWarning: Function safe_indexing is deprecated; safe_indexing is deprecated in version 0.22 and will be removed in version 0.24.\n",
            "  warnings.warn(msg, category=FutureWarning)\n",
            "/usr/local/lib/python3.7/dist-packages/sklearn/utils/deprecation.py:87: FutureWarning: Function safe_indexing is deprecated; safe_indexing is deprecated in version 0.22 and will be removed in version 0.24.\n",
            "  warnings.warn(msg, category=FutureWarning)\n",
            "/usr/local/lib/python3.7/dist-packages/sklearn/utils/deprecation.py:87: FutureWarning: Function safe_indexing is deprecated; safe_indexing is deprecated in version 0.22 and will be removed in version 0.24.\n",
            "  warnings.warn(msg, category=FutureWarning)\n"
          ],
          "name": "stderr"
        }
      ]
    },
    {
      "cell_type": "code",
      "metadata": {
        "colab": {
          "base_uri": "https://localhost:8080/"
        },
        "id": "V0QsCI5L4ilR",
        "outputId": "de63605b-4c5d-46bc-89c5-ae9995fd182e"
      },
      "source": [
        "GNB.fit(X_resampled, Y_resampled)"
      ],
      "execution_count": 16,
      "outputs": [
        {
          "output_type": "execute_result",
          "data": {
            "text/plain": [
              "GaussianNB(priors=None, var_smoothing=1e-09)"
            ]
          },
          "metadata": {
            "tags": []
          },
          "execution_count": 16
        }
      ]
    },
    {
      "cell_type": "code",
      "metadata": {
        "colab": {
          "base_uri": "https://localhost:8080/"
        },
        "id": "iPBl-6-a5rGB",
        "outputId": "d9cbf614-11f2-42c3-8a23-ccf89569b10f"
      },
      "source": [
        "GNB.score(X_resampled, Y_resampled)"
      ],
      "execution_count": 20,
      "outputs": [
        {
          "output_type": "execute_result",
          "data": {
            "text/plain": [
              "0.5425553889611958"
            ]
          },
          "metadata": {
            "tags": []
          },
          "execution_count": 20
        }
      ]
    },
    {
      "cell_type": "code",
      "metadata": {
        "colab": {
          "base_uri": "https://localhost:8080/"
        },
        "id": "8URrZIlO5kC2",
        "outputId": "df0b6d0e-90e4-40ea-87bd-7f1bffe88270"
      },
      "source": [
        "GNB.score(X_train, Y_train)"
      ],
      "execution_count": 18,
      "outputs": [
        {
          "output_type": "execute_result",
          "data": {
            "text/plain": [
              "0.507678831905429"
            ]
          },
          "metadata": {
            "tags": []
          },
          "execution_count": 18
        }
      ]
    },
    {
      "cell_type": "code",
      "metadata": {
        "colab": {
          "base_uri": "https://localhost:8080/"
        },
        "id": "drPElpMX5ltJ",
        "outputId": "98dffeee-5f94-40be-a041-b354c7e1b0be"
      },
      "source": [
        "GNB.score(X_test, Y_test)"
      ],
      "execution_count": 19,
      "outputs": [
        {
          "output_type": "execute_result",
          "data": {
            "text/plain": [
              "0.5081735"
            ]
          },
          "metadata": {
            "tags": []
          },
          "execution_count": 19
        }
      ]
    },
    {
      "cell_type": "code",
      "metadata": {
        "colab": {
          "base_uri": "https://localhost:8080/"
        },
        "id": "wdKK-H6f4prW",
        "outputId": "b8ad1bfd-9df7-4ea4-e63d-eb90e4de2eac"
      },
      "source": [
        "expected = Y_resampled\n",
        "predicted = GNB.predict(X_resampled)\n",
        "print(metrics.classification_report(expected, predicted))"
      ],
      "execution_count": 17,
      "outputs": [
        {
          "output_type": "stream",
          "text": [
            "              precision    recall  f1-score   support\n",
            "\n",
            "           1       0.67      0.46      0.54   1213193\n",
            "           2       0.51      0.63      0.57   1213193\n",
            "           3       0.47      0.52      0.49   1213193\n",
            "           4       0.44      0.36      0.40   1213193\n",
            "           5       0.65      0.74      0.69   1213193\n",
            "\n",
            "    accuracy                           0.54   6065965\n",
            "   macro avg       0.55      0.54      0.54   6065965\n",
            "weighted avg       0.55      0.54      0.54   6065965\n",
            "\n"
          ],
          "name": "stdout"
        }
      ]
    },
    {
      "cell_type": "code",
      "metadata": {
        "id": "HlWeRyy0f_Dw"
      },
      "source": [
        "P_GNB = GaussianNB(priors=[1/21,4/21,8/21,6/21,2/21])"
      ],
      "execution_count": null,
      "outputs": []
    },
    {
      "cell_type": "code",
      "metadata": {
        "colab": {
          "base_uri": "https://localhost:8080/"
        },
        "id": "AJ6LgWudeYKm",
        "outputId": "0c278876-21c1-4e39-83bd-126457b1f542"
      },
      "source": [
        "P_GNB.fit(X_train, Y_train)"
      ],
      "execution_count": null,
      "outputs": [
        {
          "output_type": "execute_result",
          "data": {
            "text/plain": [
              "GaussianNB(priors=[0.047619047619047616, 0.19047619047619047,\n",
              "                   0.38095238095238093, 0.2857142857142857,\n",
              "                   0.09523809523809523],\n",
              "           var_smoothing=1e-09)"
            ]
          },
          "metadata": {
            "tags": []
          },
          "execution_count": 100
        }
      ]
    },
    {
      "cell_type": "code",
      "metadata": {
        "colab": {
          "base_uri": "https://localhost:8080/"
        },
        "id": "ncpW7czCfWCS",
        "outputId": "80451e91-f532-4ddc-b350-afec409316ec"
      },
      "source": [
        "P_GNB.score(X_train, Y_train)"
      ],
      "execution_count": null,
      "outputs": [
        {
          "output_type": "execute_result",
          "data": {
            "text/plain": [
              "0.5865904986033552"
            ]
          },
          "metadata": {
            "tags": []
          },
          "execution_count": 101
        }
      ]
    },
    {
      "cell_type": "code",
      "metadata": {
        "colab": {
          "base_uri": "https://localhost:8080/"
        },
        "id": "JqJeRYu1fXG4",
        "outputId": "c85c0f63-45a4-4905-f9e2-f68dc8a77425"
      },
      "source": [
        "P_GNB.score(X_test, Y_test)"
      ],
      "execution_count": null,
      "outputs": [
        {
          "output_type": "execute_result",
          "data": {
            "text/plain": [
              "0.586829"
            ]
          },
          "metadata": {
            "tags": []
          },
          "execution_count": 102
        }
      ]
    },
    {
      "cell_type": "code",
      "metadata": {
        "id": "VCEzaEcoADtS"
      },
      "source": [
        "MNB = MultinomialNB()"
      ],
      "execution_count": null,
      "outputs": []
    },
    {
      "cell_type": "code",
      "metadata": {
        "colab": {
          "base_uri": "https://localhost:8080/"
        },
        "id": "x7mOimqHAJ3h",
        "outputId": "a1861268-2546-47ad-b337-2f2b52cdd72c"
      },
      "source": [
        "MNB.fit(X_train, Y_train)"
      ],
      "execution_count": null,
      "outputs": [
        {
          "output_type": "execute_result",
          "data": {
            "text/plain": [
              "MultinomialNB(alpha=1.0, class_prior=None, fit_prior=True)"
            ]
          },
          "metadata": {
            "tags": []
          },
          "execution_count": 71
        }
      ]
    },
    {
      "cell_type": "code",
      "metadata": {
        "colab": {
          "base_uri": "https://localhost:8080/"
        },
        "id": "KyUuGnxnAL9i",
        "outputId": "9039be9f-bdec-470c-9a89-42777f77b313"
      },
      "source": [
        "MNB.score(X_train, Y_train)"
      ],
      "execution_count": null,
      "outputs": [
        {
          "output_type": "execute_result",
          "data": {
            "text/plain": [
              "0.41769897294204245"
            ]
          },
          "metadata": {
            "tags": []
          },
          "execution_count": 72
        }
      ]
    },
    {
      "cell_type": "code",
      "metadata": {
        "colab": {
          "base_uri": "https://localhost:8080/"
        },
        "id": "RAbuuEJrAm3v",
        "outputId": "6a379958-877e-48d6-f943-2753ad789fc5"
      },
      "source": [
        "MNB.score(X_test, Y_test)"
      ],
      "execution_count": null,
      "outputs": [
        {
          "output_type": "execute_result",
          "data": {
            "text/plain": [
              "0.4172895"
            ]
          },
          "metadata": {
            "tags": []
          },
          "execution_count": 73
        }
      ]
    },
    {
      "cell_type": "code",
      "metadata": {
        "id": "68dJ9sgDAid7"
      },
      "source": [
        "CNB = CategoricalNB()"
      ],
      "execution_count": null,
      "outputs": []
    },
    {
      "cell_type": "code",
      "metadata": {
        "colab": {
          "base_uri": "https://localhost:8080/"
        },
        "id": "8ct3LxktAh_v",
        "outputId": "8107e64c-8822-49f8-fdb2-c6461fd510d1"
      },
      "source": [
        "CNB.fit(X_train, Y_train)"
      ],
      "execution_count": null,
      "outputs": [
        {
          "output_type": "execute_result",
          "data": {
            "text/plain": [
              "CategoricalNB(alpha=1.0, class_prior=None, fit_prior=True)"
            ]
          },
          "metadata": {
            "tags": []
          },
          "execution_count": 75
        }
      ]
    },
    {
      "cell_type": "code",
      "metadata": {
        "colab": {
          "base_uri": "https://localhost:8080/"
        },
        "id": "RqatlZ8wAh2p",
        "outputId": "2ca2f976-a1db-453b-8a00-32d8664a4031"
      },
      "source": [
        "CNB.score(X_train, Y_train)"
      ],
      "execution_count": null,
      "outputs": [
        {
          "output_type": "execute_result",
          "data": {
            "text/plain": [
              "0.5642886028583096"
            ]
          },
          "metadata": {
            "tags": []
          },
          "execution_count": 76
        }
      ]
    },
    {
      "cell_type": "code",
      "metadata": {
        "colab": {
          "base_uri": "https://localhost:8080/"
        },
        "id": "gWoV0e9SAxDI",
        "outputId": "fdd09789-d296-45bf-c6f1-5fd1dcb3f801"
      },
      "source": [
        "CNB.score(X_test, Y_test)"
      ],
      "execution_count": null,
      "outputs": [
        {
          "output_type": "execute_result",
          "data": {
            "text/plain": [
              "0.5642835"
            ]
          },
          "metadata": {
            "tags": []
          },
          "execution_count": 77
        }
      ]
    },
    {
      "cell_type": "code",
      "metadata": {
        "id": "rA2kpaTrpcT1"
      },
      "source": [
        "CPNB = ComplementNB()"
      ],
      "execution_count": null,
      "outputs": []
    },
    {
      "cell_type": "code",
      "metadata": {
        "colab": {
          "base_uri": "https://localhost:8080/"
        },
        "id": "Ey5xweh6sQ7-",
        "outputId": "88401679-f114-4a5c-9697-77368233e684"
      },
      "source": [
        "CPNB.fit(X_train, Y_train)"
      ],
      "execution_count": null,
      "outputs": [
        {
          "output_type": "execute_result",
          "data": {
            "text/plain": [
              "ComplementNB(alpha=1.0, class_prior=None, fit_prior=True, norm=False)"
            ]
          },
          "metadata": {
            "tags": []
          },
          "execution_count": 79
        }
      ]
    },
    {
      "cell_type": "code",
      "metadata": {
        "colab": {
          "base_uri": "https://localhost:8080/"
        },
        "id": "ZdGaHoumsTgE",
        "outputId": "ad0adc0c-94ec-46bc-9d20-4a2a53117dcb"
      },
      "source": [
        "CPNB.score(X_train, Y_train)"
      ],
      "execution_count": null,
      "outputs": [
        {
          "output_type": "execute_result",
          "data": {
            "text/plain": [
              "0.4538192453017684"
            ]
          },
          "metadata": {
            "tags": []
          },
          "execution_count": 80
        }
      ]
    },
    {
      "cell_type": "code",
      "metadata": {
        "colab": {
          "base_uri": "https://localhost:8080/"
        },
        "id": "oPQIBJMksWvl",
        "outputId": "c24209dc-8484-47a6-c1f0-310bce7d435c"
      },
      "source": [
        "CPNB.score(X_test, Y_test)"
      ],
      "execution_count": null,
      "outputs": [
        {
          "output_type": "execute_result",
          "data": {
            "text/plain": [
              "0.453421"
            ]
          },
          "metadata": {
            "tags": []
          },
          "execution_count": 81
        }
      ]
    },
    {
      "cell_type": "code",
      "metadata": {
        "id": "cNVWSQPysZTn"
      },
      "source": [
        ""
      ],
      "execution_count": null,
      "outputs": []
    }
  ]
}